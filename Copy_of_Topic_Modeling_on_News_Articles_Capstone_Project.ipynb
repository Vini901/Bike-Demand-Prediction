{
  "nbformat": 4,
  "nbformat_minor": 0,
  "metadata": {
    "kernelspec": {
      "display_name": "Python 3",
      "language": "python",
      "name": "python3"
    },
    "language_info": {
      "codemirror_mode": {
        "name": "ipython",
        "version": 3
      },
      "file_extension": ".py",
      "mimetype": "text/x-python",
      "name": "python",
      "nbconvert_exporter": "python",
      "pygments_lexer": "ipython3",
      "version": "3.6.6"
    },
    "colab": {
      "name": "Copy of Topic Modeling on News Articles - Capstone Project.ipynb",
      "provenance": [],
      "collapsed_sections": [],
      "include_colab_link": true
    }
  },
  "cells": [
    {
      "cell_type": "markdown",
      "metadata": {
        "id": "view-in-github",
        "colab_type": "text"
      },
      "source": [
        "<a href=\"https://colab.research.google.com/github/Vini901/Supervised-Machine-Learning/blob/main/Copy_of_Topic_Modeling_on_News_Articles_Capstone_Project.ipynb\" target=\"_parent\"><img src=\"https://colab.research.google.com/assets/colab-badge.svg\" alt=\"Open In Colab\"/></a>"
      ]
    },
    {
      "cell_type": "markdown",
      "metadata": {
        "id": "tOGC-qoyhJeX"
      },
      "source": [
        "# <b><u> Project Title : Extraction/identification of major topics & themes discussed in news articles. </u></b>"
      ]
    },
    {
      "cell_type": "markdown",
      "metadata": {
        "id": "Y06xIdG26kRF"
      },
      "source": [
        "## <b> Problem Description </b>\n",
        "\n",
        "### In this project your task is to identify major themes/topics across a collection of BBC news articles. You can use clustering algorithms such as Latent Dirichlet Allocation (LDA), Latent Semantic Analysis (LSA) etc."
      ]
    },
    {
      "cell_type": "markdown",
      "metadata": {
        "id": "AlLxAtlziMbP"
      },
      "source": [
        "## <b> Data Description </b>\r\n",
        "\r\n",
        "### The dataset contains a set of news articles for each major segment consisting of business, entertainment, politics, sports and technology. You need to create an aggregate dataset of all the news articles and perform topic modeling on this dataset. Verify whether these topics correspond to the different tags available."
      ]
    },
    {
      "cell_type": "code",
      "metadata": {
        "colab": {
          "base_uri": "https://localhost:8080/"
        },
        "id": "1yz_9Tv_-KSS",
        "outputId": "a8ce32c5-20a5-4c85-d3e6-88f7a4003e99"
      },
      "source": [
        "from google.colab import drive\n",
        "drive.mount('/content/drive')"
      ],
      "execution_count": 1,
      "outputs": [
        {
          "output_type": "stream",
          "text": [
            "Mounted at /content/drive\n"
          ],
          "name": "stdout"
        }
      ]
    },
    {
      "cell_type": "code",
      "metadata": {
        "id": "vfkB0CUb-K8C"
      },
      "source": [
        "import pandas as pd\r\n",
        "import numpy as np\r\n",
        "import matplotlib.pyplot as plt\r\n",
        "import glob\r\n",
        "import seaborn as sns\r\n",
        "sns.set()"
      ],
      "execution_count": 29,
      "outputs": []
    },
    {
      "cell_type": "code",
      "metadata": {
        "id": "e45yOVmB-leE"
      },
      "source": [
        "datafiles='/content/drive/MyDrive/bbc'"
      ],
      "execution_count": 30,
      "outputs": []
    },
    {
      "cell_type": "code",
      "metadata": {
        "id": "CCiEgDhnSub8"
      },
      "source": [
        "bbc=['business','entertainment','politics','sport','tech']"
      ],
      "execution_count": 98,
      "outputs": []
    },
    {
      "cell_type": "code",
      "metadata": {
        "id": "JDe-oKYU_L9n"
      },
      "source": [
        "# get data file names\r\n",
        "\r\n",
        "df=pd.DataFrame({'news':[]})\r\n"
      ],
      "execution_count": 99,
      "outputs": []
    },
    {
      "cell_type": "code",
      "metadata": {
        "colab": {
          "base_uri": "https://localhost:8080/"
        },
        "id": "nxzvW1LtS7pu",
        "outputId": "0ff33496-d447-464a-e9e1-6c0f0cae8350"
      },
      "source": [
        "for i in bbc:\r\n",
        "  local_path = r'/content/drive/MyDrive/bbc/'+i\r\n",
        "  filenames = glob.glob(local_path + \"/*.txt\")\r\n",
        "  for filename in filenames:\r\n",
        "    print(filename)\r\n",
        "    s=pd.read_csv(filename, sep='\\t',header=None,names=['news'],encoding= 'unicode_escape',error_bad_lines=False,engine='python')\r\n",
        "    df=pd.concat([df,s],axis=0)"
      ],
      "execution_count": 109,
      "outputs": [
        {
          "output_type": "stream",
          "text": [
            "/content/drive/MyDrive/bbc/business/003.txt\n",
            "/content/drive/MyDrive/bbc/business/001.txt\n",
            "/content/drive/MyDrive/bbc/business/002.txt\n",
            "/content/drive/MyDrive/bbc/business/024.txt\n",
            "/content/drive/MyDrive/bbc/business/004.txt\n",
            "/content/drive/MyDrive/bbc/business/019.txt\n",
            "/content/drive/MyDrive/bbc/business/025.txt\n",
            "/content/drive/MyDrive/bbc/business/011.txt\n",
            "/content/drive/MyDrive/bbc/business/012.txt\n",
            "/content/drive/MyDrive/bbc/business/014.txt\n",
            "/content/drive/MyDrive/bbc/business/021.txt\n",
            "/content/drive/MyDrive/bbc/business/022.txt\n",
            "/content/drive/MyDrive/bbc/business/017.txt\n",
            "/content/drive/MyDrive/bbc/business/009.txt\n",
            "/content/drive/MyDrive/bbc/business/028.txt\n",
            "/content/drive/MyDrive/bbc/business/027.txt\n",
            "/content/drive/MyDrive/bbc/business/016.txt\n",
            "/content/drive/MyDrive/bbc/business/023.txt\n",
            "/content/drive/MyDrive/bbc/business/006.txt\n",
            "/content/drive/MyDrive/bbc/business/010.txt\n",
            "/content/drive/MyDrive/bbc/business/018.txt\n",
            "/content/drive/MyDrive/bbc/business/015.txt\n",
            "/content/drive/MyDrive/bbc/business/008.txt\n",
            "/content/drive/MyDrive/bbc/business/007.txt\n",
            "/content/drive/MyDrive/bbc/business/013.txt\n",
            "/content/drive/MyDrive/bbc/business/026.txt\n",
            "/content/drive/MyDrive/bbc/business/005.txt\n",
            "/content/drive/MyDrive/bbc/business/020.txt\n",
            "/content/drive/MyDrive/bbc/business/058.txt\n",
            "/content/drive/MyDrive/bbc/business/044.txt\n",
            "/content/drive/MyDrive/bbc/business/040.txt\n",
            "/content/drive/MyDrive/bbc/business/029.txt\n",
            "/content/drive/MyDrive/bbc/business/067.txt\n"
          ],
          "name": "stdout"
        },
        {
          "output_type": "stream",
          "text": [
            "Skipping line 17: '\t' expected after '\"'\n",
            "Skipping line 7: '\t' expected after '\"'\n",
            "Skipping line 9: '\t' expected after '\"'\n"
          ],
          "name": "stderr"
        },
        {
          "output_type": "stream",
          "text": [
            "/content/drive/MyDrive/bbc/business/042.txt\n",
            "/content/drive/MyDrive/bbc/business/038.txt\n",
            "/content/drive/MyDrive/bbc/business/063.txt\n",
            "/content/drive/MyDrive/bbc/business/032.txt\n",
            "/content/drive/MyDrive/bbc/business/039.txt\n",
            "/content/drive/MyDrive/bbc/business/053.txt\n",
            "/content/drive/MyDrive/bbc/business/071.txt\n",
            "/content/drive/MyDrive/bbc/business/031.txt\n",
            "/content/drive/MyDrive/bbc/business/036.txt\n",
            "/content/drive/MyDrive/bbc/business/072.txt\n",
            "/content/drive/MyDrive/bbc/business/046.txt\n",
            "/content/drive/MyDrive/bbc/business/054.txt\n",
            "/content/drive/MyDrive/bbc/business/047.txt\n",
            "/content/drive/MyDrive/bbc/business/052.txt\n",
            "/content/drive/MyDrive/bbc/business/061.txt\n",
            "/content/drive/MyDrive/bbc/business/037.txt\n",
            "/content/drive/MyDrive/bbc/business/050.txt\n",
            "/content/drive/MyDrive/bbc/business/041.txt\n",
            "/content/drive/MyDrive/bbc/business/066.txt\n",
            "/content/drive/MyDrive/bbc/business/043.txt\n",
            "/content/drive/MyDrive/bbc/business/064.txt\n",
            "/content/drive/MyDrive/bbc/business/059.txt\n",
            "/content/drive/MyDrive/bbc/business/065.txt\n",
            "/content/drive/MyDrive/bbc/business/035.txt\n",
            "/content/drive/MyDrive/bbc/business/070.txt\n",
            "/content/drive/MyDrive/bbc/business/068.txt\n",
            "/content/drive/MyDrive/bbc/business/033.txt\n",
            "/content/drive/MyDrive/bbc/business/056.txt\n",
            "/content/drive/MyDrive/bbc/business/034.txt\n",
            "/content/drive/MyDrive/bbc/business/055.txt\n"
          ],
          "name": "stdout"
        },
        {
          "output_type": "stream",
          "text": [
            "Skipping line 9: '\t' expected after '\"'\n",
            "Skipping line 7: '\t' expected after '\"'\n",
            "Skipping line 7: '\t' expected after '\"'\n",
            "Skipping line 7: '\t' expected after '\"'\n",
            "Skipping line 11: '\t' expected after '\"'\n",
            "Skipping line 11: '\t' expected after '\"'\n",
            "Skipping line 9: '\t' expected after '\"'\n"
          ],
          "name": "stderr"
        },
        {
          "output_type": "stream",
          "text": [
            "/content/drive/MyDrive/bbc/business/048.txt\n",
            "/content/drive/MyDrive/bbc/business/030.txt\n",
            "/content/drive/MyDrive/bbc/business/049.txt\n",
            "/content/drive/MyDrive/bbc/business/069.txt\n",
            "/content/drive/MyDrive/bbc/business/073.txt\n",
            "/content/drive/MyDrive/bbc/business/051.txt\n",
            "/content/drive/MyDrive/bbc/business/045.txt\n",
            "/content/drive/MyDrive/bbc/business/057.txt\n",
            "/content/drive/MyDrive/bbc/business/062.txt\n",
            "/content/drive/MyDrive/bbc/business/060.txt\n",
            "/content/drive/MyDrive/bbc/business/077.txt\n",
            "/content/drive/MyDrive/bbc/business/110.txt\n",
            "/content/drive/MyDrive/bbc/business/092.txt\n",
            "/content/drive/MyDrive/bbc/business/112.txt\n",
            "/content/drive/MyDrive/bbc/business/097.txt\n",
            "/content/drive/MyDrive/bbc/business/107.txt\n",
            "/content/drive/MyDrive/bbc/business/078.txt\n",
            "/content/drive/MyDrive/bbc/business/079.txt\n",
            "/content/drive/MyDrive/bbc/business/081.txt\n",
            "/content/drive/MyDrive/bbc/business/087.txt\n",
            "/content/drive/MyDrive/bbc/business/084.txt\n",
            "/content/drive/MyDrive/bbc/business/088.txt\n",
            "/content/drive/MyDrive/bbc/business/093.txt\n",
            "/content/drive/MyDrive/bbc/business/102.txt\n",
            "/content/drive/MyDrive/bbc/business/076.txt\n",
            "/content/drive/MyDrive/bbc/business/104.txt\n",
            "/content/drive/MyDrive/bbc/business/095.txt\n",
            "/content/drive/MyDrive/bbc/business/100.txt\n",
            "/content/drive/MyDrive/bbc/business/113.txt\n"
          ],
          "name": "stdout"
        },
        {
          "output_type": "stream",
          "text": [
            "Skipping line 9: '\t' expected after '\"'\n",
            "Skipping line 7: '\t' expected after '\"'\n",
            "Skipping line 7: '\t' expected after '\"'\n",
            "Skipping line 13: '\t' expected after '\"'\n"
          ],
          "name": "stderr"
        },
        {
          "output_type": "stream",
          "text": [
            "/content/drive/MyDrive/bbc/business/101.txt\n",
            "/content/drive/MyDrive/bbc/business/082.txt\n",
            "/content/drive/MyDrive/bbc/business/099.txt\n",
            "/content/drive/MyDrive/bbc/business/075.txt\n",
            "/content/drive/MyDrive/bbc/business/098.txt\n",
            "/content/drive/MyDrive/bbc/business/085.txt\n",
            "/content/drive/MyDrive/bbc/business/086.txt\n",
            "/content/drive/MyDrive/bbc/business/109.txt\n",
            "/content/drive/MyDrive/bbc/business/105.txt\n",
            "/content/drive/MyDrive/bbc/business/089.txt\n",
            "/content/drive/MyDrive/bbc/business/106.txt\n",
            "/content/drive/MyDrive/bbc/business/094.txt\n",
            "/content/drive/MyDrive/bbc/business/096.txt\n",
            "/content/drive/MyDrive/bbc/business/091.txt\n",
            "/content/drive/MyDrive/bbc/business/114.txt\n",
            "/content/drive/MyDrive/bbc/business/083.txt\n",
            "/content/drive/MyDrive/bbc/business/108.txt\n",
            "/content/drive/MyDrive/bbc/business/115.txt\n",
            "/content/drive/MyDrive/bbc/business/080.txt\n",
            "/content/drive/MyDrive/bbc/business/090.txt\n",
            "/content/drive/MyDrive/bbc/business/111.txt\n",
            "/content/drive/MyDrive/bbc/business/103.txt\n",
            "/content/drive/MyDrive/bbc/business/074.txt\n",
            "/content/drive/MyDrive/bbc/business/159.txt\n",
            "/content/drive/MyDrive/bbc/business/142.txt\n",
            "/content/drive/MyDrive/bbc/business/117.txt\n",
            "/content/drive/MyDrive/bbc/business/127.txt\n",
            "/content/drive/MyDrive/bbc/business/135.txt\n",
            "/content/drive/MyDrive/bbc/business/149.txt\n",
            "/content/drive/MyDrive/bbc/business/121.txt\n"
          ],
          "name": "stdout"
        },
        {
          "output_type": "stream",
          "text": [
            "Skipping line 9: '\t' expected after '\"'\n",
            "Skipping line 7: '\t' expected after '\"'\n",
            "Skipping line 9: '\t' expected after '\"'\n",
            "Skipping line 9: '\t' expected after '\"'\n",
            "Skipping line 15: '\t' expected after '\"'\n",
            "Skipping line 13: '\t' expected after '\"'\n",
            "Skipping line 15: '\t' expected after '\"'\n",
            "Skipping line 11: '\t' expected after '\"'\n",
            "Skipping line 7: '\t' expected after '\"'\n",
            "Skipping line 7: '\t' expected after '\"'\n"
          ],
          "name": "stderr"
        },
        {
          "output_type": "stream",
          "text": [
            "/content/drive/MyDrive/bbc/business/153.txt\n",
            "/content/drive/MyDrive/bbc/business/128.txt\n",
            "/content/drive/MyDrive/bbc/business/118.txt\n",
            "/content/drive/MyDrive/bbc/business/145.txt\n",
            "/content/drive/MyDrive/bbc/business/150.txt\n",
            "/content/drive/MyDrive/bbc/business/137.txt\n",
            "/content/drive/MyDrive/bbc/business/152.txt\n",
            "/content/drive/MyDrive/bbc/business/151.txt\n",
            "/content/drive/MyDrive/bbc/business/134.txt\n",
            "/content/drive/MyDrive/bbc/business/133.txt\n",
            "/content/drive/MyDrive/bbc/business/140.txt\n",
            "/content/drive/MyDrive/bbc/business/147.txt\n",
            "/content/drive/MyDrive/bbc/business/129.txt\n",
            "/content/drive/MyDrive/bbc/business/154.txt\n",
            "/content/drive/MyDrive/bbc/business/139.txt\n",
            "/content/drive/MyDrive/bbc/business/123.txt\n",
            "/content/drive/MyDrive/bbc/business/120.txt\n",
            "/content/drive/MyDrive/bbc/business/125.txt\n",
            "/content/drive/MyDrive/bbc/business/130.txt\n",
            "/content/drive/MyDrive/bbc/business/119.txt\n",
            "/content/drive/MyDrive/bbc/business/146.txt\n",
            "/content/drive/MyDrive/bbc/business/144.txt\n",
            "/content/drive/MyDrive/bbc/business/157.txt\n",
            "/content/drive/MyDrive/bbc/business/156.txt\n",
            "/content/drive/MyDrive/bbc/business/136.txt\n",
            "/content/drive/MyDrive/bbc/business/122.txt\n",
            "/content/drive/MyDrive/bbc/business/131.txt\n",
            "/content/drive/MyDrive/bbc/business/143.txt\n",
            "/content/drive/MyDrive/bbc/business/148.txt\n",
            "/content/drive/MyDrive/bbc/business/158.txt\n",
            "/content/drive/MyDrive/bbc/business/124.txt\n"
          ],
          "name": "stdout"
        },
        {
          "output_type": "stream",
          "text": [
            "Skipping line 17: '\t' expected after '\"'\n",
            "Skipping line 17: '\t' expected after '\"'\n",
            "Skipping line 7: '\t' expected after '\"'\n",
            "Skipping line 7: '\t' expected after '\"'\n",
            "Skipping line 9: '\t' expected after '\"'\n",
            "Skipping line 11: '\t' expected after '\"'\n"
          ],
          "name": "stderr"
        },
        {
          "output_type": "stream",
          "text": [
            "/content/drive/MyDrive/bbc/business/141.txt\n",
            "/content/drive/MyDrive/bbc/business/155.txt\n",
            "/content/drive/MyDrive/bbc/business/126.txt\n",
            "/content/drive/MyDrive/bbc/business/116.txt\n",
            "/content/drive/MyDrive/bbc/business/132.txt\n",
            "/content/drive/MyDrive/bbc/business/138.txt\n",
            "/content/drive/MyDrive/bbc/business/161.txt\n",
            "/content/drive/MyDrive/bbc/business/185.txt\n",
            "/content/drive/MyDrive/bbc/business/182.txt\n",
            "/content/drive/MyDrive/bbc/business/181.txt\n",
            "/content/drive/MyDrive/bbc/business/184.txt\n",
            "/content/drive/MyDrive/bbc/business/196.txt\n",
            "/content/drive/MyDrive/bbc/business/176.txt\n",
            "/content/drive/MyDrive/bbc/business/167.txt\n",
            "/content/drive/MyDrive/bbc/business/198.txt\n",
            "/content/drive/MyDrive/bbc/business/188.txt\n",
            "/content/drive/MyDrive/bbc/business/175.txt\n",
            "/content/drive/MyDrive/bbc/business/195.txt\n",
            "/content/drive/MyDrive/bbc/business/197.txt\n",
            "/content/drive/MyDrive/bbc/business/170.txt\n",
            "/content/drive/MyDrive/bbc/business/163.txt\n",
            "/content/drive/MyDrive/bbc/business/168.txt\n",
            "/content/drive/MyDrive/bbc/business/186.txt\n",
            "/content/drive/MyDrive/bbc/business/164.txt\n",
            "/content/drive/MyDrive/bbc/business/189.txt\n",
            "/content/drive/MyDrive/bbc/business/166.txt\n",
            "/content/drive/MyDrive/bbc/business/171.txt\n",
            "/content/drive/MyDrive/bbc/business/190.txt\n",
            "/content/drive/MyDrive/bbc/business/165.txt\n",
            "/content/drive/MyDrive/bbc/business/201.txt\n",
            "/content/drive/MyDrive/bbc/business/180.txt\n",
            "/content/drive/MyDrive/bbc/business/169.txt\n",
            "/content/drive/MyDrive/bbc/business/177.txt\n"
          ],
          "name": "stdout"
        },
        {
          "output_type": "stream",
          "text": [
            "Skipping line 9: '\t' expected after '\"'\n",
            "Skipping line 9: '\t' expected after '\"'\n",
            "Skipping line 11: '\t' expected after '\"'\n",
            "Skipping line 13: '\t' expected after '\"'\n",
            "Skipping line 9: '\t' expected after '\"'\n",
            "Skipping line 7: '\t' expected after '\"'\n",
            "Skipping line 11: '\t' expected after '\"'\n"
          ],
          "name": "stderr"
        },
        {
          "output_type": "stream",
          "text": [
            "/content/drive/MyDrive/bbc/business/187.txt\n",
            "/content/drive/MyDrive/bbc/business/162.txt\n",
            "/content/drive/MyDrive/bbc/business/203.txt\n",
            "/content/drive/MyDrive/bbc/business/193.txt\n",
            "/content/drive/MyDrive/bbc/business/202.txt\n",
            "/content/drive/MyDrive/bbc/business/191.txt\n",
            "/content/drive/MyDrive/bbc/business/194.txt\n",
            "/content/drive/MyDrive/bbc/business/183.txt\n",
            "/content/drive/MyDrive/bbc/business/179.txt\n",
            "/content/drive/MyDrive/bbc/business/200.txt\n",
            "/content/drive/MyDrive/bbc/business/172.txt\n",
            "/content/drive/MyDrive/bbc/business/178.txt\n",
            "/content/drive/MyDrive/bbc/business/192.txt\n",
            "/content/drive/MyDrive/bbc/business/173.txt\n",
            "/content/drive/MyDrive/bbc/business/174.txt\n",
            "/content/drive/MyDrive/bbc/business/199.txt\n",
            "/content/drive/MyDrive/bbc/business/160.txt\n",
            "/content/drive/MyDrive/bbc/business/218.txt\n",
            "/content/drive/MyDrive/bbc/business/228.txt\n",
            "/content/drive/MyDrive/bbc/business/231.txt\n",
            "/content/drive/MyDrive/bbc/business/224.txt\n",
            "/content/drive/MyDrive/bbc/business/210.txt\n",
            "/content/drive/MyDrive/bbc/business/226.txt\n",
            "/content/drive/MyDrive/bbc/business/229.txt\n",
            "/content/drive/MyDrive/bbc/business/212.txt\n",
            "/content/drive/MyDrive/bbc/business/237.txt\n",
            "/content/drive/MyDrive/bbc/business/240.txt\n",
            "/content/drive/MyDrive/bbc/business/225.txt\n",
            "/content/drive/MyDrive/bbc/business/207.txt\n",
            "/content/drive/MyDrive/bbc/business/219.txt\n",
            "/content/drive/MyDrive/bbc/business/232.txt\n",
            "/content/drive/MyDrive/bbc/business/220.txt\n"
          ],
          "name": "stdout"
        },
        {
          "output_type": "stream",
          "text": [
            "Skipping line 9: '\t' expected after '\"'\n",
            "Skipping line 7: '\t' expected after '\"'\n",
            "Skipping line 13: '\t' expected after '\"'\n",
            "Skipping line 7: '\t' expected after '\"'\n",
            "Skipping line 7: '\t' expected after '\"'\n",
            "Skipping line 7: '\t' expected after '\"'\n",
            "Skipping line 13: '\t' expected after '\"'\n"
          ],
          "name": "stderr"
        },
        {
          "output_type": "stream",
          "text": [
            "/content/drive/MyDrive/bbc/business/242.txt\n",
            "/content/drive/MyDrive/bbc/business/223.txt\n",
            "/content/drive/MyDrive/bbc/business/208.txt\n",
            "/content/drive/MyDrive/bbc/business/234.txt\n",
            "/content/drive/MyDrive/bbc/business/243.txt\n",
            "/content/drive/MyDrive/bbc/business/236.txt\n",
            "/content/drive/MyDrive/bbc/business/217.txt\n",
            "/content/drive/MyDrive/bbc/business/211.txt\n",
            "/content/drive/MyDrive/bbc/business/215.txt\n",
            "/content/drive/MyDrive/bbc/business/227.txt\n",
            "/content/drive/MyDrive/bbc/business/213.txt\n",
            "/content/drive/MyDrive/bbc/business/222.txt\n",
            "/content/drive/MyDrive/bbc/business/206.txt\n",
            "/content/drive/MyDrive/bbc/business/205.txt\n",
            "/content/drive/MyDrive/bbc/business/238.txt\n",
            "/content/drive/MyDrive/bbc/business/235.txt\n",
            "/content/drive/MyDrive/bbc/business/233.txt\n",
            "/content/drive/MyDrive/bbc/business/239.txt\n",
            "/content/drive/MyDrive/bbc/business/241.txt\n",
            "/content/drive/MyDrive/bbc/business/214.txt\n",
            "/content/drive/MyDrive/bbc/business/204.txt\n",
            "/content/drive/MyDrive/bbc/business/216.txt\n",
            "/content/drive/MyDrive/bbc/business/209.txt\n",
            "/content/drive/MyDrive/bbc/business/230.txt\n",
            "/content/drive/MyDrive/bbc/business/221.txt\n",
            "/content/drive/MyDrive/bbc/business/265.txt\n",
            "/content/drive/MyDrive/bbc/business/266.txt\n",
            "/content/drive/MyDrive/bbc/business/274.txt\n",
            "/content/drive/MyDrive/bbc/business/251.txt\n",
            "/content/drive/MyDrive/bbc/business/277.txt\n",
            "/content/drive/MyDrive/bbc/business/269.txt\n",
            "/content/drive/MyDrive/bbc/business/267.txt\n"
          ],
          "name": "stdout"
        },
        {
          "output_type": "stream",
          "text": [
            "Skipping line 11: '\t' expected after '\"'\n",
            "Skipping line 9: '\t' expected after '\"'\n",
            "Skipping line 13: '\t' expected after '\"'\n",
            "Skipping line 17: '\t' expected after '\"'\n",
            "Skipping line 9: '\t' expected after '\"'\n",
            "Skipping line 17: '\t' expected after '\"'\n",
            "Skipping line 7: '\t' expected after '\"'\n"
          ],
          "name": "stderr"
        },
        {
          "output_type": "stream",
          "text": [
            "/content/drive/MyDrive/bbc/business/275.txt\n",
            "/content/drive/MyDrive/bbc/business/250.txt\n",
            "/content/drive/MyDrive/bbc/business/264.txt\n",
            "/content/drive/MyDrive/bbc/business/262.txt\n",
            "/content/drive/MyDrive/bbc/business/287.txt\n",
            "/content/drive/MyDrive/bbc/business/248.txt\n",
            "/content/drive/MyDrive/bbc/business/272.txt\n",
            "/content/drive/MyDrive/bbc/business/261.txt\n",
            "/content/drive/MyDrive/bbc/business/286.txt\n",
            "/content/drive/MyDrive/bbc/business/285.txt\n",
            "/content/drive/MyDrive/bbc/business/284.txt\n",
            "/content/drive/MyDrive/bbc/business/244.txt\n",
            "/content/drive/MyDrive/bbc/business/260.txt\n",
            "/content/drive/MyDrive/bbc/business/279.txt\n",
            "/content/drive/MyDrive/bbc/business/252.txt\n",
            "/content/drive/MyDrive/bbc/business/280.txt\n",
            "/content/drive/MyDrive/bbc/business/278.txt\n",
            "/content/drive/MyDrive/bbc/business/283.txt\n",
            "/content/drive/MyDrive/bbc/business/276.txt\n",
            "/content/drive/MyDrive/bbc/business/259.txt\n",
            "/content/drive/MyDrive/bbc/business/247.txt\n",
            "/content/drive/MyDrive/bbc/business/245.txt\n",
            "/content/drive/MyDrive/bbc/business/253.txt\n",
            "/content/drive/MyDrive/bbc/business/256.txt\n",
            "/content/drive/MyDrive/bbc/business/255.txt\n",
            "/content/drive/MyDrive/bbc/business/254.txt\n",
            "/content/drive/MyDrive/bbc/business/268.txt\n",
            "/content/drive/MyDrive/bbc/business/258.txt\n",
            "/content/drive/MyDrive/bbc/business/249.txt\n",
            "/content/drive/MyDrive/bbc/business/270.txt\n",
            "/content/drive/MyDrive/bbc/business/246.txt\n",
            "/content/drive/MyDrive/bbc/business/257.txt\n",
            "/content/drive/MyDrive/bbc/business/282.txt\n",
            "/content/drive/MyDrive/bbc/business/273.txt\n",
            "/content/drive/MyDrive/bbc/business/263.txt\n",
            "/content/drive/MyDrive/bbc/business/281.txt\n",
            "/content/drive/MyDrive/bbc/business/271.txt\n",
            "/content/drive/MyDrive/bbc/business/328.txt\n",
            "/content/drive/MyDrive/bbc/business/298.txt\n",
            "/content/drive/MyDrive/bbc/business/293.txt\n",
            "/content/drive/MyDrive/bbc/business/290.txt\n",
            "/content/drive/MyDrive/bbc/business/322.txt\n",
            "/content/drive/MyDrive/bbc/business/312.txt\n",
            "/content/drive/MyDrive/bbc/business/320.txt\n",
            "/content/drive/MyDrive/bbc/business/310.txt\n",
            "/content/drive/MyDrive/bbc/business/325.txt\n",
            "/content/drive/MyDrive/bbc/business/297.txt\n",
            "/content/drive/MyDrive/bbc/business/291.txt\n",
            "/content/drive/MyDrive/bbc/business/300.txt\n",
            "/content/drive/MyDrive/bbc/business/289.txt\n",
            "/content/drive/MyDrive/bbc/business/294.txt\n",
            "/content/drive/MyDrive/bbc/business/292.txt\n",
            "/content/drive/MyDrive/bbc/business/324.txt\n",
            "/content/drive/MyDrive/bbc/business/295.txt\n",
            "/content/drive/MyDrive/bbc/business/305.txt\n",
            "/content/drive/MyDrive/bbc/business/323.txt\n",
            "/content/drive/MyDrive/bbc/business/308.txt\n",
            "/content/drive/MyDrive/bbc/business/302.txt\n",
            "/content/drive/MyDrive/bbc/business/315.txt\n",
            "/content/drive/MyDrive/bbc/business/299.txt\n",
            "/content/drive/MyDrive/bbc/business/288.txt\n",
            "/content/drive/MyDrive/bbc/business/304.txt\n"
          ],
          "name": "stdout"
        },
        {
          "output_type": "stream",
          "text": [
            "Skipping line 13: '\t' expected after '\"'\n",
            "Skipping line 17: '\t' expected after '\"'\n",
            "Skipping line 9: '\t' expected after '\"'\n",
            "Skipping line 7: '\t' expected after '\"'\n",
            "Skipping line 9: '\t' expected after '\"'\n",
            "Skipping line 15: '\t' expected after '\"'\n",
            "Skipping line 9: '\t' expected after '\"'\n",
            "Skipping line 7: '\t' expected after '\"'\n",
            "Skipping line 9: '\t' expected after '\"'\n",
            "Skipping line 11: '\t' expected after '\"'\n",
            "Skipping line 5: '\t' expected after '\"'\n",
            "Skipping line 7: '\t' expected after '\"'\n"
          ],
          "name": "stderr"
        },
        {
          "output_type": "stream",
          "text": [
            "/content/drive/MyDrive/bbc/business/316.txt\n",
            "/content/drive/MyDrive/bbc/business/313.txt\n",
            "/content/drive/MyDrive/bbc/business/318.txt\n",
            "/content/drive/MyDrive/bbc/business/306.txt\n",
            "/content/drive/MyDrive/bbc/business/296.txt\n",
            "/content/drive/MyDrive/bbc/business/329.txt\n",
            "/content/drive/MyDrive/bbc/business/321.txt\n",
            "/content/drive/MyDrive/bbc/business/314.txt\n",
            "/content/drive/MyDrive/bbc/business/327.txt\n",
            "/content/drive/MyDrive/bbc/business/303.txt\n",
            "/content/drive/MyDrive/bbc/business/301.txt\n",
            "/content/drive/MyDrive/bbc/business/311.txt\n",
            "/content/drive/MyDrive/bbc/business/317.txt\n",
            "/content/drive/MyDrive/bbc/business/309.txt\n",
            "/content/drive/MyDrive/bbc/business/319.txt\n",
            "/content/drive/MyDrive/bbc/business/326.txt\n",
            "/content/drive/MyDrive/bbc/business/307.txt\n",
            "/content/drive/MyDrive/bbc/business/334.txt\n",
            "/content/drive/MyDrive/bbc/business/340.txt\n",
            "/content/drive/MyDrive/bbc/business/335.txt\n",
            "/content/drive/MyDrive/bbc/business/346.txt\n",
            "/content/drive/MyDrive/bbc/business/353.txt\n",
            "/content/drive/MyDrive/bbc/business/352.txt\n",
            "/content/drive/MyDrive/bbc/business/355.txt\n",
            "/content/drive/MyDrive/bbc/business/354.txt\n",
            "/content/drive/MyDrive/bbc/business/338.txt\n",
            "/content/drive/MyDrive/bbc/business/339.txt\n",
            "/content/drive/MyDrive/bbc/business/341.txt\n",
            "/content/drive/MyDrive/bbc/business/356.txt\n",
            "/content/drive/MyDrive/bbc/business/362.txt\n",
            "/content/drive/MyDrive/bbc/business/359.txt\n",
            "/content/drive/MyDrive/bbc/business/361.txt\n",
            "/content/drive/MyDrive/bbc/business/336.txt\n",
            "/content/drive/MyDrive/bbc/business/333.txt\n"
          ],
          "name": "stdout"
        },
        {
          "output_type": "stream",
          "text": [
            "Skipping line 11: '\t' expected after '\"'\n",
            "Skipping line 7: '\t' expected after '\"'\n",
            "Skipping line 7: '\t' expected after '\"'\n",
            "Skipping line 13: '\t' expected after '\"'\n",
            "Skipping line 7: '\t' expected after '\"'\n",
            "Skipping line 5: '\t' expected after '\"'\n",
            "Skipping line 9: '\t' expected after '\"'\n",
            "Skipping line 13: '\t' expected after '\"'\n",
            "Skipping line 11: '\t' expected after '\"'\n",
            "Skipping line 15: '\t' expected after '\"'\n",
            "Skipping line 19: '\t' expected after '\"'\n"
          ],
          "name": "stderr"
        },
        {
          "output_type": "stream",
          "text": [
            "/content/drive/MyDrive/bbc/business/370.txt\n",
            "/content/drive/MyDrive/bbc/business/337.txt\n",
            "/content/drive/MyDrive/bbc/business/342.txt\n",
            "/content/drive/MyDrive/bbc/business/348.txt\n",
            "/content/drive/MyDrive/bbc/business/332.txt\n",
            "/content/drive/MyDrive/bbc/business/345.txt\n",
            "/content/drive/MyDrive/bbc/business/364.txt\n",
            "/content/drive/MyDrive/bbc/business/350.txt\n",
            "/content/drive/MyDrive/bbc/business/366.txt\n",
            "/content/drive/MyDrive/bbc/business/347.txt\n",
            "/content/drive/MyDrive/bbc/business/360.txt\n",
            "/content/drive/MyDrive/bbc/business/368.txt\n",
            "/content/drive/MyDrive/bbc/business/343.txt\n",
            "/content/drive/MyDrive/bbc/business/369.txt\n",
            "/content/drive/MyDrive/bbc/business/344.txt\n",
            "/content/drive/MyDrive/bbc/business/351.txt\n",
            "/content/drive/MyDrive/bbc/business/357.txt\n",
            "/content/drive/MyDrive/bbc/business/330.txt\n",
            "/content/drive/MyDrive/bbc/business/363.txt\n",
            "/content/drive/MyDrive/bbc/business/349.txt\n",
            "/content/drive/MyDrive/bbc/business/374.txt\n",
            "/content/drive/MyDrive/bbc/business/372.txt\n",
            "/content/drive/MyDrive/bbc/business/367.txt\n",
            "/content/drive/MyDrive/bbc/business/371.txt\n",
            "/content/drive/MyDrive/bbc/business/373.txt\n",
            "/content/drive/MyDrive/bbc/business/358.txt\n",
            "/content/drive/MyDrive/bbc/business/365.txt\n",
            "/content/drive/MyDrive/bbc/business/331.txt\n",
            "/content/drive/MyDrive/bbc/business/379.txt\n",
            "/content/drive/MyDrive/bbc/business/389.txt\n",
            "/content/drive/MyDrive/bbc/business/416.txt\n",
            "/content/drive/MyDrive/bbc/business/376.txt\n",
            "/content/drive/MyDrive/bbc/business/408.txt\n",
            "/content/drive/MyDrive/bbc/business/392.txt\n"
          ],
          "name": "stdout"
        },
        {
          "output_type": "stream",
          "text": [
            "Skipping line 13: '\t' expected after '\"'\n",
            "Skipping line 11: '\t' expected after '\"'\n",
            "Skipping line 7: '\t' expected after '\"'\n",
            "Skipping line 9: '\t' expected after '\"'\n",
            "Skipping line 11: '\t' expected after '\"'\n",
            "Skipping line 7: '\t' expected after '\"'\n",
            "Skipping line 9: '\t' expected after '\"'\n",
            "Skipping line 7: '\t' expected after '\"'\n"
          ],
          "name": "stderr"
        },
        {
          "output_type": "stream",
          "text": [
            "/content/drive/MyDrive/bbc/business/394.txt\n",
            "/content/drive/MyDrive/bbc/business/382.txt\n",
            "/content/drive/MyDrive/bbc/business/414.txt\n",
            "/content/drive/MyDrive/bbc/business/404.txt\n",
            "/content/drive/MyDrive/bbc/business/412.txt\n",
            "/content/drive/MyDrive/bbc/business/417.txt\n",
            "/content/drive/MyDrive/bbc/business/411.txt\n",
            "/content/drive/MyDrive/bbc/business/381.txt\n",
            "/content/drive/MyDrive/bbc/business/418.txt\n",
            "/content/drive/MyDrive/bbc/business/403.txt\n",
            "/content/drive/MyDrive/bbc/business/377.txt\n",
            "/content/drive/MyDrive/bbc/business/391.txt\n",
            "/content/drive/MyDrive/bbc/business/409.txt\n",
            "/content/drive/MyDrive/bbc/business/402.txt\n",
            "/content/drive/MyDrive/bbc/business/393.txt\n",
            "/content/drive/MyDrive/bbc/business/385.txt\n",
            "/content/drive/MyDrive/bbc/business/375.txt\n",
            "/content/drive/MyDrive/bbc/business/390.txt\n",
            "/content/drive/MyDrive/bbc/business/400.txt\n",
            "/content/drive/MyDrive/bbc/business/384.txt\n",
            "/content/drive/MyDrive/bbc/business/415.txt\n",
            "/content/drive/MyDrive/bbc/business/388.txt\n",
            "/content/drive/MyDrive/bbc/business/405.txt\n",
            "/content/drive/MyDrive/bbc/business/406.txt\n",
            "/content/drive/MyDrive/bbc/business/420.txt\n",
            "/content/drive/MyDrive/bbc/business/413.txt\n",
            "/content/drive/MyDrive/bbc/business/419.txt\n",
            "/content/drive/MyDrive/bbc/business/410.txt\n",
            "/content/drive/MyDrive/bbc/business/386.txt\n",
            "/content/drive/MyDrive/bbc/business/407.txt\n",
            "/content/drive/MyDrive/bbc/business/398.txt\n",
            "/content/drive/MyDrive/bbc/business/401.txt\n"
          ],
          "name": "stdout"
        },
        {
          "output_type": "stream",
          "text": [
            "Skipping line 9: '\t' expected after '\"'\n",
            "Skipping line 9: '\t' expected after '\"'\n",
            "Skipping line 7: '\t' expected after '\"'\n",
            "Skipping line 5: '\t' expected after '\"'\n",
            "Skipping line 5: '\t' expected after '\"'\n",
            "Skipping line 13: '\t' expected after '\"'\n"
          ],
          "name": "stderr"
        },
        {
          "output_type": "stream",
          "text": [
            "/content/drive/MyDrive/bbc/business/399.txt\n",
            "/content/drive/MyDrive/bbc/business/383.txt\n",
            "/content/drive/MyDrive/bbc/business/395.txt\n",
            "/content/drive/MyDrive/bbc/business/380.txt\n",
            "/content/drive/MyDrive/bbc/business/378.txt\n",
            "/content/drive/MyDrive/bbc/business/396.txt\n",
            "/content/drive/MyDrive/bbc/business/387.txt\n",
            "/content/drive/MyDrive/bbc/business/397.txt\n",
            "/content/drive/MyDrive/bbc/business/443.txt\n",
            "/content/drive/MyDrive/bbc/business/445.txt\n",
            "/content/drive/MyDrive/bbc/business/446.txt\n",
            "/content/drive/MyDrive/bbc/business/442.txt\n",
            "/content/drive/MyDrive/bbc/business/456.txt\n",
            "/content/drive/MyDrive/bbc/business/433.txt\n",
            "/content/drive/MyDrive/bbc/business/464.txt\n",
            "/content/drive/MyDrive/bbc/business/437.txt\n",
            "/content/drive/MyDrive/bbc/business/438.txt\n",
            "/content/drive/MyDrive/bbc/business/447.txt\n",
            "/content/drive/MyDrive/bbc/business/451.txt\n",
            "/content/drive/MyDrive/bbc/business/444.txt\n",
            "/content/drive/MyDrive/bbc/business/455.txt\n",
            "/content/drive/MyDrive/bbc/business/432.txt\n",
            "/content/drive/MyDrive/bbc/business/463.txt\n",
            "/content/drive/MyDrive/bbc/business/435.txt\n",
            "/content/drive/MyDrive/bbc/business/439.txt\n",
            "/content/drive/MyDrive/bbc/business/440.txt\n",
            "/content/drive/MyDrive/bbc/business/427.txt\n",
            "/content/drive/MyDrive/bbc/business/461.txt\n",
            "/content/drive/MyDrive/bbc/business/430.txt\n",
            "/content/drive/MyDrive/bbc/business/452.txt\n",
            "/content/drive/MyDrive/bbc/business/424.txt\n",
            "/content/drive/MyDrive/bbc/business/428.txt\n"
          ],
          "name": "stdout"
        },
        {
          "output_type": "stream",
          "text": [
            "Skipping line 9: '\t' expected after '\"'\n",
            "Skipping line 7: '\t' expected after '\"'\n",
            "Skipping line 7: '\t' expected after '\"'\n",
            "Skipping line 9: '\t' expected after '\"'\n",
            "Skipping line 7: '\t' expected after '\"'\n",
            "Skipping line 9: '\t' expected after '\"'\n",
            "Skipping line 15: '\t' expected after '\"'\n",
            "Skipping line 7: '\t' expected after '\"'\n",
            "Skipping line 11: '\t' expected after '\"'\n",
            "Skipping line 7: '\t' expected after '\"'\n",
            "Skipping line 7: '\t' expected after '\"'\n"
          ],
          "name": "stderr"
        },
        {
          "output_type": "stream",
          "text": [
            "/content/drive/MyDrive/bbc/business/441.txt\n",
            "/content/drive/MyDrive/bbc/business/429.txt\n",
            "/content/drive/MyDrive/bbc/business/450.txt\n",
            "/content/drive/MyDrive/bbc/business/434.txt\n",
            "/content/drive/MyDrive/bbc/business/462.txt\n",
            "/content/drive/MyDrive/bbc/business/454.txt\n",
            "/content/drive/MyDrive/bbc/business/460.txt\n",
            "/content/drive/MyDrive/bbc/business/422.txt\n",
            "/content/drive/MyDrive/bbc/business/448.txt\n",
            "/content/drive/MyDrive/bbc/business/457.txt\n",
            "/content/drive/MyDrive/bbc/business/425.txt\n",
            "/content/drive/MyDrive/bbc/business/426.txt\n",
            "/content/drive/MyDrive/bbc/business/458.txt\n",
            "/content/drive/MyDrive/bbc/business/449.txt\n",
            "/content/drive/MyDrive/bbc/business/431.txt\n",
            "/content/drive/MyDrive/bbc/business/436.txt\n",
            "/content/drive/MyDrive/bbc/business/421.txt\n",
            "/content/drive/MyDrive/bbc/business/459.txt\n",
            "/content/drive/MyDrive/bbc/business/453.txt\n",
            "/content/drive/MyDrive/bbc/business/423.txt\n",
            "/content/drive/MyDrive/bbc/business/489.txt\n",
            "/content/drive/MyDrive/bbc/business/482.txt\n",
            "/content/drive/MyDrive/bbc/business/490.txt\n",
            "/content/drive/MyDrive/bbc/business/493.txt\n",
            "/content/drive/MyDrive/bbc/business/470.txt\n",
            "/content/drive/MyDrive/bbc/business/469.txt\n",
            "/content/drive/MyDrive/bbc/business/492.txt\n",
            "/content/drive/MyDrive/bbc/business/495.txt\n",
            "/content/drive/MyDrive/bbc/business/491.txt\n",
            "/content/drive/MyDrive/bbc/business/476.txt\n",
            "/content/drive/MyDrive/bbc/business/483.txt\n",
            "/content/drive/MyDrive/bbc/business/478.txt\n"
          ],
          "name": "stdout"
        },
        {
          "output_type": "stream",
          "text": [
            "Skipping line 9: '\t' expected after '\"'\n",
            "Skipping line 11: '\t' expected after '\"'\n",
            "Skipping line 9: '\t' expected after '\"'\n",
            "Skipping line 7: '\t' expected after '\"'\n",
            "Skipping line 13: '\t' expected after '\"'\n"
          ],
          "name": "stderr"
        },
        {
          "output_type": "stream",
          "text": [
            "/content/drive/MyDrive/bbc/business/467.txt\n",
            "/content/drive/MyDrive/bbc/business/466.txt\n",
            "/content/drive/MyDrive/bbc/business/501.txt\n",
            "/content/drive/MyDrive/bbc/business/468.txt\n",
            "/content/drive/MyDrive/bbc/business/477.txt\n",
            "/content/drive/MyDrive/bbc/business/481.txt\n",
            "/content/drive/MyDrive/bbc/business/497.txt\n",
            "/content/drive/MyDrive/bbc/business/503.txt\n",
            "/content/drive/MyDrive/bbc/business/474.txt\n",
            "/content/drive/MyDrive/bbc/business/465.txt\n",
            "/content/drive/MyDrive/bbc/business/502.txt\n",
            "/content/drive/MyDrive/bbc/business/496.txt\n",
            "/content/drive/MyDrive/bbc/business/473.txt\n",
            "/content/drive/MyDrive/bbc/business/488.txt\n",
            "/content/drive/MyDrive/bbc/business/471.txt\n",
            "/content/drive/MyDrive/bbc/business/494.txt\n",
            "/content/drive/MyDrive/bbc/business/487.txt\n",
            "/content/drive/MyDrive/bbc/business/500.txt\n",
            "/content/drive/MyDrive/bbc/business/479.txt\n",
            "/content/drive/MyDrive/bbc/business/499.txt\n",
            "/content/drive/MyDrive/bbc/business/484.txt\n",
            "/content/drive/MyDrive/bbc/business/480.txt\n",
            "/content/drive/MyDrive/bbc/business/485.txt\n",
            "/content/drive/MyDrive/bbc/business/486.txt\n",
            "/content/drive/MyDrive/bbc/business/475.txt\n",
            "/content/drive/MyDrive/bbc/business/498.txt\n",
            "/content/drive/MyDrive/bbc/business/472.txt\n"
          ],
          "name": "stdout"
        },
        {
          "output_type": "stream",
          "text": [
            "Skipping line 13: '\t' expected after '\"'\n",
            "Skipping line 11: '\t' expected after '\"'\n",
            "Skipping line 7: '\t' expected after '\"'\n",
            "Skipping line 7: '\t' expected after '\"'\n",
            "Skipping line 7: '\t' expected after '\"'\n"
          ],
          "name": "stderr"
        },
        {
          "output_type": "stream",
          "text": [
            "/content/drive/MyDrive/bbc/business/510.txt\n",
            "/content/drive/MyDrive/bbc/business/506.txt\n",
            "/content/drive/MyDrive/bbc/business/505.txt\n",
            "/content/drive/MyDrive/bbc/business/507.txt\n",
            "/content/drive/MyDrive/bbc/business/509.txt\n",
            "/content/drive/MyDrive/bbc/business/504.txt\n",
            "/content/drive/MyDrive/bbc/business/508.txt\n",
            "/content/drive/MyDrive/bbc/entertainment/001.txt\n",
            "/content/drive/MyDrive/bbc/entertainment/016.txt\n",
            "/content/drive/MyDrive/bbc/entertainment/035.txt\n",
            "/content/drive/MyDrive/bbc/entertainment/012.txt\n",
            "/content/drive/MyDrive/bbc/entertainment/034.txt\n",
            "/content/drive/MyDrive/bbc/entertainment/023.txt\n",
            "/content/drive/MyDrive/bbc/entertainment/005.txt\n",
            "/content/drive/MyDrive/bbc/entertainment/024.txt\n",
            "/content/drive/MyDrive/bbc/entertainment/011.txt\n",
            "/content/drive/MyDrive/bbc/entertainment/007.txt\n",
            "/content/drive/MyDrive/bbc/entertainment/018.txt\n",
            "/content/drive/MyDrive/bbc/entertainment/014.txt\n",
            "/content/drive/MyDrive/bbc/entertainment/022.txt\n",
            "/content/drive/MyDrive/bbc/entertainment/021.txt\n",
            "/content/drive/MyDrive/bbc/entertainment/027.txt\n",
            "/content/drive/MyDrive/bbc/entertainment/032.txt\n",
            "/content/drive/MyDrive/bbc/entertainment/009.txt\n",
            "/content/drive/MyDrive/bbc/entertainment/008.txt\n",
            "/content/drive/MyDrive/bbc/entertainment/020.txt\n",
            "/content/drive/MyDrive/bbc/entertainment/033.txt\n"
          ],
          "name": "stdout"
        },
        {
          "output_type": "stream",
          "text": [
            "Skipping line 9: '\t' expected after '\"'\n",
            "Skipping line 13: '\t' expected after '\"'\n",
            "Skipping line 9: '\t' expected after '\"'\n",
            "Skipping line 7: '\t' expected after '\"'\n",
            "Skipping line 7: '\t' expected after '\"'\n",
            "Skipping line 7: '\t' expected after '\"'\n",
            "Skipping line 7: '\t' expected after '\"'\n",
            "Skipping line 7: '\t' expected after '\"'\n",
            "Skipping line 7: '\t' expected after '\"'\n",
            "Skipping line 9: '\t' expected after '\"'\n"
          ],
          "name": "stderr"
        },
        {
          "output_type": "stream",
          "text": [
            "/content/drive/MyDrive/bbc/entertainment/013.txt\n",
            "/content/drive/MyDrive/bbc/entertainment/006.txt\n",
            "/content/drive/MyDrive/bbc/entertainment/003.txt\n",
            "/content/drive/MyDrive/bbc/entertainment/015.txt\n",
            "/content/drive/MyDrive/bbc/entertainment/038.txt\n",
            "/content/drive/MyDrive/bbc/entertainment/019.txt\n",
            "/content/drive/MyDrive/bbc/entertainment/036.txt\n",
            "/content/drive/MyDrive/bbc/entertainment/026.txt\n",
            "/content/drive/MyDrive/bbc/entertainment/010.txt\n",
            "/content/drive/MyDrive/bbc/entertainment/002.txt\n",
            "/content/drive/MyDrive/bbc/entertainment/028.txt\n",
            "/content/drive/MyDrive/bbc/entertainment/037.txt\n",
            "/content/drive/MyDrive/bbc/entertainment/031.txt\n",
            "/content/drive/MyDrive/bbc/entertainment/040.txt\n",
            "/content/drive/MyDrive/bbc/entertainment/039.txt\n",
            "/content/drive/MyDrive/bbc/entertainment/004.txt\n",
            "/content/drive/MyDrive/bbc/entertainment/025.txt\n",
            "/content/drive/MyDrive/bbc/entertainment/029.txt\n",
            "/content/drive/MyDrive/bbc/entertainment/030.txt\n",
            "/content/drive/MyDrive/bbc/entertainment/017.txt\n",
            "/content/drive/MyDrive/bbc/entertainment/044.txt\n",
            "/content/drive/MyDrive/bbc/entertainment/077.txt\n",
            "/content/drive/MyDrive/bbc/entertainment/043.txt\n",
            "/content/drive/MyDrive/bbc/entertainment/075.txt\n",
            "/content/drive/MyDrive/bbc/entertainment/069.txt\n",
            "/content/drive/MyDrive/bbc/entertainment/057.txt\n",
            "/content/drive/MyDrive/bbc/entertainment/063.txt\n",
            "/content/drive/MyDrive/bbc/entertainment/047.txt\n"
          ],
          "name": "stdout"
        },
        {
          "output_type": "stream",
          "text": [
            "Skipping line 9: '\t' expected after '\"'\n",
            "Skipping line 7: '\t' expected after '\"'\n",
            "Skipping line 9: '\t' expected after '\"'\n",
            "Skipping line 13: '\t' expected after '\"'\n",
            "Skipping line 9: '\t' expected after '\"'\n",
            "Skipping line 11: '\t' expected after '\"'\n",
            "Skipping line 7: '\t' expected after '\"'\n"
          ],
          "name": "stderr"
        },
        {
          "output_type": "stream",
          "text": [
            "/content/drive/MyDrive/bbc/entertainment/056.txt\n",
            "/content/drive/MyDrive/bbc/entertainment/059.txt\n",
            "/content/drive/MyDrive/bbc/entertainment/070.txt\n",
            "/content/drive/MyDrive/bbc/entertainment/046.txt\n",
            "/content/drive/MyDrive/bbc/entertainment/071.txt\n",
            "/content/drive/MyDrive/bbc/entertainment/055.txt\n",
            "/content/drive/MyDrive/bbc/entertainment/062.txt\n",
            "/content/drive/MyDrive/bbc/entertainment/061.txt\n",
            "/content/drive/MyDrive/bbc/entertainment/051.txt\n",
            "/content/drive/MyDrive/bbc/entertainment/084.txt\n",
            "/content/drive/MyDrive/bbc/entertainment/058.txt\n",
            "/content/drive/MyDrive/bbc/entertainment/060.txt\n",
            "/content/drive/MyDrive/bbc/entertainment/080.txt\n",
            "/content/drive/MyDrive/bbc/entertainment/067.txt\n",
            "/content/drive/MyDrive/bbc/entertainment/049.txt\n",
            "/content/drive/MyDrive/bbc/entertainment/064.txt\n",
            "/content/drive/MyDrive/bbc/entertainment/079.txt\n",
            "/content/drive/MyDrive/bbc/entertainment/048.txt\n",
            "/content/drive/MyDrive/bbc/entertainment/081.txt\n",
            "/content/drive/MyDrive/bbc/entertainment/068.txt\n",
            "/content/drive/MyDrive/bbc/entertainment/050.txt\n",
            "/content/drive/MyDrive/bbc/entertainment/072.txt\n",
            "/content/drive/MyDrive/bbc/entertainment/078.txt\n",
            "/content/drive/MyDrive/bbc/entertainment/041.txt\n",
            "/content/drive/MyDrive/bbc/entertainment/054.txt\n",
            "/content/drive/MyDrive/bbc/entertainment/076.txt\n",
            "/content/drive/MyDrive/bbc/entertainment/083.txt\n",
            "/content/drive/MyDrive/bbc/entertainment/082.txt\n",
            "/content/drive/MyDrive/bbc/entertainment/053.txt\n"
          ],
          "name": "stdout"
        },
        {
          "output_type": "stream",
          "text": [
            "Skipping line 7: '\t' expected after '\"'\n",
            "Skipping line 7: '\t' expected after '\"'\n",
            "Skipping line 11: '\t' expected after '\"'\n",
            "Skipping line 11: '\t' expected after '\"'\n",
            "Skipping line 7: '\t' expected after '\"'\n",
            "Skipping line 7: '\t' expected after '\"'\n",
            "Skipping line 9: '\t' expected after '\"'\n",
            "Skipping line 13: '\t' expected after '\"'\n",
            "Skipping line 15: '\t' expected after '\"'\n"
          ],
          "name": "stderr"
        },
        {
          "output_type": "stream",
          "text": [
            "/content/drive/MyDrive/bbc/entertainment/065.txt\n",
            "/content/drive/MyDrive/bbc/entertainment/042.txt\n",
            "/content/drive/MyDrive/bbc/entertainment/073.txt\n",
            "/content/drive/MyDrive/bbc/entertainment/066.txt\n",
            "/content/drive/MyDrive/bbc/entertainment/052.txt\n",
            "/content/drive/MyDrive/bbc/entertainment/074.txt\n",
            "/content/drive/MyDrive/bbc/entertainment/085.txt\n",
            "/content/drive/MyDrive/bbc/entertainment/045.txt\n",
            "/content/drive/MyDrive/bbc/entertainment/118.txt\n",
            "/content/drive/MyDrive/bbc/entertainment/097.txt\n",
            "/content/drive/MyDrive/bbc/entertainment/107.txt\n",
            "/content/drive/MyDrive/bbc/entertainment/089.txt\n",
            "/content/drive/MyDrive/bbc/entertainment/093.txt\n",
            "/content/drive/MyDrive/bbc/entertainment/124.txt\n",
            "/content/drive/MyDrive/bbc/entertainment/101.txt\n",
            "/content/drive/MyDrive/bbc/entertainment/099.txt\n",
            "/content/drive/MyDrive/bbc/entertainment/096.txt\n",
            "/content/drive/MyDrive/bbc/entertainment/127.txt\n",
            "/content/drive/MyDrive/bbc/entertainment/122.txt\n",
            "/content/drive/MyDrive/bbc/entertainment/129.txt\n",
            "/content/drive/MyDrive/bbc/entertainment/120.txt\n",
            "/content/drive/MyDrive/bbc/entertainment/106.txt\n",
            "/content/drive/MyDrive/bbc/entertainment/109.txt\n",
            "/content/drive/MyDrive/bbc/entertainment/121.txt\n",
            "/content/drive/MyDrive/bbc/entertainment/123.txt\n",
            "/content/drive/MyDrive/bbc/entertainment/128.txt\n",
            "/content/drive/MyDrive/bbc/entertainment/105.txt\n",
            "/content/drive/MyDrive/bbc/entertainment/103.txt\n",
            "/content/drive/MyDrive/bbc/entertainment/116.txt\n",
            "/content/drive/MyDrive/bbc/entertainment/111.txt\n",
            "/content/drive/MyDrive/bbc/entertainment/119.txt\n",
            "/content/drive/MyDrive/bbc/entertainment/090.txt\n",
            "/content/drive/MyDrive/bbc/entertainment/087.txt\n",
            "/content/drive/MyDrive/bbc/entertainment/110.txt\n",
            "/content/drive/MyDrive/bbc/entertainment/114.txt\n",
            "/content/drive/MyDrive/bbc/entertainment/086.txt\n",
            "/content/drive/MyDrive/bbc/entertainment/102.txt\n",
            "/content/drive/MyDrive/bbc/entertainment/125.txt\n",
            "/content/drive/MyDrive/bbc/entertainment/112.txt\n",
            "/content/drive/MyDrive/bbc/entertainment/113.txt\n",
            "/content/drive/MyDrive/bbc/entertainment/098.txt\n",
            "/content/drive/MyDrive/bbc/entertainment/095.txt\n",
            "/content/drive/MyDrive/bbc/entertainment/115.txt\n",
            "/content/drive/MyDrive/bbc/entertainment/088.txt\n",
            "/content/drive/MyDrive/bbc/entertainment/092.txt\n",
            "/content/drive/MyDrive/bbc/entertainment/126.txt\n",
            "/content/drive/MyDrive/bbc/entertainment/104.txt\n",
            "/content/drive/MyDrive/bbc/entertainment/117.txt\n",
            "/content/drive/MyDrive/bbc/entertainment/091.txt\n",
            "/content/drive/MyDrive/bbc/entertainment/094.txt\n",
            "/content/drive/MyDrive/bbc/entertainment/108.txt\n",
            "/content/drive/MyDrive/bbc/entertainment/100.txt\n",
            "/content/drive/MyDrive/bbc/entertainment/165.txt\n",
            "/content/drive/MyDrive/bbc/entertainment/172.txt\n",
            "/content/drive/MyDrive/bbc/entertainment/154.txt\n",
            "/content/drive/MyDrive/bbc/entertainment/151.txt\n",
            "/content/drive/MyDrive/bbc/entertainment/152.txt\n",
            "/content/drive/MyDrive/bbc/entertainment/144.txt\n",
            "/content/drive/MyDrive/bbc/entertainment/149.txt\n",
            "/content/drive/MyDrive/bbc/entertainment/157.txt\n",
            "/content/drive/MyDrive/bbc/entertainment/155.txt\n",
            "/content/drive/MyDrive/bbc/entertainment/142.txt\n",
            "/content/drive/MyDrive/bbc/entertainment/140.txt\n",
            "/content/drive/MyDrive/bbc/entertainment/170.txt\n",
            "/content/drive/MyDrive/bbc/entertainment/139.txt\n"
          ],
          "name": "stdout"
        },
        {
          "output_type": "stream",
          "text": [
            "Skipping line 7: '\t' expected after '\"'\n",
            "Skipping line 9: '\t' expected after '\"'\n",
            "Skipping line 7: '\t' expected after '\"'\n",
            "Skipping line 9: '\t' expected after '\"'\n",
            "Skipping line 7: '\t' expected after '\"'\n",
            "Skipping line 11: '\t' expected after '\"'\n",
            "Skipping line 7: '\t' expected after '\"'\n",
            "Skipping line 9: '\t' expected after '\"'\n",
            "Skipping line 7: '\t' expected after '\"'\n",
            "Skipping line 7: '\t' expected after '\"'\n",
            "Skipping line 9: '\t' expected after '\"'\n"
          ],
          "name": "stderr"
        },
        {
          "output_type": "stream",
          "text": [
            "/content/drive/MyDrive/bbc/entertainment/167.txt\n",
            "/content/drive/MyDrive/bbc/entertainment/156.txt\n",
            "/content/drive/MyDrive/bbc/entertainment/162.txt\n",
            "/content/drive/MyDrive/bbc/entertainment/146.txt\n",
            "/content/drive/MyDrive/bbc/entertainment/138.txt\n",
            "/content/drive/MyDrive/bbc/entertainment/153.txt\n",
            "/content/drive/MyDrive/bbc/entertainment/132.txt\n",
            "/content/drive/MyDrive/bbc/entertainment/164.txt\n",
            "/content/drive/MyDrive/bbc/entertainment/148.txt\n",
            "/content/drive/MyDrive/bbc/entertainment/159.txt\n",
            "/content/drive/MyDrive/bbc/entertainment/150.txt\n",
            "/content/drive/MyDrive/bbc/entertainment/160.txt\n",
            "/content/drive/MyDrive/bbc/entertainment/163.txt\n",
            "/content/drive/MyDrive/bbc/entertainment/137.txt\n",
            "/content/drive/MyDrive/bbc/entertainment/145.txt\n",
            "/content/drive/MyDrive/bbc/entertainment/136.txt\n",
            "/content/drive/MyDrive/bbc/entertainment/169.txt\n",
            "/content/drive/MyDrive/bbc/entertainment/135.txt\n",
            "/content/drive/MyDrive/bbc/entertainment/134.txt\n",
            "/content/drive/MyDrive/bbc/entertainment/131.txt\n",
            "/content/drive/MyDrive/bbc/entertainment/158.txt\n",
            "/content/drive/MyDrive/bbc/entertainment/166.txt\n",
            "/content/drive/MyDrive/bbc/entertainment/168.txt\n",
            "/content/drive/MyDrive/bbc/entertainment/147.txt\n",
            "/content/drive/MyDrive/bbc/entertainment/161.txt\n",
            "/content/drive/MyDrive/bbc/entertainment/133.txt\n",
            "/content/drive/MyDrive/bbc/entertainment/171.txt\n",
            "/content/drive/MyDrive/bbc/entertainment/130.txt\n",
            "/content/drive/MyDrive/bbc/entertainment/143.txt\n",
            "/content/drive/MyDrive/bbc/entertainment/141.txt\n",
            "/content/drive/MyDrive/bbc/entertainment/214.txt\n",
            "/content/drive/MyDrive/bbc/entertainment/204.txt\n",
            "/content/drive/MyDrive/bbc/entertainment/197.txt\n",
            "/content/drive/MyDrive/bbc/entertainment/201.txt"
          ],
          "name": "stdout"
        },
        {
          "output_type": "stream",
          "text": [
            "Skipping line 7: '\t' expected after '\"'\n",
            "Skipping line 7: '\t' expected after '\"'\n",
            "Skipping line 5: '\t' expected after '\"'\n",
            "Skipping line 7: '\t' expected after '\"'\n",
            "Skipping line 9: '\t' expected after '\"'\n",
            "Skipping line 11: '\t' expected after '\"'\n",
            "Skipping line 9: '\t' expected after '\"'\n",
            "Skipping line 5: '\t' expected after '\"'\n",
            "Skipping line 11: '\t' expected after '\"'\n",
            "Skipping line 7: '\t' expected after '\"'\n"
          ],
          "name": "stderr"
        },
        {
          "output_type": "stream",
          "text": [
            "\n",
            "/content/drive/MyDrive/bbc/entertainment/179.txt\n",
            "/content/drive/MyDrive/bbc/entertainment/183.txt\n",
            "/content/drive/MyDrive/bbc/entertainment/175.txt\n",
            "/content/drive/MyDrive/bbc/entertainment/206.txt\n",
            "/content/drive/MyDrive/bbc/entertainment/192.txt\n",
            "/content/drive/MyDrive/bbc/entertainment/217.txt\n",
            "/content/drive/MyDrive/bbc/entertainment/218.txt\n",
            "/content/drive/MyDrive/bbc/entertainment/208.txt\n",
            "/content/drive/MyDrive/bbc/entertainment/200.txt\n",
            "/content/drive/MyDrive/bbc/entertainment/202.txt\n",
            "/content/drive/MyDrive/bbc/entertainment/216.txt\n",
            "/content/drive/MyDrive/bbc/entertainment/198.txt\n",
            "/content/drive/MyDrive/bbc/entertainment/195.txt\n",
            "/content/drive/MyDrive/bbc/entertainment/196.txt\n",
            "/content/drive/MyDrive/bbc/entertainment/178.txt\n",
            "/content/drive/MyDrive/bbc/entertainment/176.txt\n",
            "/content/drive/MyDrive/bbc/entertainment/181.txt\n",
            "/content/drive/MyDrive/bbc/entertainment/180.txt\n",
            "/content/drive/MyDrive/bbc/entertainment/203.txt\n",
            "/content/drive/MyDrive/bbc/entertainment/187.txt\n",
            "/content/drive/MyDrive/bbc/entertainment/215.txt\n",
            "/content/drive/MyDrive/bbc/entertainment/173.txt\n",
            "/content/drive/MyDrive/bbc/entertainment/207.txt\n",
            "/content/drive/MyDrive/bbc/entertainment/210.txt\n",
            "/content/drive/MyDrive/bbc/entertainment/177.txt\n",
            "/content/drive/MyDrive/bbc/entertainment/213.txt\n",
            "/content/drive/MyDrive/bbc/entertainment/182.txt\n",
            "/content/drive/MyDrive/bbc/entertainment/186.txt\n",
            "/content/drive/MyDrive/bbc/entertainment/212.txt\n",
            "/content/drive/MyDrive/bbc/entertainment/190.txt\n",
            "/content/drive/MyDrive/bbc/entertainment/189.txt\n",
            "/content/drive/MyDrive/bbc/entertainment/211.txt\n"
          ],
          "name": "stdout"
        },
        {
          "output_type": "stream",
          "text": [
            "Skipping line 7: '\t' expected after '\"'\n",
            "Skipping line 13: '\t' expected after '\"'\n",
            "Skipping line 7: '\t' expected after '\"'\n",
            "Skipping line 7: '\t' expected after '\"'\n",
            "Skipping line 77: '\t' expected after '\"'\n"
          ],
          "name": "stderr"
        },
        {
          "output_type": "stream",
          "text": [
            "/content/drive/MyDrive/bbc/entertainment/184.txt\n",
            "/content/drive/MyDrive/bbc/entertainment/209.txt\n",
            "/content/drive/MyDrive/bbc/entertainment/191.txt\n",
            "/content/drive/MyDrive/bbc/entertainment/194.txt\n",
            "/content/drive/MyDrive/bbc/entertainment/185.txt\n",
            "/content/drive/MyDrive/bbc/entertainment/193.txt\n",
            "/content/drive/MyDrive/bbc/entertainment/199.txt\n",
            "/content/drive/MyDrive/bbc/entertainment/174.txt\n",
            "/content/drive/MyDrive/bbc/entertainment/205.txt\n",
            "/content/drive/MyDrive/bbc/entertainment/188.txt\n",
            "/content/drive/MyDrive/bbc/entertainment/252.txt\n",
            "/content/drive/MyDrive/bbc/entertainment/258.txt\n",
            "/content/drive/MyDrive/bbc/entertainment/244.txt\n",
            "/content/drive/MyDrive/bbc/entertainment/220.txt\n",
            "/content/drive/MyDrive/bbc/entertainment/221.txt\n",
            "/content/drive/MyDrive/bbc/entertainment/251.txt\n",
            "/content/drive/MyDrive/bbc/entertainment/243.txt\n",
            "/content/drive/MyDrive/bbc/entertainment/222.txt\n",
            "/content/drive/MyDrive/bbc/entertainment/256.txt\n",
            "/content/drive/MyDrive/bbc/entertainment/254.txt\n",
            "/content/drive/MyDrive/bbc/entertainment/228.txt\n",
            "/content/drive/MyDrive/bbc/entertainment/230.txt\n",
            "/content/drive/MyDrive/bbc/entertainment/261.txt\n",
            "/content/drive/MyDrive/bbc/entertainment/255.txt\n",
            "/content/drive/MyDrive/bbc/entertainment/245.txt\n",
            "/content/drive/MyDrive/bbc/entertainment/241.txt\n",
            "/content/drive/MyDrive/bbc/entertainment/231.txt\n",
            "/content/drive/MyDrive/bbc/entertainment/229.txt\n",
            "/content/drive/MyDrive/bbc/entertainment/239.txt\n",
            "/content/drive/MyDrive/bbc/entertainment/224.txt\n",
            "/content/drive/MyDrive/bbc/entertainment/263.txt\n",
            "/content/drive/MyDrive/bbc/entertainment/247.txt\n"
          ],
          "name": "stdout"
        },
        {
          "output_type": "stream",
          "text": [
            "Skipping line 9: '\t' expected after '\"'\n",
            "Skipping line 7: '\t' expected after '\"'\n",
            "Skipping line 9: '\t' expected after '\"'\n",
            "Skipping line 9: '\t' expected after '\"'\n",
            "Skipping line 7: '\t' expected after '\"'\n",
            "Skipping line 7: '\t' expected after '\"'\n",
            "Skipping line 7: '\t' expected after '\"'\n",
            "Skipping line 9: '\t' expected after '\"'\n",
            "Skipping line 11: '\t' expected after '\"'\n",
            "Skipping line 11: '\t' expected after '\"'\n"
          ],
          "name": "stderr"
        },
        {
          "output_type": "stream",
          "text": [
            "/content/drive/MyDrive/bbc/entertainment/226.txt\n",
            "/content/drive/MyDrive/bbc/entertainment/250.txt\n",
            "/content/drive/MyDrive/bbc/entertainment/225.txt\n",
            "/content/drive/MyDrive/bbc/entertainment/257.txt\n",
            "/content/drive/MyDrive/bbc/entertainment/246.txt\n",
            "/content/drive/MyDrive/bbc/entertainment/227.txt\n",
            "/content/drive/MyDrive/bbc/entertainment/238.txt\n",
            "/content/drive/MyDrive/bbc/entertainment/235.txt\n",
            "/content/drive/MyDrive/bbc/entertainment/249.txt\n",
            "/content/drive/MyDrive/bbc/entertainment/223.txt\n",
            "/content/drive/MyDrive/bbc/entertainment/253.txt\n",
            "/content/drive/MyDrive/bbc/entertainment/242.txt\n",
            "/content/drive/MyDrive/bbc/entertainment/237.txt\n",
            "/content/drive/MyDrive/bbc/entertainment/236.txt\n",
            "/content/drive/MyDrive/bbc/entertainment/219.txt\n",
            "/content/drive/MyDrive/bbc/entertainment/232.txt\n",
            "/content/drive/MyDrive/bbc/entertainment/262.txt\n",
            "/content/drive/MyDrive/bbc/entertainment/240.txt\n",
            "/content/drive/MyDrive/bbc/entertainment/260.txt\n",
            "/content/drive/MyDrive/bbc/entertainment/248.txt\n",
            "/content/drive/MyDrive/bbc/entertainment/233.txt\n",
            "/content/drive/MyDrive/bbc/entertainment/234.txt\n",
            "/content/drive/MyDrive/bbc/entertainment/259.txt\n",
            "/content/drive/MyDrive/bbc/entertainment/297.txt\n",
            "/content/drive/MyDrive/bbc/entertainment/308.txt\n",
            "/content/drive/MyDrive/bbc/entertainment/290.txt\n",
            "/content/drive/MyDrive/bbc/entertainment/278.txt\n",
            "/content/drive/MyDrive/bbc/entertainment/283.txt\n",
            "/content/drive/MyDrive/bbc/entertainment/279.txt\n",
            "/content/drive/MyDrive/bbc/entertainment/264.txt\n",
            "/content/drive/MyDrive/bbc/entertainment/299.txt\n"
          ],
          "name": "stdout"
        },
        {
          "output_type": "stream",
          "text": [
            "Skipping line 9: '\t' expected after '\"'\n",
            "Skipping line 7: '\t' expected after '\"'\n",
            "Skipping line 9: '\t' expected after '\"'\n",
            "Skipping line 11: '\t' expected after '\"'\n",
            "Skipping line 9: '\t' expected after '\"'\n",
            "Skipping line 11: '\t' expected after '\"'\n",
            "Skipping line 7: '\t' expected after '\"'\n",
            "Skipping line 9: '\t' expected after '\"'\n",
            "Skipping line 7: '\t' expected after '\"'\n",
            "Skipping line 9: '\t' expected after '\"'\n"
          ],
          "name": "stderr"
        },
        {
          "output_type": "stream",
          "text": [
            "/content/drive/MyDrive/bbc/entertainment/305.txt\n",
            "/content/drive/MyDrive/bbc/entertainment/303.txt\n",
            "/content/drive/MyDrive/bbc/entertainment/265.txt\n",
            "/content/drive/MyDrive/bbc/entertainment/273.txt\n",
            "/content/drive/MyDrive/bbc/entertainment/300.txt\n",
            "/content/drive/MyDrive/bbc/entertainment/291.txt\n",
            "/content/drive/MyDrive/bbc/entertainment/285.txt\n",
            "/content/drive/MyDrive/bbc/entertainment/269.txt\n",
            "/content/drive/MyDrive/bbc/entertainment/282.txt\n",
            "/content/drive/MyDrive/bbc/entertainment/272.txt\n",
            "/content/drive/MyDrive/bbc/entertainment/293.txt\n",
            "/content/drive/MyDrive/bbc/entertainment/287.txt\n",
            "/content/drive/MyDrive/bbc/entertainment/296.txt\n",
            "/content/drive/MyDrive/bbc/entertainment/267.txt\n",
            "/content/drive/MyDrive/bbc/entertainment/298.txt\n",
            "/content/drive/MyDrive/bbc/entertainment/292.txt\n",
            "/content/drive/MyDrive/bbc/entertainment/302.txt\n",
            "/content/drive/MyDrive/bbc/entertainment/286.txt\n",
            "/content/drive/MyDrive/bbc/entertainment/294.txt\n",
            "/content/drive/MyDrive/bbc/entertainment/270.txt\n",
            "/content/drive/MyDrive/bbc/entertainment/274.txt\n",
            "/content/drive/MyDrive/bbc/entertainment/281.txt\n",
            "/content/drive/MyDrive/bbc/entertainment/266.txt\n",
            "/content/drive/MyDrive/bbc/entertainment/275.txt\n",
            "/content/drive/MyDrive/bbc/entertainment/306.txt\n",
            "/content/drive/MyDrive/bbc/entertainment/284.txt\n",
            "/content/drive/MyDrive/bbc/entertainment/271.txt\n",
            "/content/drive/MyDrive/bbc/entertainment/295.txt\n"
          ],
          "name": "stdout"
        },
        {
          "output_type": "stream",
          "text": [
            "Skipping line 7: '\t' expected after '\"'\n",
            "Skipping line 11: '\t' expected after '\"'\n",
            "Skipping line 11: '\t' expected after '\"'\n",
            "Skipping line 15: '\t' expected after '\"'\n",
            "Skipping line 9: '\t' expected after '\"'\n",
            "Skipping line 9: '\t' expected after '\"'\n",
            "Skipping line 11: '\t' expected after '\"'\n",
            "Skipping line 9: '\t' expected after '\"'\n",
            "Skipping line 13: '\t' expected after '\"'\n",
            "Skipping line 7: '\t' expected after '\"'\n",
            "Skipping line 13: '\t' expected after '\"'\n",
            "Skipping line 17: '\t' expected after '\"'\n",
            "Skipping line 13: '\t' expected after '\"'\n",
            "Skipping line 11: '\t' expected after '\"'\n",
            "Skipping line 9: '\t' expected after '\"'\n",
            "Skipping line 13: '\t' expected after '\"'\n"
          ],
          "name": "stderr"
        },
        {
          "output_type": "stream",
          "text": [
            "/content/drive/MyDrive/bbc/entertainment/277.txt\n",
            "/content/drive/MyDrive/bbc/entertainment/288.txt\n",
            "/content/drive/MyDrive/bbc/entertainment/268.txt\n",
            "/content/drive/MyDrive/bbc/entertainment/304.txt\n",
            "/content/drive/MyDrive/bbc/entertainment/307.txt\n",
            "/content/drive/MyDrive/bbc/entertainment/289.txt\n",
            "/content/drive/MyDrive/bbc/entertainment/301.txt\n",
            "/content/drive/MyDrive/bbc/entertainment/276.txt\n",
            "/content/drive/MyDrive/bbc/entertainment/280.txt\n",
            "/content/drive/MyDrive/bbc/entertainment/327.txt\n",
            "/content/drive/MyDrive/bbc/entertainment/331.txt\n",
            "/content/drive/MyDrive/bbc/entertainment/339.txt\n",
            "/content/drive/MyDrive/bbc/entertainment/326.txt\n",
            "/content/drive/MyDrive/bbc/entertainment/314.txt\n",
            "/content/drive/MyDrive/bbc/entertainment/318.txt\n",
            "/content/drive/MyDrive/bbc/entertainment/310.txt\n",
            "/content/drive/MyDrive/bbc/entertainment/336.txt\n",
            "/content/drive/MyDrive/bbc/entertainment/344.txt\n",
            "/content/drive/MyDrive/bbc/entertainment/347.txt\n",
            "/content/drive/MyDrive/bbc/entertainment/320.txt\n",
            "/content/drive/MyDrive/bbc/entertainment/353.txt\n",
            "/content/drive/MyDrive/bbc/entertainment/352.txt\n",
            "/content/drive/MyDrive/bbc/entertainment/321.txt\n",
            "/content/drive/MyDrive/bbc/entertainment/342.txt\n",
            "/content/drive/MyDrive/bbc/entertainment/316.txt\n",
            "/content/drive/MyDrive/bbc/entertainment/345.txt\n",
            "/content/drive/MyDrive/bbc/entertainment/313.txt\n",
            "/content/drive/MyDrive/bbc/entertainment/354.txt\n",
            "/content/drive/MyDrive/bbc/entertainment/312.txt\n",
            "/content/drive/MyDrive/bbc/entertainment/337.txt\n",
            "/content/drive/MyDrive/bbc/entertainment/340.txt\n"
          ],
          "name": "stdout"
        },
        {
          "output_type": "stream",
          "text": [
            "Skipping line 13: '\t' expected after '\"'\n",
            "Skipping line 7: '\t' expected after '\"'\n",
            "Skipping line 7: '\t' expected after '\"'\n",
            "Skipping line 9: '\t' expected after '\"'\n"
          ],
          "name": "stderr"
        },
        {
          "output_type": "stream",
          "text": [
            "/content/drive/MyDrive/bbc/entertainment/338.txt\n",
            "/content/drive/MyDrive/bbc/entertainment/325.txt\n",
            "/content/drive/MyDrive/bbc/entertainment/334.txt\n",
            "/content/drive/MyDrive/bbc/entertainment/311.txt\n",
            "/content/drive/MyDrive/bbc/entertainment/317.txt\n",
            "/content/drive/MyDrive/bbc/entertainment/346.txt\n",
            "/content/drive/MyDrive/bbc/entertainment/328.txt\n",
            "/content/drive/MyDrive/bbc/entertainment/350.txt\n",
            "/content/drive/MyDrive/bbc/entertainment/323.txt\n",
            "/content/drive/MyDrive/bbc/entertainment/348.txt\n",
            "/content/drive/MyDrive/bbc/entertainment/333.txt\n",
            "/content/drive/MyDrive/bbc/entertainment/351.txt\n",
            "/content/drive/MyDrive/bbc/entertainment/349.txt\n",
            "/content/drive/MyDrive/bbc/entertainment/343.txt\n",
            "/content/drive/MyDrive/bbc/entertainment/341.txt\n",
            "/content/drive/MyDrive/bbc/entertainment/309.txt\n",
            "/content/drive/MyDrive/bbc/entertainment/324.txt\n",
            "/content/drive/MyDrive/bbc/entertainment/319.txt\n",
            "/content/drive/MyDrive/bbc/entertainment/315.txt\n",
            "/content/drive/MyDrive/bbc/entertainment/322.txt\n",
            "/content/drive/MyDrive/bbc/entertainment/329.txt\n",
            "/content/drive/MyDrive/bbc/entertainment/335.txt\n",
            "/content/drive/MyDrive/bbc/entertainment/332.txt\n",
            "/content/drive/MyDrive/bbc/entertainment/330.txt\n",
            "/content/drive/MyDrive/bbc/entertainment/366.txt\n",
            "/content/drive/MyDrive/bbc/entertainment/384.txt\n",
            "/content/drive/MyDrive/bbc/entertainment/377.txt\n",
            "/content/drive/MyDrive/bbc/entertainment/365.txt\n",
            "/content/drive/MyDrive/bbc/entertainment/379.txt\n",
            "/content/drive/MyDrive/bbc/entertainment/363.txt\n",
            "/content/drive/MyDrive/bbc/entertainment/385.txt\n",
            "/content/drive/MyDrive/bbc/entertainment/373.txt\n",
            "/content/drive/MyDrive/bbc/entertainment/371.txt\n",
            "/content/drive/MyDrive/bbc/entertainment/356.txt\n",
            "/content/drive/MyDrive/bbc/entertainment/386.txt\n",
            "/content/drive/MyDrive/bbc/entertainment/370.txt\n",
            "/content/drive/MyDrive/bbc/entertainment/378.txt\n",
            "/content/drive/MyDrive/bbc/entertainment/368.txt\n",
            "/content/drive/MyDrive/bbc/entertainment/358.txt\n",
            "/content/drive/MyDrive/bbc/entertainment/361.txt\n",
            "/content/drive/MyDrive/bbc/entertainment/357.txt\n",
            "/content/drive/MyDrive/bbc/entertainment/375.txt\n",
            "/content/drive/MyDrive/bbc/entertainment/383.txt\n",
            "/content/drive/MyDrive/bbc/entertainment/374.txt\n",
            "/content/drive/MyDrive/bbc/entertainment/376.txt\n",
            "/content/drive/MyDrive/bbc/entertainment/360.txt\n",
            "/content/drive/MyDrive/bbc/entertainment/369.txt\n",
            "/content/drive/MyDrive/bbc/entertainment/382.txt\n",
            "/content/drive/MyDrive/bbc/entertainment/355.txt\n",
            "/content/drive/MyDrive/bbc/entertainment/372.txt\n",
            "/content/drive/MyDrive/bbc/entertainment/381.txt\n",
            "/content/drive/MyDrive/bbc/entertainment/362.txt\n",
            "/content/drive/MyDrive/bbc/entertainment/367.txt\n",
            "/content/drive/MyDrive/bbc/entertainment/380.txt\n",
            "/content/drive/MyDrive/bbc/entertainment/364.txt\n",
            "/content/drive/MyDrive/bbc/entertainment/359.txt\n",
            "/content/drive/MyDrive/bbc/politics/007.txt\n",
            "/content/drive/MyDrive/bbc/politics/004.txt\n",
            "/content/drive/MyDrive/bbc/politics/003.txt\n",
            "/content/drive/MyDrive/bbc/politics/002.txt\n"
          ],
          "name": "stdout"
        },
        {
          "output_type": "stream",
          "text": [
            "Skipping line 9: '\t' expected after '\"'\n",
            "Skipping line 9: '\t' expected after '\"'\n",
            "Skipping line 7: '\t' expected after '\"'\n",
            "Skipping line 9: '\t' expected after '\"'\n",
            "Skipping line 13: '\t' expected after '\"'\n",
            "Skipping line 17: '\t' expected after '\"'\n",
            "Skipping line 9: '\t' expected after '\"'\n",
            "Skipping line 7: '\t' expected after '\"'\n",
            "Skipping line 7: '\t' expected after '\"'\n",
            "Skipping line 11: '\t' expected after '\"'\n",
            "Skipping line 11: '\t' expected after '\"'\n",
            "Skipping line 7: '\t' expected after '\"'\n",
            "Skipping line 17: '\t' expected after '\"'\n",
            "Skipping line 11: '\t' expected after '\"'\n",
            "Skipping line 11: '\t' expected after '\"'\n"
          ],
          "name": "stderr"
        },
        {
          "output_type": "stream",
          "text": [
            "/content/drive/MyDrive/bbc/politics/011.txt\n",
            "/content/drive/MyDrive/bbc/politics/005.txt\n",
            "/content/drive/MyDrive/bbc/politics/001.txt\n",
            "/content/drive/MyDrive/bbc/politics/008.txt\n",
            "/content/drive/MyDrive/bbc/politics/012.txt\n",
            "/content/drive/MyDrive/bbc/politics/009.txt\n",
            "/content/drive/MyDrive/bbc/politics/013.txt\n",
            "/content/drive/MyDrive/bbc/politics/006.txt\n",
            "/content/drive/MyDrive/bbc/politics/010.txt\n",
            "/content/drive/MyDrive/bbc/politics/057.txt\n",
            "/content/drive/MyDrive/bbc/politics/028.txt\n",
            "/content/drive/MyDrive/bbc/politics/022.txt\n",
            "/content/drive/MyDrive/bbc/politics/032.txt\n",
            "/content/drive/MyDrive/bbc/politics/045.txt\n",
            "/content/drive/MyDrive/bbc/politics/024.txt\n",
            "/content/drive/MyDrive/bbc/politics/046.txt\n",
            "/content/drive/MyDrive/bbc/politics/054.txt\n",
            "/content/drive/MyDrive/bbc/politics/059.txt\n",
            "/content/drive/MyDrive/bbc/politics/047.txt\n",
            "/content/drive/MyDrive/bbc/politics/036.txt\n",
            "/content/drive/MyDrive/bbc/politics/031.txt\n",
            "/content/drive/MyDrive/bbc/politics/030.txt\n",
            "/content/drive/MyDrive/bbc/politics/037.txt\n",
            "/content/drive/MyDrive/bbc/politics/014.txt\n",
            "/content/drive/MyDrive/bbc/politics/042.txt\n",
            "/content/drive/MyDrive/bbc/politics/044.txt\n",
            "/content/drive/MyDrive/bbc/politics/053.txt\n",
            "/content/drive/MyDrive/bbc/politics/016.txt\n",
            "/content/drive/MyDrive/bbc/politics/019.txt\n",
            "/content/drive/MyDrive/bbc/politics/029.txt\n",
            "/content/drive/MyDrive/bbc/politics/041.txt\n",
            "/content/drive/MyDrive/bbc/politics/023.txt\n",
            "/content/drive/MyDrive/bbc/politics/052.txt\n"
          ],
          "name": "stdout"
        },
        {
          "output_type": "stream",
          "text": [
            "Skipping line 9: '\t' expected after '\"'\n",
            "Skipping line 11: '\t' expected after '\"'\n",
            "Skipping line 7: '\t' expected after '\"'\n",
            "Skipping line 9: '\t' expected after '\"'\n",
            "Skipping line 11: '\t' expected after '\"'\n",
            "Skipping line 9: '\t' expected after '\"'\n"
          ],
          "name": "stderr"
        },
        {
          "output_type": "stream",
          "text": [
            "/content/drive/MyDrive/bbc/politics/040.txt\n",
            "/content/drive/MyDrive/bbc/politics/025.txt\n",
            "/content/drive/MyDrive/bbc/politics/027.txt\n",
            "/content/drive/MyDrive/bbc/politics/049.txt\n",
            "/content/drive/MyDrive/bbc/politics/048.txt\n",
            "/content/drive/MyDrive/bbc/politics/058.txt\n",
            "/content/drive/MyDrive/bbc/politics/026.txt\n",
            "/content/drive/MyDrive/bbc/politics/015.txt\n",
            "/content/drive/MyDrive/bbc/politics/038.txt\n",
            "/content/drive/MyDrive/bbc/politics/051.txt\n",
            "/content/drive/MyDrive/bbc/politics/033.txt\n",
            "/content/drive/MyDrive/bbc/politics/034.txt\n",
            "/content/drive/MyDrive/bbc/politics/056.txt\n",
            "/content/drive/MyDrive/bbc/politics/018.txt\n",
            "/content/drive/MyDrive/bbc/politics/043.txt\n",
            "/content/drive/MyDrive/bbc/politics/021.txt\n",
            "/content/drive/MyDrive/bbc/politics/017.txt\n",
            "/content/drive/MyDrive/bbc/politics/050.txt\n",
            "/content/drive/MyDrive/bbc/politics/039.txt\n",
            "/content/drive/MyDrive/bbc/politics/055.txt\n",
            "/content/drive/MyDrive/bbc/politics/020.txt\n",
            "/content/drive/MyDrive/bbc/politics/035.txt\n",
            "/content/drive/MyDrive/bbc/politics/086.txt\n",
            "/content/drive/MyDrive/bbc/politics/072.txt\n",
            "/content/drive/MyDrive/bbc/politics/060.txt\n",
            "/content/drive/MyDrive/bbc/politics/061.txt\n",
            "/content/drive/MyDrive/bbc/politics/094.txt\n",
            "/content/drive/MyDrive/bbc/politics/070.txt\n",
            "/content/drive/MyDrive/bbc/politics/096.txt\n",
            "/content/drive/MyDrive/bbc/politics/073.txt\n",
            "/content/drive/MyDrive/bbc/politics/083.txt\n",
            "/content/drive/MyDrive/bbc/politics/095.txt\n",
            "/content/drive/MyDrive/bbc/politics/077.txt\n",
            "/content/drive/MyDrive/bbc/politics/066.txt\n"
          ],
          "name": "stdout"
        },
        {
          "output_type": "stream",
          "text": [
            "Skipping line 13: '\t' expected after '\"'\n",
            "Skipping line 9: '\t' expected after '\"'\n",
            "Skipping line 11: '\t' expected after '\"'\n",
            "Skipping line 9: '\t' expected after '\"'\n",
            "Skipping line 9: '\t' expected after '\"'\n",
            "Skipping line 13: '\t' expected after '\"'\n",
            "Skipping line 15: '\t' expected after '\"'\n",
            "Skipping line 9: '\t' expected after '\"'\n",
            "Skipping line 13: '\t' expected after '\"'\n",
            "Skipping line 9: '\t' expected after '\"'\n",
            "Skipping line 9: '\t' expected after '\"'\n",
            "Skipping line 7: '\t' expected after '\"'\n",
            "Skipping line 20: '\t' expected after '\"'\n",
            "Skipping line 7: '\t' expected after '\"'\n",
            "Skipping line 13: '\t' expected after '\"'\n",
            "Skipping line 15: '\t' expected after '\"'\n",
            "Skipping line 11: '\t' expected after '\"'\n",
            "Skipping line 7: '\t' expected after '\"'\n",
            "Skipping line 9: '\t' expected after '\"'\n",
            "Skipping line 7: '\t' expected after '\"'\n",
            "Skipping line 9: '\t' expected after '\"'\n",
            "Skipping line 22: '\t' expected after '\"'\n"
          ],
          "name": "stderr"
        },
        {
          "output_type": "stream",
          "text": [
            "/content/drive/MyDrive/bbc/politics/093.txt\n",
            "/content/drive/MyDrive/bbc/politics/076.txt\n",
            "/content/drive/MyDrive/bbc/politics/082.txt\n",
            "/content/drive/MyDrive/bbc/politics/088.txt\n",
            "/content/drive/MyDrive/bbc/politics/092.txt\n",
            "/content/drive/MyDrive/bbc/politics/089.txt\n",
            "/content/drive/MyDrive/bbc/politics/079.txt\n",
            "/content/drive/MyDrive/bbc/politics/067.txt\n",
            "/content/drive/MyDrive/bbc/politics/081.txt\n",
            "/content/drive/MyDrive/bbc/politics/080.txt\n",
            "/content/drive/MyDrive/bbc/politics/069.txt\n",
            "/content/drive/MyDrive/bbc/politics/062.txt\n",
            "/content/drive/MyDrive/bbc/politics/065.txt\n",
            "/content/drive/MyDrive/bbc/politics/068.txt\n",
            "/content/drive/MyDrive/bbc/politics/078.txt\n",
            "/content/drive/MyDrive/bbc/politics/075.txt\n",
            "/content/drive/MyDrive/bbc/politics/063.txt\n",
            "/content/drive/MyDrive/bbc/politics/085.txt\n",
            "/content/drive/MyDrive/bbc/politics/084.txt\n",
            "/content/drive/MyDrive/bbc/politics/064.txt\n",
            "/content/drive/MyDrive/bbc/politics/074.txt\n",
            "/content/drive/MyDrive/bbc/politics/091.txt\n",
            "/content/drive/MyDrive/bbc/politics/071.txt\n",
            "/content/drive/MyDrive/bbc/politics/090.txt\n",
            "/content/drive/MyDrive/bbc/politics/087.txt\n",
            "/content/drive/MyDrive/bbc/politics/123.txt\n",
            "/content/drive/MyDrive/bbc/politics/099.txt\n",
            "/content/drive/MyDrive/bbc/politics/113.txt\n",
            "/content/drive/MyDrive/bbc/politics/111.txt\n",
            "/content/drive/MyDrive/bbc/politics/133.txt\n",
            "/content/drive/MyDrive/bbc/politics/131.txt\n",
            "/content/drive/MyDrive/bbc/politics/128.txt\n",
            "/content/drive/MyDrive/bbc/politics/139.txt\n",
            "/content/drive/MyDrive/bbc/politics/140.txt\n",
            "/content/drive/MyDrive/bbc/politics/115.txt\n",
            "/content/drive/MyDrive/bbc/politics/121.txt\n",
            "/content/drive/MyDrive/bbc/politics/100.txt\n",
            "/content/drive/MyDrive/bbc/politics/141.txt\n",
            "/content/drive/MyDrive/bbc/politics/119.txt\n",
            "/content/drive/MyDrive/bbc/politics/101.txt\n",
            "/content/drive/MyDrive/bbc/politics/103.txt\n",
            "/content/drive/MyDrive/bbc/politics/098.txt\n",
            "/content/drive/MyDrive/bbc/politics/120.txt\n",
            "/content/drive/MyDrive/bbc/politics/129.txt\n",
            "/content/drive/MyDrive/bbc/politics/135.txt\n",
            "/content/drive/MyDrive/bbc/politics/116.txt\n",
            "/content/drive/MyDrive/bbc/politics/104.txt\n",
            "/content/drive/MyDrive/bbc/politics/097.txt\n",
            "/content/drive/MyDrive/bbc/politics/124.txt\n",
            "/content/drive/MyDrive/bbc/politics/126.txt\n",
            "/content/drive/MyDrive/bbc/politics/117.txt\n",
            "/content/drive/MyDrive/bbc/politics/105.txt\n",
            "/content/drive/MyDrive/bbc/politics/114.txt\n",
            "/content/drive/MyDrive/bbc/politics/109.txt\n",
            "/content/drive/MyDrive/bbc/politics/137.txt\n",
            "/content/drive/MyDrive/bbc/politics/138.txt\n",
            "/content/drive/MyDrive/bbc/politics/142.txt\n",
            "/content/drive/MyDrive/bbc/politics/110.txt\n",
            "/content/drive/MyDrive/bbc/politics/106.txt\n",
            "/content/drive/MyDrive/bbc/politics/118.txt\n",
            "/content/drive/MyDrive/bbc/politics/134.txt\n"
          ],
          "name": "stdout"
        },
        {
          "output_type": "stream",
          "text": [
            "Skipping line 11: '\t' expected after '\"'\n",
            "Skipping line 7: '\t' expected after '\"'\n",
            "Skipping line 9: '\t' expected after '\"'\n",
            "Skipping line 9: '\t' expected after '\"'\n",
            "Skipping line 9: '\t' expected after '\"'\n",
            "Skipping line 5: '\t' expected after '\"'\n",
            "Skipping line 7: '\t' expected after '\"'\n",
            "Skipping line 7: '\t' expected after '\"'\n",
            "Skipping line 9: '\t' expected after '\"'\n",
            "Skipping line 13: '\t' expected after '\"'\n",
            "Skipping line 15: '\t' expected after '\"'\n",
            "Skipping line 9: '\t' expected after '\"'\n",
            "Skipping line 7: '\t' expected after '\"'\n",
            "Skipping line 9: '\t' expected after '\"'\n",
            "Skipping line 5: '\t' expected after '\"'\n",
            "Skipping line 7: '\t' expected after '\"'\n",
            "Skipping line 11: '\t' expected after '\"'\n",
            "Skipping line 9: '\t' expected after '\"'\n",
            "Skipping line 9: '\t' expected after '\"'\n",
            "Skipping line 7: '\t' expected after '\"'\n"
          ],
          "name": "stderr"
        },
        {
          "output_type": "stream",
          "text": [
            "/content/drive/MyDrive/bbc/politics/107.txt\n",
            "/content/drive/MyDrive/bbc/politics/130.txt\n",
            "/content/drive/MyDrive/bbc/politics/132.txt\n",
            "/content/drive/MyDrive/bbc/politics/127.txt\n",
            "/content/drive/MyDrive/bbc/politics/125.txt\n",
            "/content/drive/MyDrive/bbc/politics/136.txt\n",
            "/content/drive/MyDrive/bbc/politics/112.txt\n",
            "/content/drive/MyDrive/bbc/politics/108.txt\n",
            "/content/drive/MyDrive/bbc/politics/122.txt\n",
            "/content/drive/MyDrive/bbc/politics/102.txt\n",
            "/content/drive/MyDrive/bbc/politics/149.txt\n",
            "/content/drive/MyDrive/bbc/politics/159.txt\n",
            "/content/drive/MyDrive/bbc/politics/173.txt\n",
            "/content/drive/MyDrive/bbc/politics/185.txt\n",
            "/content/drive/MyDrive/bbc/politics/179.txt\n",
            "/content/drive/MyDrive/bbc/politics/180.txt\n",
            "/content/drive/MyDrive/bbc/politics/155.txt\n",
            "/content/drive/MyDrive/bbc/politics/181.txt\n",
            "/content/drive/MyDrive/bbc/politics/162.txt\n",
            "/content/drive/MyDrive/bbc/politics/167.txt\n",
            "/content/drive/MyDrive/bbc/politics/156.txt\n",
            "/content/drive/MyDrive/bbc/politics/183.txt\n",
            "/content/drive/MyDrive/bbc/politics/175.txt\n",
            "/content/drive/MyDrive/bbc/politics/172.txt\n",
            "/content/drive/MyDrive/bbc/politics/164.txt\n",
            "/content/drive/MyDrive/bbc/politics/177.txt\n",
            "/content/drive/MyDrive/bbc/politics/158.txt\n",
            "/content/drive/MyDrive/bbc/politics/161.txt\n"
          ],
          "name": "stdout"
        },
        {
          "output_type": "stream",
          "text": [
            "Skipping line 9: '\t' expected after '\"'\n",
            "Skipping line 9: '\t' expected after '\"'\n",
            "Skipping line 13: '\t' expected after '\"'\n",
            "Skipping line 9: '\t' expected after '\"'\n",
            "Skipping line 3: '\t' expected after '\"'\n",
            "Skipping line 5: '\t' expected after '\"'\n",
            "Skipping line 13: '\t' expected after '\"'\n",
            "Skipping line 9: '\t' expected after '\"'\n",
            "Skipping line 9: '\t' expected after '\"'\n",
            "Skipping line 9: '\t' expected after '\"'\n",
            "Skipping line 11: '\t' expected after '\"'\n",
            "Skipping line 11: '\t' expected after '\"'\n"
          ],
          "name": "stderr"
        },
        {
          "output_type": "stream",
          "text": [
            "/content/drive/MyDrive/bbc/politics/170.txt\n",
            "/content/drive/MyDrive/bbc/politics/147.txt\n",
            "/content/drive/MyDrive/bbc/politics/178.txt\n",
            "/content/drive/MyDrive/bbc/politics/144.txt\n",
            "/content/drive/MyDrive/bbc/politics/146.txt\n",
            "/content/drive/MyDrive/bbc/politics/154.txt\n",
            "/content/drive/MyDrive/bbc/politics/169.txt\n",
            "/content/drive/MyDrive/bbc/politics/166.txt\n",
            "/content/drive/MyDrive/bbc/politics/151.txt\n",
            "/content/drive/MyDrive/bbc/politics/188.txt\n",
            "/content/drive/MyDrive/bbc/politics/182.txt\n",
            "/content/drive/MyDrive/bbc/politics/143.txt\n",
            "/content/drive/MyDrive/bbc/politics/184.txt\n",
            "/content/drive/MyDrive/bbc/politics/168.txt\n",
            "/content/drive/MyDrive/bbc/politics/148.txt\n",
            "/content/drive/MyDrive/bbc/politics/150.txt\n",
            "/content/drive/MyDrive/bbc/politics/165.txt\n",
            "/content/drive/MyDrive/bbc/politics/152.txt\n",
            "/content/drive/MyDrive/bbc/politics/160.txt\n",
            "/content/drive/MyDrive/bbc/politics/174.txt\n",
            "/content/drive/MyDrive/bbc/politics/163.txt\n",
            "/content/drive/MyDrive/bbc/politics/176.txt\n",
            "/content/drive/MyDrive/bbc/politics/153.txt\n",
            "/content/drive/MyDrive/bbc/politics/145.txt\n",
            "/content/drive/MyDrive/bbc/politics/157.txt\n",
            "/content/drive/MyDrive/bbc/politics/186.txt\n",
            "/content/drive/MyDrive/bbc/politics/187.txt\n"
          ],
          "name": "stdout"
        },
        {
          "output_type": "stream",
          "text": [
            "Skipping line 7: '\t' expected after '\"'\n",
            "Skipping line 15: '\t' expected after '\"'\n",
            "Skipping line 7: '\t' expected after '\"'\n",
            "Skipping line 11: '\t' expected after '\"'\n",
            "Skipping line 9: '\t' expected after '\"'\n",
            "Skipping line 7: '\t' expected after '\"'\n",
            "Skipping line 9: '\t' expected after '\"'\n",
            "Skipping line 9: '\t' expected after '\"'\n",
            "Skipping line 9: '\t' expected after '\"'\n"
          ],
          "name": "stderr"
        },
        {
          "output_type": "stream",
          "text": [
            "/content/drive/MyDrive/bbc/politics/171.txt\n",
            "/content/drive/MyDrive/bbc/politics/225.txt\n",
            "/content/drive/MyDrive/bbc/politics/226.txt\n",
            "/content/drive/MyDrive/bbc/politics/207.txt\n",
            "/content/drive/MyDrive/bbc/politics/199.txt\n",
            "/content/drive/MyDrive/bbc/politics/200.txt\n",
            "/content/drive/MyDrive/bbc/politics/221.txt\n",
            "/content/drive/MyDrive/bbc/politics/208.txt\n",
            "/content/drive/MyDrive/bbc/politics/197.txt\n",
            "/content/drive/MyDrive/bbc/politics/192.txt\n",
            "/content/drive/MyDrive/bbc/politics/209.txt\n",
            "/content/drive/MyDrive/bbc/politics/204.txt\n",
            "/content/drive/MyDrive/bbc/politics/206.txt\n",
            "/content/drive/MyDrive/bbc/politics/201.txt\n",
            "/content/drive/MyDrive/bbc/politics/223.txt\n",
            "/content/drive/MyDrive/bbc/politics/194.txt\n",
            "/content/drive/MyDrive/bbc/politics/202.txt\n",
            "/content/drive/MyDrive/bbc/politics/195.txt\n",
            "/content/drive/MyDrive/bbc/politics/193.txt\n",
            "/content/drive/MyDrive/bbc/politics/215.txt\n",
            "/content/drive/MyDrive/bbc/politics/219.txt\n",
            "/content/drive/MyDrive/bbc/politics/191.txt\n",
            "/content/drive/MyDrive/bbc/politics/190.txt\n",
            "/content/drive/MyDrive/bbc/politics/203.txt\n",
            "/content/drive/MyDrive/bbc/politics/196.txt\n",
            "/content/drive/MyDrive/bbc/politics/224.txt\n",
            "/content/drive/MyDrive/bbc/politics/220.txt\n",
            "/content/drive/MyDrive/bbc/politics/212.txt\n",
            "/content/drive/MyDrive/bbc/politics/189.txt\n",
            "/content/drive/MyDrive/bbc/politics/198.txt\n",
            "/content/drive/MyDrive/bbc/politics/222.txt\n",
            "/content/drive/MyDrive/bbc/politics/210.txt\n"
          ],
          "name": "stdout"
        },
        {
          "output_type": "stream",
          "text": [
            "Skipping line 9: '\t' expected after '\"'\n",
            "Skipping line 9: '\t' expected after '\"'\n",
            "Skipping line 11: '\t' expected after '\"'\n",
            "Skipping line 9: '\t' expected after '\"'\n",
            "Skipping line 9: '\t' expected after '\"'\n",
            "Skipping line 13: '\t' expected after '\"'\n",
            "Skipping line 9: '\t' expected after '\"'\n",
            "Skipping line 5: '\t' expected after '\"'\n",
            "Skipping line 7: '\t' expected after '\"'\n",
            "Skipping line 11: '\t' expected after '\"'\n",
            "Skipping line 5: '\t' expected after '\"'\n",
            "Skipping line 7: '\t' expected after '\"'\n",
            "Skipping line 9: '\t' expected after '\"'\n",
            "Skipping line 15: '\t' expected after '\"'\n"
          ],
          "name": "stderr"
        },
        {
          "output_type": "stream",
          "text": [
            "/content/drive/MyDrive/bbc/politics/205.txt\n",
            "/content/drive/MyDrive/bbc/politics/218.txt\n",
            "/content/drive/MyDrive/bbc/politics/217.txt\n",
            "/content/drive/MyDrive/bbc/politics/216.txt\n",
            "/content/drive/MyDrive/bbc/politics/211.txt\n",
            "/content/drive/MyDrive/bbc/politics/213.txt\n",
            "/content/drive/MyDrive/bbc/politics/214.txt\n",
            "/content/drive/MyDrive/bbc/politics/250.txt\n",
            "/content/drive/MyDrive/bbc/politics/246.txt\n",
            "/content/drive/MyDrive/bbc/politics/253.txt\n",
            "/content/drive/MyDrive/bbc/politics/254.txt\n",
            "/content/drive/MyDrive/bbc/politics/267.txt\n",
            "/content/drive/MyDrive/bbc/politics/227.txt\n",
            "/content/drive/MyDrive/bbc/politics/241.txt\n",
            "/content/drive/MyDrive/bbc/politics/263.txt\n",
            "/content/drive/MyDrive/bbc/politics/240.txt\n",
            "/content/drive/MyDrive/bbc/politics/235.txt\n",
            "/content/drive/MyDrive/bbc/politics/232.txt\n",
            "/content/drive/MyDrive/bbc/politics/257.txt\n",
            "/content/drive/MyDrive/bbc/politics/237.txt\n",
            "/content/drive/MyDrive/bbc/politics/231.txt\n",
            "/content/drive/MyDrive/bbc/politics/248.txt\n",
            "/content/drive/MyDrive/bbc/politics/233.txt\n",
            "/content/drive/MyDrive/bbc/politics/264.txt\n",
            "/content/drive/MyDrive/bbc/politics/252.txt\n",
            "/content/drive/MyDrive/bbc/politics/260.txt\n",
            "/content/drive/MyDrive/bbc/politics/234.txt\n",
            "/content/drive/MyDrive/bbc/politics/247.txt\n",
            "/content/drive/MyDrive/bbc/politics/266.txt\n"
          ],
          "name": "stdout"
        },
        {
          "output_type": "stream",
          "text": [
            "Skipping line 7: '\t' expected after '\"'\n",
            "Skipping line 7: '\t' expected after '\"'\n",
            "Skipping line 13: '\t' expected after '\"'\n",
            "Skipping line 11: '\t' expected after '\"'\n",
            "Skipping line 15: '\t' expected after '\"'\n",
            "Skipping line 15: '\t' expected after '\"'\n",
            "Skipping line 7: '\t' expected after '\"'\n",
            "Skipping line 7: '\t' expected after '\"'\n",
            "Skipping line 9: '\t' expected after '\"'\n",
            "Skipping line 5: '\t' expected after '\"'\n"
          ],
          "name": "stderr"
        },
        {
          "output_type": "stream",
          "text": [
            "/content/drive/MyDrive/bbc/politics/251.txt\n",
            "/content/drive/MyDrive/bbc/politics/269.txt\n",
            "/content/drive/MyDrive/bbc/politics/229.txt\n",
            "/content/drive/MyDrive/bbc/politics/243.txt\n",
            "/content/drive/MyDrive/bbc/politics/270.txt\n",
            "/content/drive/MyDrive/bbc/politics/262.txt\n",
            "/content/drive/MyDrive/bbc/politics/228.txt\n",
            "/content/drive/MyDrive/bbc/politics/242.txt\n",
            "/content/drive/MyDrive/bbc/politics/249.txt\n",
            "/content/drive/MyDrive/bbc/politics/236.txt\n",
            "/content/drive/MyDrive/bbc/politics/271.txt\n",
            "/content/drive/MyDrive/bbc/politics/255.txt\n",
            "/content/drive/MyDrive/bbc/politics/265.txt\n",
            "/content/drive/MyDrive/bbc/politics/244.txt\n",
            "/content/drive/MyDrive/bbc/politics/245.txt\n",
            "/content/drive/MyDrive/bbc/politics/238.txt\n",
            "/content/drive/MyDrive/bbc/politics/268.txt\n",
            "/content/drive/MyDrive/bbc/politics/258.txt\n",
            "/content/drive/MyDrive/bbc/politics/230.txt\n",
            "/content/drive/MyDrive/bbc/politics/261.txt\n",
            "/content/drive/MyDrive/bbc/politics/259.txt\n",
            "/content/drive/MyDrive/bbc/politics/256.txt\n",
            "/content/drive/MyDrive/bbc/politics/239.txt\n",
            "/content/drive/MyDrive/bbc/politics/312.txt\n",
            "/content/drive/MyDrive/bbc/politics/272.txt\n",
            "/content/drive/MyDrive/bbc/politics/308.txt\n",
            "/content/drive/MyDrive/bbc/politics/283.txt\n",
            "/content/drive/MyDrive/bbc/politics/301.txt\n",
            "/content/drive/MyDrive/bbc/politics/281.txt\n",
            "/content/drive/MyDrive/bbc/politics/280.txt\n",
            "/content/drive/MyDrive/bbc/politics/291.txt\n"
          ],
          "name": "stdout"
        },
        {
          "output_type": "stream",
          "text": [
            "Skipping line 11: '\t' expected after '\"'\n",
            "Skipping line 7: '\t' expected after '\"'\n",
            "Skipping line 11: '\t' expected after '\"'\n",
            "Skipping line 15: '\t' expected after '\"'\n",
            "Skipping line 9: '\t' expected after '\"'\n"
          ],
          "name": "stderr"
        },
        {
          "output_type": "stream",
          "text": [
            "/content/drive/MyDrive/bbc/politics/288.txt\n",
            "/content/drive/MyDrive/bbc/politics/313.txt\n",
            "/content/drive/MyDrive/bbc/politics/289.txt\n",
            "/content/drive/MyDrive/bbc/politics/290.txt\n",
            "/content/drive/MyDrive/bbc/politics/311.txt\n",
            "/content/drive/MyDrive/bbc/politics/315.txt\n",
            "/content/drive/MyDrive/bbc/politics/302.txt\n",
            "/content/drive/MyDrive/bbc/politics/299.txt\n",
            "/content/drive/MyDrive/bbc/politics/273.txt\n",
            "/content/drive/MyDrive/bbc/politics/278.txt\n",
            "/content/drive/MyDrive/bbc/politics/309.txt\n",
            "/content/drive/MyDrive/bbc/politics/276.txt\n",
            "/content/drive/MyDrive/bbc/politics/316.txt\n",
            "/content/drive/MyDrive/bbc/politics/305.txt\n",
            "/content/drive/MyDrive/bbc/politics/292.txt\n",
            "/content/drive/MyDrive/bbc/politics/307.txt\n",
            "/content/drive/MyDrive/bbc/politics/296.txt\n",
            "/content/drive/MyDrive/bbc/politics/294.txt\n",
            "/content/drive/MyDrive/bbc/politics/287.txt\n",
            "/content/drive/MyDrive/bbc/politics/275.txt\n",
            "/content/drive/MyDrive/bbc/politics/297.txt\n",
            "/content/drive/MyDrive/bbc/politics/304.txt\n",
            "/content/drive/MyDrive/bbc/politics/285.txt\n",
            "/content/drive/MyDrive/bbc/politics/298.txt\n",
            "/content/drive/MyDrive/bbc/politics/310.txt\n",
            "/content/drive/MyDrive/bbc/politics/277.txt\n",
            "/content/drive/MyDrive/bbc/politics/274.txt\n",
            "/content/drive/MyDrive/bbc/politics/300.txt\n",
            "/content/drive/MyDrive/bbc/politics/279.txt\n"
          ],
          "name": "stdout"
        },
        {
          "output_type": "stream",
          "text": [
            "Skipping line 9: '\t' expected after '\"'\n",
            "Skipping line 9: '\t' expected after '\"'\n",
            "Skipping line 7: '\t' expected after '\"'\n",
            "Skipping line 9: '\t' expected after '\"'\n",
            "Skipping line 11: '\t' expected after '\"'\n",
            "Skipping line 7: '\t' expected after '\"'\n",
            "Skipping line 13: '\t' expected after '\"'\n",
            "Skipping line 15: '\t' expected after '\"'\n",
            "Skipping line 5: '\t' expected after '\"'\n",
            "Skipping line 9: '\t' expected after '\"'\n",
            "Skipping line 17: '\t' expected after '\"'\n",
            "Skipping line 15: '\t' expected after '\"'\n"
          ],
          "name": "stderr"
        },
        {
          "output_type": "stream",
          "text": [
            "/content/drive/MyDrive/bbc/politics/295.txt\n",
            "/content/drive/MyDrive/bbc/politics/293.txt\n",
            "/content/drive/MyDrive/bbc/politics/303.txt\n",
            "/content/drive/MyDrive/bbc/politics/286.txt\n",
            "/content/drive/MyDrive/bbc/politics/306.txt\n",
            "/content/drive/MyDrive/bbc/politics/282.txt\n",
            "/content/drive/MyDrive/bbc/politics/284.txt\n",
            "/content/drive/MyDrive/bbc/politics/317.txt\n",
            "/content/drive/MyDrive/bbc/politics/314.txt\n",
            "/content/drive/MyDrive/bbc/politics/331.txt\n",
            "/content/drive/MyDrive/bbc/politics/336.txt\n",
            "/content/drive/MyDrive/bbc/politics/355.txt\n",
            "/content/drive/MyDrive/bbc/politics/348.txt\n",
            "/content/drive/MyDrive/bbc/politics/334.txt\n",
            "/content/drive/MyDrive/bbc/politics/338.txt\n",
            "/content/drive/MyDrive/bbc/politics/324.txt\n",
            "/content/drive/MyDrive/bbc/politics/362.txt\n",
            "/content/drive/MyDrive/bbc/politics/359.txt\n",
            "/content/drive/MyDrive/bbc/politics/325.txt\n",
            "/content/drive/MyDrive/bbc/politics/327.txt\n",
            "/content/drive/MyDrive/bbc/politics/341.txt\n",
            "/content/drive/MyDrive/bbc/politics/354.txt\n",
            "/content/drive/MyDrive/bbc/politics/340.txt\n",
            "/content/drive/MyDrive/bbc/politics/337.txt\n",
            "/content/drive/MyDrive/bbc/politics/343.txt\n",
            "/content/drive/MyDrive/bbc/politics/326.txt\n",
            "/content/drive/MyDrive/bbc/politics/353.txt\n",
            "/content/drive/MyDrive/bbc/politics/345.txt\n",
            "/content/drive/MyDrive/bbc/politics/360.txt\n"
          ],
          "name": "stdout"
        },
        {
          "output_type": "stream",
          "text": [
            "Skipping line 13: '\t' expected after '\"'\n",
            "Skipping line 7: '\t' expected after '\"'\n",
            "Skipping line 9: '\t' expected after '\"'\n",
            "Skipping line 9: '\t' expected after '\"'\n",
            "Skipping line 9: '\t' expected after '\"'\n",
            "Skipping line 13: '\t' expected after '\"'\n",
            "Skipping line 11: '\t' expected after '\"'\n"
          ],
          "name": "stderr"
        },
        {
          "output_type": "stream",
          "text": [
            "/content/drive/MyDrive/bbc/politics/323.txt\n",
            "/content/drive/MyDrive/bbc/politics/335.txt\n",
            "/content/drive/MyDrive/bbc/politics/352.txt\n",
            "/content/drive/MyDrive/bbc/politics/329.txt\n",
            "/content/drive/MyDrive/bbc/politics/356.txt\n",
            "/content/drive/MyDrive/bbc/politics/357.txt\n",
            "/content/drive/MyDrive/bbc/politics/322.txt\n",
            "/content/drive/MyDrive/bbc/politics/358.txt\n",
            "/content/drive/MyDrive/bbc/politics/339.txt\n",
            "/content/drive/MyDrive/bbc/politics/320.txt\n",
            "/content/drive/MyDrive/bbc/politics/344.txt\n",
            "/content/drive/MyDrive/bbc/politics/328.txt\n",
            "/content/drive/MyDrive/bbc/politics/318.txt\n",
            "/content/drive/MyDrive/bbc/politics/333.txt\n",
            "/content/drive/MyDrive/bbc/politics/319.txt\n",
            "/content/drive/MyDrive/bbc/politics/349.txt\n",
            "/content/drive/MyDrive/bbc/politics/330.txt\n",
            "/content/drive/MyDrive/bbc/politics/321.txt\n",
            "/content/drive/MyDrive/bbc/politics/332.txt\n",
            "/content/drive/MyDrive/bbc/politics/346.txt\n",
            "/content/drive/MyDrive/bbc/politics/347.txt\n",
            "/content/drive/MyDrive/bbc/politics/350.txt\n",
            "/content/drive/MyDrive/bbc/politics/351.txt\n",
            "/content/drive/MyDrive/bbc/politics/342.txt\n",
            "/content/drive/MyDrive/bbc/politics/361.txt\n",
            "/content/drive/MyDrive/bbc/politics/392.txt\n",
            "/content/drive/MyDrive/bbc/politics/402.txt\n",
            "/content/drive/MyDrive/bbc/politics/373.txt\n",
            "/content/drive/MyDrive/bbc/politics/388.txt\n"
          ],
          "name": "stdout"
        },
        {
          "output_type": "stream",
          "text": [
            "Skipping line 9: '\t' expected after '\"'\n",
            "Skipping line 13: '\t' expected after '\"'\n",
            "Skipping line 13: '\t' expected after '\"'\n",
            "Skipping line 9: '\t' expected after '\"'\n",
            "Skipping line 7: '\t' expected after '\"'\n",
            "Skipping line 7: '\t' expected after '\"'\n",
            "Skipping line 5: '\t' expected after '\"'\n",
            "Skipping line 7: '\t' expected after '\"'\n",
            "Skipping line 11: '\t' expected after '\"'\n",
            "Skipping line 9: '\t' expected after '\"'\n",
            "Skipping line 11: '\t' expected after '\"'\n",
            "Skipping line 13: '\t' expected after '\"'\n"
          ],
          "name": "stderr"
        },
        {
          "output_type": "stream",
          "text": [
            "/content/drive/MyDrive/bbc/politics/378.txt\n",
            "/content/drive/MyDrive/bbc/politics/396.txt\n",
            "/content/drive/MyDrive/bbc/politics/382.txt\n",
            "/content/drive/MyDrive/bbc/politics/405.txt\n",
            "/content/drive/MyDrive/bbc/politics/380.txt\n",
            "/content/drive/MyDrive/bbc/politics/366.txt\n",
            "/content/drive/MyDrive/bbc/politics/386.txt\n",
            "/content/drive/MyDrive/bbc/politics/406.txt\n",
            "/content/drive/MyDrive/bbc/politics/374.txt\n",
            "/content/drive/MyDrive/bbc/politics/387.txt\n",
            "/content/drive/MyDrive/bbc/politics/383.txt\n",
            "/content/drive/MyDrive/bbc/politics/367.txt\n",
            "/content/drive/MyDrive/bbc/politics/400.txt\n",
            "/content/drive/MyDrive/bbc/politics/404.txt\n",
            "/content/drive/MyDrive/bbc/politics/398.txt\n",
            "/content/drive/MyDrive/bbc/politics/365.txt\n",
            "/content/drive/MyDrive/bbc/politics/403.txt\n",
            "/content/drive/MyDrive/bbc/politics/363.txt\n",
            "/content/drive/MyDrive/bbc/politics/368.txt\n",
            "/content/drive/MyDrive/bbc/politics/370.txt\n",
            "/content/drive/MyDrive/bbc/politics/379.txt\n",
            "/content/drive/MyDrive/bbc/politics/397.txt\n",
            "/content/drive/MyDrive/bbc/politics/385.txt\n",
            "/content/drive/MyDrive/bbc/politics/371.txt\n",
            "/content/drive/MyDrive/bbc/politics/375.txt\n",
            "/content/drive/MyDrive/bbc/politics/391.txt\n",
            "/content/drive/MyDrive/bbc/politics/384.txt\n",
            "/content/drive/MyDrive/bbc/politics/395.txt\n",
            "/content/drive/MyDrive/bbc/politics/376.txt\n",
            "/content/drive/MyDrive/bbc/politics/394.txt\n"
          ],
          "name": "stdout"
        },
        {
          "output_type": "stream",
          "text": [
            "Skipping line 9: '\t' expected after '\"'\n",
            "Skipping line 7: '\t' expected after '\"'\n",
            "Skipping line 9: '\t' expected after '\"'\n",
            "Skipping line 20: '\t' expected after '\"'\n",
            "Skipping line 9: '\t' expected after '\"'\n",
            "Skipping line 11: '\t' expected after '\"'\n",
            "Skipping line 13: '\t' expected after '\"'\n",
            "Skipping line 7: '\t' expected after '\"'\n",
            "Skipping line 3: '\t' expected after '\"'\n",
            "Skipping line 11: '\t' expected after '\"'\n",
            "Skipping line 13: '\t' expected after '\"'\n",
            "Skipping line 15: '\t' expected after '\"'\n"
          ],
          "name": "stderr"
        },
        {
          "output_type": "stream",
          "text": [
            "/content/drive/MyDrive/bbc/politics/364.txt\n",
            "/content/drive/MyDrive/bbc/politics/390.txt\n",
            "/content/drive/MyDrive/bbc/politics/399.txt\n",
            "/content/drive/MyDrive/bbc/politics/377.txt\n",
            "/content/drive/MyDrive/bbc/politics/401.txt\n",
            "/content/drive/MyDrive/bbc/politics/389.txt\n",
            "/content/drive/MyDrive/bbc/politics/393.txt\n",
            "/content/drive/MyDrive/bbc/politics/381.txt\n",
            "/content/drive/MyDrive/bbc/politics/369.txt\n",
            "/content/drive/MyDrive/bbc/politics/372.txt\n",
            "/content/drive/MyDrive/bbc/politics/408.txt\n",
            "/content/drive/MyDrive/bbc/politics/417.txt\n",
            "/content/drive/MyDrive/bbc/politics/413.txt\n",
            "/content/drive/MyDrive/bbc/politics/416.txt\n",
            "/content/drive/MyDrive/bbc/politics/411.txt\n",
            "/content/drive/MyDrive/bbc/politics/414.txt\n",
            "/content/drive/MyDrive/bbc/politics/409.txt\n",
            "/content/drive/MyDrive/bbc/politics/410.txt\n",
            "/content/drive/MyDrive/bbc/politics/415.txt\n",
            "/content/drive/MyDrive/bbc/politics/412.txt\n",
            "/content/drive/MyDrive/bbc/politics/407.txt\n",
            "/content/drive/MyDrive/bbc/sport/005.txt\n",
            "/content/drive/MyDrive/bbc/sport/030.txt\n",
            "/content/drive/MyDrive/bbc/sport/009.txt\n",
            "/content/drive/MyDrive/bbc/sport/013.txt\n",
            "/content/drive/MyDrive/bbc/sport/003.txt\n",
            "/content/drive/MyDrive/bbc/sport/014.txt\n"
          ],
          "name": "stdout"
        },
        {
          "output_type": "stream",
          "text": [
            "Skipping line 7: '\t' expected after '\"'\n",
            "Skipping line 7: '\t' expected after '\"'\n",
            "Skipping line 7: '\t' expected after '\"'\n",
            "Skipping line 5: '\t' expected after '\"'\n"
          ],
          "name": "stderr"
        },
        {
          "output_type": "stream",
          "text": [
            "/content/drive/MyDrive/bbc/sport/035.txt\n",
            "/content/drive/MyDrive/bbc/sport/023.txt\n",
            "/content/drive/MyDrive/bbc/sport/011.txt\n",
            "/content/drive/MyDrive/bbc/sport/012.txt\n",
            "/content/drive/MyDrive/bbc/sport/033.txt\n",
            "/content/drive/MyDrive/bbc/sport/024.txt\n",
            "/content/drive/MyDrive/bbc/sport/032.txt\n",
            "/content/drive/MyDrive/bbc/sport/010.txt\n",
            "/content/drive/MyDrive/bbc/sport/029.txt\n",
            "/content/drive/MyDrive/bbc/sport/006.txt\n",
            "/content/drive/MyDrive/bbc/sport/031.txt\n",
            "/content/drive/MyDrive/bbc/sport/026.txt\n",
            "/content/drive/MyDrive/bbc/sport/020.txt\n",
            "/content/drive/MyDrive/bbc/sport/016.txt\n",
            "/content/drive/MyDrive/bbc/sport/004.txt\n",
            "/content/drive/MyDrive/bbc/sport/002.txt\n",
            "/content/drive/MyDrive/bbc/sport/007.txt\n",
            "/content/drive/MyDrive/bbc/sport/021.txt\n",
            "/content/drive/MyDrive/bbc/sport/001.txt\n",
            "/content/drive/MyDrive/bbc/sport/017.txt\n",
            "/content/drive/MyDrive/bbc/sport/022.txt\n",
            "/content/drive/MyDrive/bbc/sport/019.txt\n",
            "/content/drive/MyDrive/bbc/sport/034.txt\n",
            "/content/drive/MyDrive/bbc/sport/015.txt\n",
            "/content/drive/MyDrive/bbc/sport/025.txt\n",
            "/content/drive/MyDrive/bbc/sport/027.txt\n",
            "/content/drive/MyDrive/bbc/sport/028.txt\n",
            "/content/drive/MyDrive/bbc/sport/008.txt\n",
            "/content/drive/MyDrive/bbc/sport/018.txt\n",
            "/content/drive/MyDrive/bbc/sport/054.txt\n",
            "/content/drive/MyDrive/bbc/sport/050.txt\n",
            "/content/drive/MyDrive/bbc/sport/059.txt\n",
            "/content/drive/MyDrive/bbc/sport/072.txt\n",
            "/content/drive/MyDrive/bbc/sport/039.txt\n",
            "/content/drive/MyDrive/bbc/sport/069.txt\n",
            "/content/drive/MyDrive/bbc/sport/052.txt\n",
            "/content/drive/MyDrive/bbc/sport/075.txt\n",
            "/content/drive/MyDrive/bbc/sport/060.txt\n",
            "/content/drive/MyDrive/bbc/sport/073.txt\n",
            "/content/drive/MyDrive/bbc/sport/068.txt\n",
            "/content/drive/MyDrive/bbc/sport/074.txt\n",
            "/content/drive/MyDrive/bbc/sport/067.txt\n",
            "/content/drive/MyDrive/bbc/sport/044.txt\n",
            "/content/drive/MyDrive/bbc/sport/043.txt\n",
            "/content/drive/MyDrive/bbc/sport/055.txt\n",
            "/content/drive/MyDrive/bbc/sport/070.txt\n",
            "/content/drive/MyDrive/bbc/sport/049.txt\n",
            "/content/drive/MyDrive/bbc/sport/058.txt\n",
            "/content/drive/MyDrive/bbc/sport/063.txt\n",
            "/content/drive/MyDrive/bbc/sport/036.txt\n",
            "/content/drive/MyDrive/bbc/sport/064.txt\n",
            "/content/drive/MyDrive/bbc/sport/062.txt\n",
            "/content/drive/MyDrive/bbc/sport/042.txt\n",
            "/content/drive/MyDrive/bbc/sport/079.txt\n",
            "/content/drive/MyDrive/bbc/sport/051.txt\n"
          ],
          "name": "stdout"
        },
        {
          "output_type": "stream",
          "text": [
            "Skipping line 9: '\t' expected after '\"'\n",
            "Skipping line 7: '\t' expected after '\"'\n",
            "Skipping line 7: '\t' expected after '\"'\n"
          ],
          "name": "stderr"
        },
        {
          "output_type": "stream",
          "text": [
            "/content/drive/MyDrive/bbc/sport/065.txt\n",
            "/content/drive/MyDrive/bbc/sport/061.txt\n",
            "/content/drive/MyDrive/bbc/sport/071.txt\n",
            "/content/drive/MyDrive/bbc/sport/041.txt\n",
            "/content/drive/MyDrive/bbc/sport/057.txt\n",
            "/content/drive/MyDrive/bbc/sport/048.txt\n",
            "/content/drive/MyDrive/bbc/sport/046.txt\n",
            "/content/drive/MyDrive/bbc/sport/076.txt\n",
            "/content/drive/MyDrive/bbc/sport/056.txt\n",
            "/content/drive/MyDrive/bbc/sport/038.txt\n",
            "/content/drive/MyDrive/bbc/sport/047.txt\n",
            "/content/drive/MyDrive/bbc/sport/053.txt\n",
            "/content/drive/MyDrive/bbc/sport/078.txt\n",
            "/content/drive/MyDrive/bbc/sport/037.txt\n",
            "/content/drive/MyDrive/bbc/sport/066.txt\n",
            "/content/drive/MyDrive/bbc/sport/045.txt\n",
            "/content/drive/MyDrive/bbc/sport/040.txt\n",
            "/content/drive/MyDrive/bbc/sport/080.txt\n",
            "/content/drive/MyDrive/bbc/sport/077.txt\n",
            "/content/drive/MyDrive/bbc/sport/096.txt\n",
            "/content/drive/MyDrive/bbc/sport/122.txt\n",
            "/content/drive/MyDrive/bbc/sport/086.txt\n",
            "/content/drive/MyDrive/bbc/sport/083.txt\n",
            "/content/drive/MyDrive/bbc/sport/105.txt\n",
            "/content/drive/MyDrive/bbc/sport/099.txt\n",
            "/content/drive/MyDrive/bbc/sport/093.txt\n",
            "/content/drive/MyDrive/bbc/sport/097.txt\n",
            "/content/drive/MyDrive/bbc/sport/118.txt\n"
          ],
          "name": "stdout"
        },
        {
          "output_type": "stream",
          "text": [
            "Skipping line 9: '\t' expected after '\"'\n",
            "Skipping line 5: '\t' expected after '\"'\n",
            "Skipping line 7: '\t' expected after '\"'\n",
            "Skipping line 13: '\t' expected after '\"'\n",
            "Skipping line 25: '\t' expected after '\"'\n",
            "Skipping line 7: '\t' expected after '\"'\n",
            "Skipping line 9: '\t' expected after '\"'\n",
            "Skipping line 7: '\t' expected after '\"'\n",
            "Skipping line 9: '\t' expected after '\"'\n",
            "Skipping line 15: '\t' expected after '\"'\n",
            "Skipping line 17: '\t' expected after '\"'\n",
            "Skipping line 19: '\t' expected after '\"'\n"
          ],
          "name": "stderr"
        },
        {
          "output_type": "stream",
          "text": [
            "/content/drive/MyDrive/bbc/sport/119.txt\n",
            "/content/drive/MyDrive/bbc/sport/107.txt\n",
            "/content/drive/MyDrive/bbc/sport/112.txt\n",
            "/content/drive/MyDrive/bbc/sport/091.txt\n",
            "/content/drive/MyDrive/bbc/sport/085.txt\n",
            "/content/drive/MyDrive/bbc/sport/114.txt\n",
            "/content/drive/MyDrive/bbc/sport/113.txt\n",
            "/content/drive/MyDrive/bbc/sport/082.txt\n",
            "/content/drive/MyDrive/bbc/sport/116.txt\n",
            "/content/drive/MyDrive/bbc/sport/117.txt\n",
            "/content/drive/MyDrive/bbc/sport/101.txt\n",
            "/content/drive/MyDrive/bbc/sport/095.txt\n",
            "/content/drive/MyDrive/bbc/sport/111.txt\n",
            "/content/drive/MyDrive/bbc/sport/084.txt\n",
            "/content/drive/MyDrive/bbc/sport/124.txt\n",
            "/content/drive/MyDrive/bbc/sport/110.txt\n",
            "/content/drive/MyDrive/bbc/sport/098.txt\n",
            "/content/drive/MyDrive/bbc/sport/127.txt\n",
            "/content/drive/MyDrive/bbc/sport/089.txt\n",
            "/content/drive/MyDrive/bbc/sport/123.txt\n",
            "/content/drive/MyDrive/bbc/sport/104.txt\n",
            "/content/drive/MyDrive/bbc/sport/094.txt\n",
            "/content/drive/MyDrive/bbc/sport/090.txt\n",
            "/content/drive/MyDrive/bbc/sport/125.txt\n",
            "/content/drive/MyDrive/bbc/sport/088.txt\n",
            "/content/drive/MyDrive/bbc/sport/108.txt\n",
            "/content/drive/MyDrive/bbc/sport/126.txt\n",
            "/content/drive/MyDrive/bbc/sport/087.txt\n",
            "/content/drive/MyDrive/bbc/sport/081.txt\n",
            "/content/drive/MyDrive/bbc/sport/102.txt\n"
          ],
          "name": "stdout"
        },
        {
          "output_type": "stream",
          "text": [
            "Skipping line 9: '\t' expected after '\"'\n",
            "Skipping line 11: '\t' expected after '\"'\n",
            "Skipping line 5: '\t' expected after '\"'\n",
            "Skipping line 7: '\t' expected after '\"'\n",
            "Skipping line 7: '\t' expected after '\"'\n",
            "Skipping line 7: '\t' expected after '\"'\n",
            "Skipping line 7: '\t' expected after '\"'\n",
            "Skipping line 11: '\t' expected after '\"'\n",
            "Skipping line 15: '\t' expected after '\"'\n",
            "Skipping line 17: '\t' expected after '\"'\n",
            "Skipping line 19: '\t' expected after '\"'\n",
            "Skipping line 11: '\t' expected after '\"'\n",
            "Skipping line 13: '\t' expected after '\"'\n"
          ],
          "name": "stderr"
        },
        {
          "output_type": "stream",
          "text": [
            "/content/drive/MyDrive/bbc/sport/121.txt\n",
            "/content/drive/MyDrive/bbc/sport/115.txt\n",
            "/content/drive/MyDrive/bbc/sport/103.txt\n",
            "/content/drive/MyDrive/bbc/sport/092.txt\n",
            "/content/drive/MyDrive/bbc/sport/120.txt\n",
            "/content/drive/MyDrive/bbc/sport/109.txt\n",
            "/content/drive/MyDrive/bbc/sport/106.txt\n",
            "/content/drive/MyDrive/bbc/sport/100.txt\n",
            "/content/drive/MyDrive/bbc/sport/171.txt\n",
            "/content/drive/MyDrive/bbc/sport/128.txt\n",
            "/content/drive/MyDrive/bbc/sport/166.txt\n",
            "/content/drive/MyDrive/bbc/sport/151.txt\n",
            "/content/drive/MyDrive/bbc/sport/170.txt\n",
            "/content/drive/MyDrive/bbc/sport/131.txt\n",
            "/content/drive/MyDrive/bbc/sport/139.txt\n",
            "/content/drive/MyDrive/bbc/sport/135.txt\n",
            "/content/drive/MyDrive/bbc/sport/144.txt\n",
            "/content/drive/MyDrive/bbc/sport/133.txt\n",
            "/content/drive/MyDrive/bbc/sport/129.txt\n",
            "/content/drive/MyDrive/bbc/sport/167.txt\n",
            "/content/drive/MyDrive/bbc/sport/137.txt\n",
            "/content/drive/MyDrive/bbc/sport/156.txt\n",
            "/content/drive/MyDrive/bbc/sport/138.txt\n",
            "/content/drive/MyDrive/bbc/sport/147.txt\n",
            "/content/drive/MyDrive/bbc/sport/148.txt\n",
            "/content/drive/MyDrive/bbc/sport/143.txt\n",
            "/content/drive/MyDrive/bbc/sport/162.txt\n",
            "/content/drive/MyDrive/bbc/sport/142.txt\n",
            "/content/drive/MyDrive/bbc/sport/172.txt\n",
            "/content/drive/MyDrive/bbc/sport/164.txt\n",
            "/content/drive/MyDrive/bbc/sport/154.txt\n",
            "/content/drive/MyDrive/bbc/sport/160.txt\n",
            "/content/drive/MyDrive/bbc/sport/130.txt\n"
          ],
          "name": "stdout"
        },
        {
          "output_type": "stream",
          "text": [
            "Skipping line 7: '\t' expected after '\"'\n",
            "Skipping line 7: '\t' expected after '\"'\n",
            "Skipping line 7: '\t' expected after '\"'\n",
            "Skipping line 7: '\t' expected after '\"'\n",
            "Skipping line 7: '\t' expected after '\"'\n",
            "Skipping line 7: '\t' expected after '\"'\n",
            "Skipping line 9: '\t' expected after '\"'\n",
            "Skipping line 7: '\t' expected after '\"'\n",
            "Skipping line 7: '\t' expected after '\"'\n",
            "Skipping line 7: '\t' expected after '\"'\n",
            "Skipping line 5: '\t' expected after '\"'\n",
            "Skipping line 7: '\t' expected after '\"'\n",
            "Skipping line 7: '\t' expected after '\"'\n",
            "Skipping line 5: '\t' expected after '\"'\n",
            "Skipping line 9: '\t' expected after '\"'\n"
          ],
          "name": "stderr"
        },
        {
          "output_type": "stream",
          "text": [
            "/content/drive/MyDrive/bbc/sport/168.txt\n",
            "/content/drive/MyDrive/bbc/sport/132.txt\n",
            "/content/drive/MyDrive/bbc/sport/161.txt\n",
            "/content/drive/MyDrive/bbc/sport/150.txt\n",
            "/content/drive/MyDrive/bbc/sport/152.txt\n",
            "/content/drive/MyDrive/bbc/sport/134.txt\n",
            "/content/drive/MyDrive/bbc/sport/149.txt\n",
            "/content/drive/MyDrive/bbc/sport/145.txt\n",
            "/content/drive/MyDrive/bbc/sport/159.txt\n",
            "/content/drive/MyDrive/bbc/sport/155.txt\n",
            "/content/drive/MyDrive/bbc/sport/141.txt\n",
            "/content/drive/MyDrive/bbc/sport/146.txt\n",
            "/content/drive/MyDrive/bbc/sport/163.txt\n",
            "/content/drive/MyDrive/bbc/sport/169.txt\n",
            "/content/drive/MyDrive/bbc/sport/153.txt\n",
            "/content/drive/MyDrive/bbc/sport/136.txt\n",
            "/content/drive/MyDrive/bbc/sport/165.txt\n",
            "/content/drive/MyDrive/bbc/sport/157.txt\n",
            "/content/drive/MyDrive/bbc/sport/140.txt\n",
            "/content/drive/MyDrive/bbc/sport/158.txt\n",
            "/content/drive/MyDrive/bbc/sport/185.txt\n",
            "/content/drive/MyDrive/bbc/sport/212.txt\n",
            "/content/drive/MyDrive/bbc/sport/203.txt\n",
            "/content/drive/MyDrive/bbc/sport/209.txt\n",
            "/content/drive/MyDrive/bbc/sport/188.txt\n",
            "/content/drive/MyDrive/bbc/sport/202.txt\n",
            "/content/drive/MyDrive/bbc/sport/196.txt\n",
            "/content/drive/MyDrive/bbc/sport/195.txt\n",
            "/content/drive/MyDrive/bbc/sport/189.txt\n",
            "/content/drive/MyDrive/bbc/sport/187.txt\n",
            "/content/drive/MyDrive/bbc/sport/193.txt\n",
            "/content/drive/MyDrive/bbc/sport/216.txt\n",
            "/content/drive/MyDrive/bbc/sport/180.txt\n"
          ],
          "name": "stdout"
        },
        {
          "output_type": "stream",
          "text": [
            "Skipping line 9: '\t' expected after '\"'\n",
            "Skipping line 7: '\t' expected after '\"'\n",
            "Skipping line 5: '\t' expected after '\"'\n",
            "Skipping line 5: '\t' expected after '\"'\n",
            "Skipping line 7: '\t' expected after '\"'\n",
            "Skipping line 7: '\t' expected after '\"'\n",
            "Skipping line 9: '\t' expected after '\"'\n",
            "Skipping line 17: '\t' expected after '\"'\n",
            "Skipping line 9: '\t' expected after '\"'\n",
            "Skipping line 7: '\t' expected after '\"'\n"
          ],
          "name": "stderr"
        },
        {
          "output_type": "stream",
          "text": [
            "/content/drive/MyDrive/bbc/sport/194.txt\n",
            "/content/drive/MyDrive/bbc/sport/214.txt\n",
            "/content/drive/MyDrive/bbc/sport/204.txt\n",
            "/content/drive/MyDrive/bbc/sport/182.txt\n",
            "/content/drive/MyDrive/bbc/sport/179.txt\n",
            "/content/drive/MyDrive/bbc/sport/199.txt\n",
            "/content/drive/MyDrive/bbc/sport/215.txt\n",
            "/content/drive/MyDrive/bbc/sport/173.txt\n",
            "/content/drive/MyDrive/bbc/sport/206.txt\n",
            "/content/drive/MyDrive/bbc/sport/205.txt\n",
            "/content/drive/MyDrive/bbc/sport/210.txt\n",
            "/content/drive/MyDrive/bbc/sport/208.txt\n",
            "/content/drive/MyDrive/bbc/sport/197.txt\n",
            "/content/drive/MyDrive/bbc/sport/190.txt\n",
            "/content/drive/MyDrive/bbc/sport/198.txt\n",
            "/content/drive/MyDrive/bbc/sport/177.txt\n",
            "/content/drive/MyDrive/bbc/sport/181.txt\n",
            "/content/drive/MyDrive/bbc/sport/183.txt\n",
            "/content/drive/MyDrive/bbc/sport/211.txt\n",
            "/content/drive/MyDrive/bbc/sport/186.txt\n",
            "/content/drive/MyDrive/bbc/sport/174.txt\n",
            "/content/drive/MyDrive/bbc/sport/207.txt\n",
            "/content/drive/MyDrive/bbc/sport/184.txt\n",
            "/content/drive/MyDrive/bbc/sport/192.txt\n",
            "/content/drive/MyDrive/bbc/sport/213.txt\n",
            "/content/drive/MyDrive/bbc/sport/176.txt\n",
            "/content/drive/MyDrive/bbc/sport/201.txt\n",
            "/content/drive/MyDrive/bbc/sport/191.txt\n",
            "/content/drive/MyDrive/bbc/sport/178.txt\n",
            "/content/drive/MyDrive/bbc/sport/175.txt\n"
          ],
          "name": "stdout"
        },
        {
          "output_type": "stream",
          "text": [
            "Skipping line 9: '\t' expected after '\"'\n",
            "Skipping line 7: '\t' expected after '\"'\n",
            "Skipping line 7: '\t' expected after '\"'\n",
            "Skipping line 9: '\t' expected after '\"'\n",
            "Skipping line 5: '\t' expected after '\"'\n",
            "Skipping line 7: '\t' expected after '\"'\n",
            "Skipping line 9: '\t' expected after '\"'\n",
            "Skipping line 7: '\t' expected after '\"'\n",
            "Skipping line 9: '\t' expected after '\"'\n",
            "Skipping line 7: '\t' expected after '\"'\n"
          ],
          "name": "stderr"
        },
        {
          "output_type": "stream",
          "text": [
            "/content/drive/MyDrive/bbc/sport/200.txt\n",
            "/content/drive/MyDrive/bbc/sport/219.txt\n",
            "/content/drive/MyDrive/bbc/sport/238.txt\n",
            "/content/drive/MyDrive/bbc/sport/229.txt\n",
            "/content/drive/MyDrive/bbc/sport/242.txt\n",
            "/content/drive/MyDrive/bbc/sport/218.txt\n",
            "/content/drive/MyDrive/bbc/sport/240.txt\n",
            "/content/drive/MyDrive/bbc/sport/225.txt\n",
            "/content/drive/MyDrive/bbc/sport/247.txt\n",
            "/content/drive/MyDrive/bbc/sport/260.txt\n",
            "/content/drive/MyDrive/bbc/sport/224.txt\n",
            "/content/drive/MyDrive/bbc/sport/241.txt\n",
            "/content/drive/MyDrive/bbc/sport/230.txt\n",
            "/content/drive/MyDrive/bbc/sport/244.txt\n",
            "/content/drive/MyDrive/bbc/sport/222.txt\n",
            "/content/drive/MyDrive/bbc/sport/252.txt\n",
            "/content/drive/MyDrive/bbc/sport/262.txt\n",
            "/content/drive/MyDrive/bbc/sport/217.txt\n",
            "/content/drive/MyDrive/bbc/sport/258.txt\n",
            "/content/drive/MyDrive/bbc/sport/234.txt\n",
            "/content/drive/MyDrive/bbc/sport/264.txt\n",
            "/content/drive/MyDrive/bbc/sport/237.txt\n",
            "/content/drive/MyDrive/bbc/sport/228.txt\n",
            "/content/drive/MyDrive/bbc/sport/263.txt\n",
            "/content/drive/MyDrive/bbc/sport/232.txt\n",
            "/content/drive/MyDrive/bbc/sport/251.txt\n",
            "/content/drive/MyDrive/bbc/sport/220.txt\n",
            "/content/drive/MyDrive/bbc/sport/226.txt\n",
            "/content/drive/MyDrive/bbc/sport/221.txt\n",
            "/content/drive/MyDrive/bbc/sport/254.txt\n"
          ],
          "name": "stdout"
        },
        {
          "output_type": "stream",
          "text": [
            "Skipping line 7: '\t' expected after '\"'\n",
            "Skipping line 7: '\t' expected after '\"'\n",
            "Skipping line 7: '\t' expected after '\"'\n",
            "Skipping line 7: '\t' expected after '\"'\n",
            "Skipping line 7: '\t' expected after '\"'\n",
            "Skipping line 7: '\t' expected after '\"'\n",
            "Skipping line 7: '\t' expected after '\"'\n",
            "Skipping line 7: '\t' expected after '\"'\n",
            "Skipping line 9: '\t' expected after '\"'\n",
            "Skipping line 7: '\t' expected after '\"'\n",
            "Skipping line 7: '\t' expected after '\"'\n",
            "Skipping line 9: '\t' expected after '\"'\n",
            "Skipping line 13: '\t' expected after '\"'\n",
            "Skipping line 7: '\t' expected after '\"'\n"
          ],
          "name": "stderr"
        },
        {
          "output_type": "stream",
          "text": [
            "/content/drive/MyDrive/bbc/sport/233.txt\n",
            "/content/drive/MyDrive/bbc/sport/245.txt\n",
            "/content/drive/MyDrive/bbc/sport/250.txt\n",
            "/content/drive/MyDrive/bbc/sport/249.txt\n",
            "/content/drive/MyDrive/bbc/sport/259.txt\n",
            "/content/drive/MyDrive/bbc/sport/236.txt\n",
            "/content/drive/MyDrive/bbc/sport/257.txt\n",
            "/content/drive/MyDrive/bbc/sport/243.txt\n",
            "/content/drive/MyDrive/bbc/sport/223.txt\n",
            "/content/drive/MyDrive/bbc/sport/261.txt\n",
            "/content/drive/MyDrive/bbc/sport/253.txt\n",
            "/content/drive/MyDrive/bbc/sport/235.txt\n",
            "/content/drive/MyDrive/bbc/sport/231.txt\n",
            "/content/drive/MyDrive/bbc/sport/248.txt\n",
            "/content/drive/MyDrive/bbc/sport/256.txt\n",
            "/content/drive/MyDrive/bbc/sport/239.txt\n",
            "/content/drive/MyDrive/bbc/sport/255.txt\n",
            "/content/drive/MyDrive/bbc/sport/246.txt\n",
            "/content/drive/MyDrive/bbc/sport/227.txt\n",
            "/content/drive/MyDrive/bbc/sport/292.txt\n",
            "/content/drive/MyDrive/bbc/sport/268.txt\n",
            "/content/drive/MyDrive/bbc/sport/306.txt\n",
            "/content/drive/MyDrive/bbc/sport/291.txt\n",
            "/content/drive/MyDrive/bbc/sport/300.txt\n",
            "/content/drive/MyDrive/bbc/sport/273.txt\n",
            "/content/drive/MyDrive/bbc/sport/275.txt\n",
            "/content/drive/MyDrive/bbc/sport/280.txt\n",
            "/content/drive/MyDrive/bbc/sport/307.txt\n",
            "/content/drive/MyDrive/bbc/sport/289.txt\n",
            "/content/drive/MyDrive/bbc/sport/286.txt\n",
            "/content/drive/MyDrive/bbc/sport/301.txt\n"
          ],
          "name": "stdout"
        },
        {
          "output_type": "stream",
          "text": [
            "Skipping line 7: '\t' expected after '\"'\n",
            "Skipping line 5: '\t' expected after '\"'\n",
            "Skipping line 7: '\t' expected after '\"'\n",
            "Skipping line 7: '\t' expected after '\"'\n",
            "Skipping line 9: '\t' expected after '\"'\n",
            "Skipping line 7: '\t' expected after '\"'\n",
            "Skipping line 5: '\t' expected after '\"'\n",
            "Skipping line 9: '\t' expected after '\"'\n",
            "Skipping line 9: '\t' expected after '\"'\n",
            "Skipping line 5: '\t' expected after '\"'\n",
            "Skipping line 5: '\t' expected after '\"'\n",
            "Skipping line 7: '\t' expected after '\"'\n",
            "Skipping line 9: '\t' expected after '\"'\n",
            "Skipping line 7: '\t' expected after '\"'\n",
            "Skipping line 5: '\t' expected after '\"'\n",
            "Skipping line 5: '\t' expected after '\"'\n",
            "Skipping line 7: '\t' expected after '\"'\n",
            "Skipping line 9: '\t' expected after '\"'\n"
          ],
          "name": "stderr"
        },
        {
          "output_type": "stream",
          "text": [
            "/content/drive/MyDrive/bbc/sport/281.txt\n",
            "/content/drive/MyDrive/bbc/sport/285.txt\n",
            "/content/drive/MyDrive/bbc/sport/269.txt\n",
            "/content/drive/MyDrive/bbc/sport/283.txt\n",
            "/content/drive/MyDrive/bbc/sport/265.txt\n",
            "/content/drive/MyDrive/bbc/sport/297.txt\n",
            "/content/drive/MyDrive/bbc/sport/305.txt\n",
            "/content/drive/MyDrive/bbc/sport/271.txt\n",
            "/content/drive/MyDrive/bbc/sport/282.txt\n",
            "/content/drive/MyDrive/bbc/sport/304.txt\n",
            "/content/drive/MyDrive/bbc/sport/296.txt\n",
            "/content/drive/MyDrive/bbc/sport/295.txt\n",
            "/content/drive/MyDrive/bbc/sport/293.txt\n",
            "/content/drive/MyDrive/bbc/sport/288.txt\n",
            "/content/drive/MyDrive/bbc/sport/267.txt\n",
            "/content/drive/MyDrive/bbc/sport/290.txt\n",
            "/content/drive/MyDrive/bbc/sport/302.txt\n",
            "/content/drive/MyDrive/bbc/sport/308.txt\n",
            "/content/drive/MyDrive/bbc/sport/284.txt\n",
            "/content/drive/MyDrive/bbc/sport/287.txt\n",
            "/content/drive/MyDrive/bbc/sport/274.txt\n",
            "/content/drive/MyDrive/bbc/sport/270.txt\n",
            "/content/drive/MyDrive/bbc/sport/277.txt\n",
            "/content/drive/MyDrive/bbc/sport/276.txt\n",
            "/content/drive/MyDrive/bbc/sport/272.txt\n",
            "/content/drive/MyDrive/bbc/sport/303.txt\n"
          ],
          "name": "stdout"
        },
        {
          "output_type": "stream",
          "text": [
            "Skipping line 7: '\t' expected after '\"'\n",
            "Skipping line 11: '\t' expected after '\"'\n",
            "Skipping line 7: '\t' expected after '\"'\n",
            "Skipping line 7: '\t' expected after '\"'\n",
            "Skipping line 9: '\t' expected after '\"'\n",
            "Skipping line 9: unexpected end of data\n",
            "Skipping line 7: '\t' expected after '\"'\n"
          ],
          "name": "stderr"
        },
        {
          "output_type": "stream",
          "text": [
            "/content/drive/MyDrive/bbc/sport/298.txt\n",
            "/content/drive/MyDrive/bbc/sport/294.txt\n"
          ],
          "name": "stdout"
        },
        {
          "output_type": "stream",
          "text": [
            "Skipping line 7: '\t' expected after '\"'\n"
          ],
          "name": "stderr"
        },
        {
          "output_type": "stream",
          "text": [
            "/content/drive/MyDrive/bbc/sport/309.txt\n",
            "/content/drive/MyDrive/bbc/sport/279.txt\n",
            "/content/drive/MyDrive/bbc/sport/278.txt\n",
            "/content/drive/MyDrive/bbc/sport/266.txt\n",
            "/content/drive/MyDrive/bbc/sport/299.txt\n",
            "/content/drive/MyDrive/bbc/sport/331.txt\n",
            "/content/drive/MyDrive/bbc/sport/311.txt\n",
            "/content/drive/MyDrive/bbc/sport/319.txt\n",
            "/content/drive/MyDrive/bbc/sport/332.txt\n",
            "/content/drive/MyDrive/bbc/sport/325.txt\n",
            "/content/drive/MyDrive/bbc/sport/321.txt\n",
            "/content/drive/MyDrive/bbc/sport/317.txt\n",
            "/content/drive/MyDrive/bbc/sport/343.txt\n",
            "/content/drive/MyDrive/bbc/sport/334.txt\n"
          ],
          "name": "stdout"
        },
        {
          "output_type": "stream",
          "text": [
            "Skipping line 7: '\t' expected after '\"'\n"
          ],
          "name": "stderr"
        },
        {
          "output_type": "stream",
          "text": [
            "/content/drive/MyDrive/bbc/sport/346.txt\n",
            "/content/drive/MyDrive/bbc/sport/315.txt\n",
            "/content/drive/MyDrive/bbc/sport/328.txt\n",
            "/content/drive/MyDrive/bbc/sport/312.txt\n",
            "/content/drive/MyDrive/bbc/sport/347.txt\n",
            "/content/drive/MyDrive/bbc/sport/340.txt\n"
          ],
          "name": "stdout"
        },
        {
          "output_type": "stream",
          "text": [
            "Skipping line 9: '\t' expected after '\"'\n"
          ],
          "name": "stderr"
        },
        {
          "output_type": "stream",
          "text": [
            "/content/drive/MyDrive/bbc/sport/342.txt\n"
          ],
          "name": "stdout"
        },
        {
          "output_type": "stream",
          "text": [
            "Skipping line 13: '\t' expected after '\"'\n"
          ],
          "name": "stderr"
        },
        {
          "output_type": "stream",
          "text": [
            "/content/drive/MyDrive/bbc/sport/329.txt\n",
            "/content/drive/MyDrive/bbc/sport/337.txt\n"
          ],
          "name": "stdout"
        },
        {
          "output_type": "stream",
          "text": [
            "Skipping line 9: '\t' expected after '\"'\n"
          ],
          "name": "stderr"
        },
        {
          "output_type": "stream",
          "text": [
            "/content/drive/MyDrive/bbc/sport/345.txt\n",
            "/content/drive/MyDrive/bbc/sport/313.txt\n"
          ],
          "name": "stdout"
        },
        {
          "output_type": "stream",
          "text": [
            "Skipping line 11: '\t' expected after '\"'\n"
          ],
          "name": "stderr"
        },
        {
          "output_type": "stream",
          "text": [
            "/content/drive/MyDrive/bbc/sport/320.txt\n",
            "/content/drive/MyDrive/bbc/sport/349.txt\n",
            "/content/drive/MyDrive/bbc/sport/333.txt\n",
            "/content/drive/MyDrive/bbc/sport/336.txt\n"
          ],
          "name": "stdout"
        },
        {
          "output_type": "stream",
          "text": [
            "Skipping line 9: '\t' expected after '\"'\n"
          ],
          "name": "stderr"
        },
        {
          "output_type": "stream",
          "text": [
            "/content/drive/MyDrive/bbc/sport/323.txt\n",
            "/content/drive/MyDrive/bbc/sport/327.txt\n"
          ],
          "name": "stdout"
        },
        {
          "output_type": "stream",
          "text": [
            "Skipping line 7: '\t' expected after '\"'\n"
          ],
          "name": "stderr"
        },
        {
          "output_type": "stream",
          "text": [
            "/content/drive/MyDrive/bbc/sport/335.txt\n",
            "/content/drive/MyDrive/bbc/sport/324.txt\n",
            "/content/drive/MyDrive/bbc/sport/341.txt\n",
            "/content/drive/MyDrive/bbc/sport/338.txt\n",
            "/content/drive/MyDrive/bbc/sport/348.txt\n"
          ],
          "name": "stdout"
        },
        {
          "output_type": "stream",
          "text": [
            "Skipping line 5: '\t' expected after '\"'\n"
          ],
          "name": "stderr"
        },
        {
          "output_type": "stream",
          "text": [
            "/content/drive/MyDrive/bbc/sport/314.txt\n",
            "/content/drive/MyDrive/bbc/sport/330.txt\n",
            "/content/drive/MyDrive/bbc/sport/350.txt\n",
            "/content/drive/MyDrive/bbc/sport/326.txt\n"
          ],
          "name": "stdout"
        },
        {
          "output_type": "stream",
          "text": [
            "Skipping line 7: '\t' expected after '\"'\n",
            "Skipping line 9: '\t' expected after '\"'\n",
            "Skipping line 11: '\t' expected after '\"'\n"
          ],
          "name": "stderr"
        },
        {
          "output_type": "stream",
          "text": [
            "/content/drive/MyDrive/bbc/sport/310.txt\n",
            "/content/drive/MyDrive/bbc/sport/318.txt\n",
            "/content/drive/MyDrive/bbc/sport/316.txt\n"
          ],
          "name": "stdout"
        },
        {
          "output_type": "stream",
          "text": [
            "Skipping line 7: '\t' expected after '\"'\n",
            "Skipping line 7: '\t' expected after '\"'\n"
          ],
          "name": "stderr"
        },
        {
          "output_type": "stream",
          "text": [
            "/content/drive/MyDrive/bbc/sport/322.txt\n"
          ],
          "name": "stdout"
        },
        {
          "output_type": "stream",
          "text": [
            "Skipping line 15: '\t' expected after '\"'\n"
          ],
          "name": "stderr"
        },
        {
          "output_type": "stream",
          "text": [
            "/content/drive/MyDrive/bbc/sport/339.txt\n",
            "/content/drive/MyDrive/bbc/sport/344.txt\n",
            "/content/drive/MyDrive/bbc/sport/383.txt\n",
            "/content/drive/MyDrive/bbc/sport/359.txt\n"
          ],
          "name": "stdout"
        },
        {
          "output_type": "stream",
          "text": [
            "Skipping line 7: '\t' expected after '\"'\n"
          ],
          "name": "stderr"
        },
        {
          "output_type": "stream",
          "text": [
            "/content/drive/MyDrive/bbc/sport/360.txt\n",
            "/content/drive/MyDrive/bbc/sport/368.txt\n",
            "/content/drive/MyDrive/bbc/sport/363.txt\n"
          ],
          "name": "stdout"
        },
        {
          "output_type": "stream",
          "text": [
            "Skipping line 7: '\t' expected after '\"'\n"
          ],
          "name": "stderr"
        },
        {
          "output_type": "stream",
          "text": [
            "/content/drive/MyDrive/bbc/sport/361.txt\n"
          ],
          "name": "stdout"
        },
        {
          "output_type": "stream",
          "text": [
            "Skipping line 7: '\t' expected after '\"'\n"
          ],
          "name": "stderr"
        },
        {
          "output_type": "stream",
          "text": [
            "/content/drive/MyDrive/bbc/sport/374.txt\n"
          ],
          "name": "stdout"
        },
        {
          "output_type": "stream",
          "text": [
            "Skipping line 7: '\t' expected after '\"'\n"
          ],
          "name": "stderr"
        },
        {
          "output_type": "stream",
          "text": [
            "/content/drive/MyDrive/bbc/sport/387.txt\n"
          ],
          "name": "stdout"
        },
        {
          "output_type": "stream",
          "text": [
            "Skipping line 7: '\t' expected after '\"'\n"
          ],
          "name": "stderr"
        },
        {
          "output_type": "stream",
          "text": [
            "/content/drive/MyDrive/bbc/sport/391.txt\n"
          ],
          "name": "stdout"
        },
        {
          "output_type": "stream",
          "text": [
            "Skipping line 7: '\t' expected after '\"'\n"
          ],
          "name": "stderr"
        },
        {
          "output_type": "stream",
          "text": [
            "/content/drive/MyDrive/bbc/sport/377.txt\n",
            "/content/drive/MyDrive/bbc/sport/375.txt\n",
            "/content/drive/MyDrive/bbc/sport/381.txt\n"
          ],
          "name": "stdout"
        },
        {
          "output_type": "stream",
          "text": [
            "Skipping line 7: '\t' expected after '\"'\n"
          ],
          "name": "stderr"
        },
        {
          "output_type": "stream",
          "text": [
            "/content/drive/MyDrive/bbc/sport/354.txt\n",
            "/content/drive/MyDrive/bbc/sport/386.txt\n",
            "/content/drive/MyDrive/bbc/sport/358.txt\n"
          ],
          "name": "stdout"
        },
        {
          "output_type": "stream",
          "text": [
            "Skipping line 11: '\t' expected after '\"'\n"
          ],
          "name": "stderr"
        },
        {
          "output_type": "stream",
          "text": [
            "/content/drive/MyDrive/bbc/sport/372.txt\n",
            "/content/drive/MyDrive/bbc/sport/364.txt\n",
            "/content/drive/MyDrive/bbc/sport/385.txt\n",
            "/content/drive/MyDrive/bbc/sport/382.txt\n"
          ],
          "name": "stdout"
        },
        {
          "output_type": "stream",
          "text": [
            "Skipping line 7: '\t' expected after '\"'\n"
          ],
          "name": "stderr"
        },
        {
          "output_type": "stream",
          "text": [
            "/content/drive/MyDrive/bbc/sport/376.txt\n",
            "/content/drive/MyDrive/bbc/sport/384.txt\n",
            "/content/drive/MyDrive/bbc/sport/373.txt\n"
          ],
          "name": "stdout"
        },
        {
          "output_type": "stream",
          "text": [
            "Skipping line 7: '\t' expected after '\"'\n",
            "Skipping line 9: '\t' expected after '\"'\n"
          ],
          "name": "stderr"
        },
        {
          "output_type": "stream",
          "text": [
            "/content/drive/MyDrive/bbc/sport/390.txt\n"
          ],
          "name": "stdout"
        },
        {
          "output_type": "stream",
          "text": [
            "Skipping line 7: '\t' expected after '\"'\n"
          ],
          "name": "stderr"
        },
        {
          "output_type": "stream",
          "text": [
            "/content/drive/MyDrive/bbc/sport/380.txt\n",
            "/content/drive/MyDrive/bbc/sport/351.txt\n",
            "/content/drive/MyDrive/bbc/sport/379.txt\n",
            "/content/drive/MyDrive/bbc/sport/388.txt\n",
            "/content/drive/MyDrive/bbc/sport/369.txt\n",
            "/content/drive/MyDrive/bbc/sport/371.txt\n",
            "/content/drive/MyDrive/bbc/sport/370.txt\n",
            "/content/drive/MyDrive/bbc/sport/356.txt\n"
          ],
          "name": "stdout"
        },
        {
          "output_type": "stream",
          "text": [
            "Skipping line 7: '\t' expected after '\"'\n"
          ],
          "name": "stderr"
        },
        {
          "output_type": "stream",
          "text": [
            "/content/drive/MyDrive/bbc/sport/365.txt\n"
          ],
          "name": "stdout"
        },
        {
          "output_type": "stream",
          "text": [
            "Skipping line 7: '\t' expected after '\"'\n"
          ],
          "name": "stderr"
        },
        {
          "output_type": "stream",
          "text": [
            "/content/drive/MyDrive/bbc/sport/367.txt\n",
            "/content/drive/MyDrive/bbc/sport/366.txt\n"
          ],
          "name": "stdout"
        },
        {
          "output_type": "stream",
          "text": [
            "Skipping line 7: '\t' expected after '\"'\n"
          ],
          "name": "stderr"
        },
        {
          "output_type": "stream",
          "text": [
            "/content/drive/MyDrive/bbc/sport/362.txt\n",
            "/content/drive/MyDrive/bbc/sport/378.txt\n",
            "/content/drive/MyDrive/bbc/sport/352.txt\n",
            "/content/drive/MyDrive/bbc/sport/353.txt\n",
            "/content/drive/MyDrive/bbc/sport/355.txt\n",
            "/content/drive/MyDrive/bbc/sport/389.txt\n"
          ],
          "name": "stdout"
        },
        {
          "output_type": "stream",
          "text": [
            "Skipping line 9: '\t' expected after '\"'\n"
          ],
          "name": "stderr"
        },
        {
          "output_type": "stream",
          "text": [
            "/content/drive/MyDrive/bbc/sport/357.txt\n",
            "/content/drive/MyDrive/bbc/sport/392.txt\n",
            "/content/drive/MyDrive/bbc/sport/418.txt\n",
            "/content/drive/MyDrive/bbc/sport/403.txt\n",
            "/content/drive/MyDrive/bbc/sport/414.txt\n",
            "/content/drive/MyDrive/bbc/sport/425.txt\n"
          ],
          "name": "stdout"
        },
        {
          "output_type": "stream",
          "text": [
            "Skipping line 7: '\t' expected after '\"'\n"
          ],
          "name": "stderr"
        },
        {
          "output_type": "stream",
          "text": [
            "/content/drive/MyDrive/bbc/sport/394.txt\n",
            "/content/drive/MyDrive/bbc/sport/424.txt\n",
            "/content/drive/MyDrive/bbc/sport/413.txt\n"
          ],
          "name": "stdout"
        },
        {
          "output_type": "stream",
          "text": [
            "Skipping line 9: '\t' expected after '\"'\n"
          ],
          "name": "stderr"
        },
        {
          "output_type": "stream",
          "text": [
            "/content/drive/MyDrive/bbc/sport/406.txt\n"
          ],
          "name": "stdout"
        },
        {
          "output_type": "stream",
          "text": [
            "Skipping line 9: '\t' expected after '\"'\n",
            "Skipping line 11: '\t' expected after '\"'\n"
          ],
          "name": "stderr"
        },
        {
          "output_type": "stream",
          "text": [
            "/content/drive/MyDrive/bbc/sport/419.txt\n",
            "/content/drive/MyDrive/bbc/sport/423.txt\n",
            "/content/drive/MyDrive/bbc/sport/421.txt\n"
          ],
          "name": "stdout"
        },
        {
          "output_type": "stream",
          "text": [
            "Skipping line 7: '\t' expected after '\"'\n"
          ],
          "name": "stderr"
        },
        {
          "output_type": "stream",
          "text": [
            "/content/drive/MyDrive/bbc/sport/399.txt\n",
            "/content/drive/MyDrive/bbc/sport/417.txt\n",
            "/content/drive/MyDrive/bbc/sport/402.txt\n",
            "/content/drive/MyDrive/bbc/sport/410.txt\n",
            "/content/drive/MyDrive/bbc/sport/398.txt\n"
          ],
          "name": "stdout"
        },
        {
          "output_type": "stream",
          "text": [
            "Skipping line 5: '\t' expected after '\"'\n",
            "Skipping line 7: '\t' expected after '\"'\n"
          ],
          "name": "stderr"
        },
        {
          "output_type": "stream",
          "text": [
            "/content/drive/MyDrive/bbc/sport/409.txt\n",
            "/content/drive/MyDrive/bbc/sport/416.txt\n",
            "/content/drive/MyDrive/bbc/sport/407.txt\n",
            "/content/drive/MyDrive/bbc/sport/401.txt\n",
            "/content/drive/MyDrive/bbc/sport/411.txt\n",
            "/content/drive/MyDrive/bbc/sport/422.txt\n",
            "/content/drive/MyDrive/bbc/sport/405.txt\n",
            "/content/drive/MyDrive/bbc/sport/412.txt\n",
            "/content/drive/MyDrive/bbc/sport/397.txt\n"
          ],
          "name": "stdout"
        },
        {
          "output_type": "stream",
          "text": [
            "Skipping line 11: '\t' expected after '\"'\n",
            "Skipping line 13: '\t' expected after '\"'\n",
            "Skipping line 9: '\t' expected after '\"'\n"
          ],
          "name": "stderr"
        },
        {
          "output_type": "stream",
          "text": [
            "/content/drive/MyDrive/bbc/sport/395.txt\n"
          ],
          "name": "stdout"
        },
        {
          "output_type": "stream",
          "text": [
            "Skipping line 7: '\t' expected after '\"'\n"
          ],
          "name": "stderr"
        },
        {
          "output_type": "stream",
          "text": [
            "/content/drive/MyDrive/bbc/sport/427.txt\n",
            "/content/drive/MyDrive/bbc/sport/400.txt\n",
            "/content/drive/MyDrive/bbc/sport/393.txt\n",
            "/content/drive/MyDrive/bbc/sport/396.txt\n"
          ],
          "name": "stdout"
        },
        {
          "output_type": "stream",
          "text": [
            "Skipping line 5: '\t' expected after '\"'\n"
          ],
          "name": "stderr"
        },
        {
          "output_type": "stream",
          "text": [
            "/content/drive/MyDrive/bbc/sport/420.txt\n"
          ],
          "name": "stdout"
        },
        {
          "output_type": "stream",
          "text": [
            "Skipping line 7: '\t' expected after '\"'\n",
            "Skipping line 9: '\t' expected after '\"'\n"
          ],
          "name": "stderr"
        },
        {
          "output_type": "stream",
          "text": [
            "/content/drive/MyDrive/bbc/sport/408.txt\n",
            "/content/drive/MyDrive/bbc/sport/426.txt\n"
          ],
          "name": "stdout"
        },
        {
          "output_type": "stream",
          "text": [
            "Skipping line 7: '\t' expected after '\"'\n"
          ],
          "name": "stderr"
        },
        {
          "output_type": "stream",
          "text": [
            "/content/drive/MyDrive/bbc/sport/404.txt\n",
            "/content/drive/MyDrive/bbc/sport/415.txt\n"
          ],
          "name": "stdout"
        },
        {
          "output_type": "stream",
          "text": [
            "Skipping line 7: '\t' expected after '\"'\n",
            "Skipping line 9: '\t' expected after '\"'\n"
          ],
          "name": "stderr"
        },
        {
          "output_type": "stream",
          "text": [
            "/content/drive/MyDrive/bbc/sport/428.txt\n",
            "/content/drive/MyDrive/bbc/sport/436.txt\n",
            "/content/drive/MyDrive/bbc/sport/464.txt\n",
            "/content/drive/MyDrive/bbc/sport/458.txt\n",
            "/content/drive/MyDrive/bbc/sport/441.txt\n"
          ],
          "name": "stdout"
        },
        {
          "output_type": "stream",
          "text": [
            "Skipping line 7: '\t' expected after '\"'\n"
          ],
          "name": "stderr"
        },
        {
          "output_type": "stream",
          "text": [
            "/content/drive/MyDrive/bbc/sport/472.txt\n",
            "/content/drive/MyDrive/bbc/sport/429.txt\n",
            "/content/drive/MyDrive/bbc/sport/469.txt\n",
            "/content/drive/MyDrive/bbc/sport/475.txt\n",
            "/content/drive/MyDrive/bbc/sport/435.txt\n"
          ],
          "name": "stdout"
        },
        {
          "output_type": "stream",
          "text": [
            "Skipping line 7: '\t' expected after '\"'\n"
          ],
          "name": "stderr"
        },
        {
          "output_type": "stream",
          "text": [
            "/content/drive/MyDrive/bbc/sport/457.txt\n",
            "/content/drive/MyDrive/bbc/sport/473.txt\n"
          ],
          "name": "stdout"
        },
        {
          "output_type": "stream",
          "text": [
            "Skipping line 7: '\t' expected after '\"'\n"
          ],
          "name": "stderr"
        },
        {
          "output_type": "stream",
          "text": [
            "/content/drive/MyDrive/bbc/sport/433.txt\n"
          ],
          "name": "stdout"
        },
        {
          "output_type": "stream",
          "text": [
            "Skipping line 7: '\t' expected after '\"'\n"
          ],
          "name": "stderr"
        },
        {
          "output_type": "stream",
          "text": [
            "/content/drive/MyDrive/bbc/sport/454.txt\n",
            "/content/drive/MyDrive/bbc/sport/449.txt\n",
            "/content/drive/MyDrive/bbc/sport/430.txt\n",
            "/content/drive/MyDrive/bbc/sport/448.txt\n"
          ],
          "name": "stdout"
        },
        {
          "output_type": "stream",
          "text": [
            "Skipping line 9: '\t' expected after '\"'\n"
          ],
          "name": "stderr"
        },
        {
          "output_type": "stream",
          "text": [
            "/content/drive/MyDrive/bbc/sport/455.txt\n",
            "/content/drive/MyDrive/bbc/sport/452.txt\n",
            "/content/drive/MyDrive/bbc/sport/446.txt\n",
            "/content/drive/MyDrive/bbc/sport/438.txt\n",
            "/content/drive/MyDrive/bbc/sport/444.txt\n",
            "/content/drive/MyDrive/bbc/sport/459.txt\n",
            "/content/drive/MyDrive/bbc/sport/466.txt\n"
          ],
          "name": "stdout"
        },
        {
          "output_type": "stream",
          "text": [
            "Skipping line 7: '\t' expected after '\"'\n"
          ],
          "name": "stderr"
        },
        {
          "output_type": "stream",
          "text": [
            "/content/drive/MyDrive/bbc/sport/447.txt\n",
            "/content/drive/MyDrive/bbc/sport/432.txt\n",
            "/content/drive/MyDrive/bbc/sport/461.txt\n"
          ],
          "name": "stdout"
        },
        {
          "output_type": "stream",
          "text": [
            "Skipping line 9: '\t' expected after '\"'\n"
          ],
          "name": "stderr"
        },
        {
          "output_type": "stream",
          "text": [
            "/content/drive/MyDrive/bbc/sport/465.txt\n"
          ],
          "name": "stdout"
        },
        {
          "output_type": "stream",
          "text": [
            "Skipping line 7: '\t' expected after '\"'\n"
          ],
          "name": "stderr"
        },
        {
          "output_type": "stream",
          "text": [
            "/content/drive/MyDrive/bbc/sport/468.txt\n"
          ],
          "name": "stdout"
        },
        {
          "output_type": "stream",
          "text": [
            "Skipping line 7: '\t' expected after '\"'\n",
            "Skipping line 9: '\t' expected after '\"'\n"
          ],
          "name": "stderr"
        },
        {
          "output_type": "stream",
          "text": [
            "/content/drive/MyDrive/bbc/sport/462.txt\n",
            "/content/drive/MyDrive/bbc/sport/471.txt\n",
            "/content/drive/MyDrive/bbc/sport/451.txt\n",
            "/content/drive/MyDrive/bbc/sport/463.txt\n",
            "/content/drive/MyDrive/bbc/sport/470.txt\n",
            "/content/drive/MyDrive/bbc/sport/456.txt\n",
            "/content/drive/MyDrive/bbc/sport/434.txt\n",
            "/content/drive/MyDrive/bbc/sport/460.txt\n",
            "/content/drive/MyDrive/bbc/sport/442.txt\n",
            "/content/drive/MyDrive/bbc/sport/439.txt\n",
            "/content/drive/MyDrive/bbc/sport/437.txt\n",
            "/content/drive/MyDrive/bbc/sport/450.txt\n",
            "/content/drive/MyDrive/bbc/sport/443.txt\n"
          ],
          "name": "stdout"
        },
        {
          "output_type": "stream",
          "text": [
            "Skipping line 5: '\t' expected after '\"'\n"
          ],
          "name": "stderr"
        },
        {
          "output_type": "stream",
          "text": [
            "/content/drive/MyDrive/bbc/sport/474.txt\n"
          ],
          "name": "stdout"
        },
        {
          "output_type": "stream",
          "text": [
            "Skipping line 9: '\t' expected after '\"'\n"
          ],
          "name": "stderr"
        },
        {
          "output_type": "stream",
          "text": [
            "/content/drive/MyDrive/bbc/sport/445.txt\n"
          ],
          "name": "stdout"
        },
        {
          "output_type": "stream",
          "text": [
            "Skipping line 7: '\t' expected after '\"'\n"
          ],
          "name": "stderr"
        },
        {
          "output_type": "stream",
          "text": [
            "/content/drive/MyDrive/bbc/sport/431.txt\n",
            "/content/drive/MyDrive/bbc/sport/440.txt\n",
            "/content/drive/MyDrive/bbc/sport/453.txt\n",
            "/content/drive/MyDrive/bbc/sport/467.txt\n",
            "/content/drive/MyDrive/bbc/sport/484.txt\n",
            "/content/drive/MyDrive/bbc/sport/503.txt\n",
            "/content/drive/MyDrive/bbc/sport/506.txt\n",
            "/content/drive/MyDrive/bbc/sport/491.txt\n",
            "/content/drive/MyDrive/bbc/sport/477.txt\n",
            "/content/drive/MyDrive/bbc/sport/508.txt\n",
            "/content/drive/MyDrive/bbc/sport/488.txt\n",
            "/content/drive/MyDrive/bbc/sport/493.txt\n"
          ],
          "name": "stdout"
        },
        {
          "output_type": "stream",
          "text": [
            "Skipping line 9: '\t' expected after '\"'\n"
          ],
          "name": "stderr"
        },
        {
          "output_type": "stream",
          "text": [
            "/content/drive/MyDrive/bbc/sport/494.txt\n",
            "/content/drive/MyDrive/bbc/sport/478.txt\n",
            "/content/drive/MyDrive/bbc/sport/502.txt\n",
            "/content/drive/MyDrive/bbc/sport/500.txt\n",
            "/content/drive/MyDrive/bbc/sport/485.txt\n"
          ],
          "name": "stdout"
        },
        {
          "output_type": "stream",
          "text": [
            "Skipping line 7: '\t' expected after '\"'\n"
          ],
          "name": "stderr"
        },
        {
          "output_type": "stream",
          "text": [
            "/content/drive/MyDrive/bbc/sport/511.txt\n",
            "/content/drive/MyDrive/bbc/sport/479.txt\n",
            "/content/drive/MyDrive/bbc/sport/492.txt\n",
            "/content/drive/MyDrive/bbc/sport/489.txt\n"
          ],
          "name": "stdout"
        },
        {
          "output_type": "stream",
          "text": [
            "Skipping line 7: '\t' expected after '\"'\n"
          ],
          "name": "stderr"
        },
        {
          "output_type": "stream",
          "text": [
            "/content/drive/MyDrive/bbc/sport/507.txt\n",
            "/content/drive/MyDrive/bbc/sport/501.txt\n",
            "/content/drive/MyDrive/bbc/sport/476.txt\n",
            "/content/drive/MyDrive/bbc/sport/481.txt\n",
            "/content/drive/MyDrive/bbc/sport/498.txt\n",
            "/content/drive/MyDrive/bbc/sport/510.txt\n",
            "/content/drive/MyDrive/bbc/sport/509.txt\n"
          ],
          "name": "stdout"
        },
        {
          "output_type": "stream",
          "text": [
            "Skipping line 7: '\t' expected after '\"'\n"
          ],
          "name": "stderr"
        },
        {
          "output_type": "stream",
          "text": [
            "/content/drive/MyDrive/bbc/sport/483.txt\n",
            "/content/drive/MyDrive/bbc/sport/504.txt\n",
            "/content/drive/MyDrive/bbc/sport/490.txt\n"
          ],
          "name": "stdout"
        },
        {
          "output_type": "stream",
          "text": [
            "Skipping line 7: '\t' expected after '\"'\n"
          ],
          "name": "stderr"
        },
        {
          "output_type": "stream",
          "text": [
            "/content/drive/MyDrive/bbc/sport/480.txt\n",
            "/content/drive/MyDrive/bbc/sport/482.txt\n",
            "/content/drive/MyDrive/bbc/sport/499.txt\n",
            "/content/drive/MyDrive/bbc/sport/495.txt\n",
            "/content/drive/MyDrive/bbc/sport/497.txt\n",
            "/content/drive/MyDrive/bbc/sport/487.txt\n",
            "/content/drive/MyDrive/bbc/sport/486.txt\n",
            "/content/drive/MyDrive/bbc/sport/496.txt\n"
          ],
          "name": "stdout"
        },
        {
          "output_type": "stream",
          "text": [
            "Skipping line 7: '\t' expected after '\"'\n"
          ],
          "name": "stderr"
        },
        {
          "output_type": "stream",
          "text": [
            "/content/drive/MyDrive/bbc/sport/505.txt\n",
            "/content/drive/MyDrive/bbc/tech/003.txt\n",
            "/content/drive/MyDrive/bbc/tech/005.txt\n",
            "/content/drive/MyDrive/bbc/tech/001.txt\n",
            "/content/drive/MyDrive/bbc/tech/002.txt\n",
            "/content/drive/MyDrive/bbc/tech/004.txt\n"
          ],
          "name": "stdout"
        },
        {
          "output_type": "stream",
          "text": [
            "Skipping line 7: '\t' expected after '\"'\n"
          ],
          "name": "stderr"
        },
        {
          "output_type": "stream",
          "text": [
            "/content/drive/MyDrive/bbc/tech/022.txt\n",
            "/content/drive/MyDrive/bbc/tech/031.txt\n"
          ],
          "name": "stdout"
        },
        {
          "output_type": "stream",
          "text": [
            "Skipping line 7: '\t' expected after '\"'\n",
            "Skipping line 13: '\t' expected after '\"'\n"
          ],
          "name": "stderr"
        },
        {
          "output_type": "stream",
          "text": [
            "/content/drive/MyDrive/bbc/tech/006.txt\n",
            "/content/drive/MyDrive/bbc/tech/025.txt\n",
            "/content/drive/MyDrive/bbc/tech/020.txt\n",
            "/content/drive/MyDrive/bbc/tech/029.txt\n",
            "/content/drive/MyDrive/bbc/tech/017.txt\n",
            "/content/drive/MyDrive/bbc/tech/019.txt\n"
          ],
          "name": "stdout"
        },
        {
          "output_type": "stream",
          "text": [
            "Skipping line 7: '\t' expected after '\"'\n",
            "Skipping line 9: '\t' expected after '\"'\n"
          ],
          "name": "stderr"
        },
        {
          "output_type": "stream",
          "text": [
            "/content/drive/MyDrive/bbc/tech/049.txt\n",
            "/content/drive/MyDrive/bbc/tech/012.txt\n",
            "/content/drive/MyDrive/bbc/tech/048.txt\n",
            "/content/drive/MyDrive/bbc/tech/016.txt\n"
          ],
          "name": "stdout"
        },
        {
          "output_type": "stream",
          "text": [
            "Skipping line 15: '\t' expected after '\"'\n"
          ],
          "name": "stderr"
        },
        {
          "output_type": "stream",
          "text": [
            "/content/drive/MyDrive/bbc/tech/037.txt\n",
            "/content/drive/MyDrive/bbc/tech/044.txt\n",
            "/content/drive/MyDrive/bbc/tech/051.txt\n"
          ],
          "name": "stdout"
        },
        {
          "output_type": "stream",
          "text": [
            "Skipping line 7: '\t' expected after '\"'\n"
          ],
          "name": "stderr"
        },
        {
          "output_type": "stream",
          "text": [
            "/content/drive/MyDrive/bbc/tech/036.txt\n",
            "/content/drive/MyDrive/bbc/tech/042.txt\n",
            "/content/drive/MyDrive/bbc/tech/013.txt\n"
          ],
          "name": "stdout"
        },
        {
          "output_type": "stream",
          "text": [
            "Skipping line 13: '\t' expected after '\"'\n"
          ],
          "name": "stderr"
        },
        {
          "output_type": "stream",
          "text": [
            "/content/drive/MyDrive/bbc/tech/009.txt\n"
          ],
          "name": "stdout"
        },
        {
          "output_type": "stream",
          "text": [
            "Skipping line 7: '\t' expected after '\"'\n",
            "Skipping line 9: '\t' expected after '\"'\n"
          ],
          "name": "stderr"
        },
        {
          "output_type": "stream",
          "text": [
            "/content/drive/MyDrive/bbc/tech/043.txt\n"
          ],
          "name": "stdout"
        },
        {
          "output_type": "stream",
          "text": [
            "Skipping line 9: '\t' expected after '\"'\n"
          ],
          "name": "stderr"
        },
        {
          "output_type": "stream",
          "text": [
            "/content/drive/MyDrive/bbc/tech/038.txt\n",
            "/content/drive/MyDrive/bbc/tech/040.txt\n",
            "/content/drive/MyDrive/bbc/tech/028.txt\n",
            "/content/drive/MyDrive/bbc/tech/034.txt\n",
            "/content/drive/MyDrive/bbc/tech/024.txt\n"
          ],
          "name": "stdout"
        },
        {
          "output_type": "stream",
          "text": [
            "Skipping line 7: '\t' expected after '\"'\n"
          ],
          "name": "stderr"
        },
        {
          "output_type": "stream",
          "text": [
            "/content/drive/MyDrive/bbc/tech/047.txt\n",
            "/content/drive/MyDrive/bbc/tech/050.txt\n",
            "/content/drive/MyDrive/bbc/tech/027.txt\n",
            "/content/drive/MyDrive/bbc/tech/007.txt\n",
            "/content/drive/MyDrive/bbc/tech/023.txt\n"
          ],
          "name": "stdout"
        },
        {
          "output_type": "stream",
          "text": [
            "Skipping line 7: '\t' expected after '\"'\n"
          ],
          "name": "stderr"
        },
        {
          "output_type": "stream",
          "text": [
            "/content/drive/MyDrive/bbc/tech/035.txt\n"
          ],
          "name": "stdout"
        },
        {
          "output_type": "stream",
          "text": [
            "Skipping line 9: '\t' expected after '\"'\n"
          ],
          "name": "stderr"
        },
        {
          "output_type": "stream",
          "text": [
            "/content/drive/MyDrive/bbc/tech/008.txt\n",
            "/content/drive/MyDrive/bbc/tech/014.txt\n",
            "/content/drive/MyDrive/bbc/tech/039.txt\n",
            "/content/drive/MyDrive/bbc/tech/011.txt\n"
          ],
          "name": "stdout"
        },
        {
          "output_type": "stream",
          "text": [
            "Skipping line 7: '\t' expected after '\"'\n",
            "Skipping line 9: '\t' expected after '\"'\n"
          ],
          "name": "stderr"
        },
        {
          "output_type": "stream",
          "text": [
            "/content/drive/MyDrive/bbc/tech/026.txt\n",
            "/content/drive/MyDrive/bbc/tech/021.txt\n",
            "/content/drive/MyDrive/bbc/tech/033.txt\n",
            "/content/drive/MyDrive/bbc/tech/045.txt\n"
          ],
          "name": "stdout"
        },
        {
          "output_type": "stream",
          "text": [
            "Skipping line 9: '\t' expected after '\"'\n"
          ],
          "name": "stderr"
        },
        {
          "output_type": "stream",
          "text": [
            "/content/drive/MyDrive/bbc/tech/032.txt\n"
          ],
          "name": "stdout"
        },
        {
          "output_type": "stream",
          "text": [
            "Skipping line 7: '\t' expected after '\"'\n",
            "Skipping line 9: '\t' expected after '\"'\n"
          ],
          "name": "stderr"
        },
        {
          "output_type": "stream",
          "text": [
            "/content/drive/MyDrive/bbc/tech/018.txt\n",
            "/content/drive/MyDrive/bbc/tech/046.txt\n",
            "/content/drive/MyDrive/bbc/tech/015.txt\n",
            "/content/drive/MyDrive/bbc/tech/010.txt\n",
            "/content/drive/MyDrive/bbc/tech/041.txt\n"
          ],
          "name": "stdout"
        },
        {
          "output_type": "stream",
          "text": [
            "Skipping line 11: '\t' expected after '\"'\n"
          ],
          "name": "stderr"
        },
        {
          "output_type": "stream",
          "text": [
            "/content/drive/MyDrive/bbc/tech/030.txt\n",
            "/content/drive/MyDrive/bbc/tech/067.txt\n"
          ],
          "name": "stdout"
        },
        {
          "output_type": "stream",
          "text": [
            "Skipping line 9: '\t' expected after '\"'\n",
            "Skipping line 13: '\t' expected after '\"'\n"
          ],
          "name": "stderr"
        },
        {
          "output_type": "stream",
          "text": [
            "/content/drive/MyDrive/bbc/tech/074.txt\n",
            "/content/drive/MyDrive/bbc/tech/088.txt\n",
            "/content/drive/MyDrive/bbc/tech/071.txt\n",
            "/content/drive/MyDrive/bbc/tech/064.txt\n"
          ],
          "name": "stdout"
        },
        {
          "output_type": "stream",
          "text": [
            "Skipping line 7: '\t' expected after '\"'\n",
            "Skipping line 13: '\t' expected after '\"'\n"
          ],
          "name": "stderr"
        },
        {
          "output_type": "stream",
          "text": [
            "/content/drive/MyDrive/bbc/tech/060.txt\n",
            "/content/drive/MyDrive/bbc/tech/054.txt\n",
            "/content/drive/MyDrive/bbc/tech/056.txt\n",
            "/content/drive/MyDrive/bbc/tech/083.txt\n",
            "/content/drive/MyDrive/bbc/tech/089.txt\n",
            "/content/drive/MyDrive/bbc/tech/075.txt\n",
            "/content/drive/MyDrive/bbc/tech/079.txt\n",
            "/content/drive/MyDrive/bbc/tech/092.txt\n",
            "/content/drive/MyDrive/bbc/tech/070.txt\n",
            "/content/drive/MyDrive/bbc/tech/085.txt\n",
            "/content/drive/MyDrive/bbc/tech/091.txt\n",
            "/content/drive/MyDrive/bbc/tech/087.txt\n"
          ],
          "name": "stdout"
        },
        {
          "output_type": "stream",
          "text": [
            "Skipping line 7: '\t' expected after '\"'\n"
          ],
          "name": "stderr"
        },
        {
          "output_type": "stream",
          "text": [
            "/content/drive/MyDrive/bbc/tech/090.txt\n"
          ],
          "name": "stdout"
        },
        {
          "output_type": "stream",
          "text": [
            "Skipping line 7: '\t' expected after '\"'\n"
          ],
          "name": "stderr"
        },
        {
          "output_type": "stream",
          "text": [
            "/content/drive/MyDrive/bbc/tech/076.txt\n",
            "/content/drive/MyDrive/bbc/tech/073.txt\n"
          ],
          "name": "stdout"
        },
        {
          "output_type": "stream",
          "text": [
            "Skipping line 7: '\t' expected after '\"'\n",
            "Skipping line 9: '\t' expected after '\"'\n"
          ],
          "name": "stderr"
        },
        {
          "output_type": "stream",
          "text": [
            "/content/drive/MyDrive/bbc/tech/072.txt\n"
          ],
          "name": "stdout"
        },
        {
          "output_type": "stream",
          "text": [
            "Skipping line 9: '\t' expected after '\"'\n",
            "Skipping line 13: '\t' expected after '\"'\n"
          ],
          "name": "stderr"
        },
        {
          "output_type": "stream",
          "text": [
            "/content/drive/MyDrive/bbc/tech/078.txt\n",
            "/content/drive/MyDrive/bbc/tech/093.txt\n",
            "/content/drive/MyDrive/bbc/tech/057.txt\n"
          ],
          "name": "stdout"
        },
        {
          "output_type": "stream",
          "text": [
            "Skipping line 7: '\t' expected after '\"'\n"
          ],
          "name": "stderr"
        },
        {
          "output_type": "stream",
          "text": [
            "/content/drive/MyDrive/bbc/tech/052.txt\n",
            "/content/drive/MyDrive/bbc/tech/069.txt\n",
            "/content/drive/MyDrive/bbc/tech/055.txt\n",
            "/content/drive/MyDrive/bbc/tech/066.txt\n",
            "/content/drive/MyDrive/bbc/tech/059.txt\n",
            "/content/drive/MyDrive/bbc/tech/065.txt\n",
            "/content/drive/MyDrive/bbc/tech/063.txt\n",
            "/content/drive/MyDrive/bbc/tech/082.txt\n"
          ],
          "name": "stdout"
        },
        {
          "output_type": "stream",
          "text": [
            "Skipping line 7: '\t' expected after '\"'\n",
            "Skipping line 11: '\t' expected after '\"'\n"
          ],
          "name": "stderr"
        },
        {
          "output_type": "stream",
          "text": [
            "/content/drive/MyDrive/bbc/tech/053.txt\n",
            "/content/drive/MyDrive/bbc/tech/081.txt\n",
            "/content/drive/MyDrive/bbc/tech/068.txt\n",
            "/content/drive/MyDrive/bbc/tech/077.txt\n",
            "/content/drive/MyDrive/bbc/tech/080.txt\n"
          ],
          "name": "stdout"
        },
        {
          "output_type": "stream",
          "text": [
            "Skipping line 9: '\t' expected after '\"'\n"
          ],
          "name": "stderr"
        },
        {
          "output_type": "stream",
          "text": [
            "/content/drive/MyDrive/bbc/tech/061.txt\n",
            "/content/drive/MyDrive/bbc/tech/086.txt\n",
            "/content/drive/MyDrive/bbc/tech/062.txt\n"
          ],
          "name": "stdout"
        },
        {
          "output_type": "stream",
          "text": [
            "Skipping line 9: '\t' expected after '\"'\n"
          ],
          "name": "stderr"
        },
        {
          "output_type": "stream",
          "text": [
            "/content/drive/MyDrive/bbc/tech/084.txt\n",
            "/content/drive/MyDrive/bbc/tech/058.txt\n",
            "/content/drive/MyDrive/bbc/tech/116.txt\n"
          ],
          "name": "stdout"
        },
        {
          "output_type": "stream",
          "text": [
            "Skipping line 7: '\t' expected after '\"'\n"
          ],
          "name": "stderr"
        },
        {
          "output_type": "stream",
          "text": [
            "/content/drive/MyDrive/bbc/tech/117.txt\n",
            "/content/drive/MyDrive/bbc/tech/100.txt\n"
          ],
          "name": "stdout"
        },
        {
          "output_type": "stream",
          "text": [
            "Skipping line 9: '\t' expected after '\"'\n"
          ],
          "name": "stderr"
        },
        {
          "output_type": "stream",
          "text": [
            "/content/drive/MyDrive/bbc/tech/110.txt\n",
            "/content/drive/MyDrive/bbc/tech/132.txt\n",
            "/content/drive/MyDrive/bbc/tech/126.txt\n",
            "/content/drive/MyDrive/bbc/tech/118.txt\n",
            "/content/drive/MyDrive/bbc/tech/107.txt\n",
            "/content/drive/MyDrive/bbc/tech/133.txt\n"
          ],
          "name": "stdout"
        },
        {
          "output_type": "stream",
          "text": [
            "Skipping line 9: '\t' expected after '\"'\n"
          ],
          "name": "stderr"
        },
        {
          "output_type": "stream",
          "text": [
            "/content/drive/MyDrive/bbc/tech/131.txt\n"
          ],
          "name": "stdout"
        },
        {
          "output_type": "stream",
          "text": [
            "Skipping line 9: '\t' expected after '\"'\n"
          ],
          "name": "stderr"
        },
        {
          "output_type": "stream",
          "text": [
            "/content/drive/MyDrive/bbc/tech/111.txt\n",
            "/content/drive/MyDrive/bbc/tech/098.txt\n"
          ],
          "name": "stdout"
        },
        {
          "output_type": "stream",
          "text": [
            "Skipping line 9: '\t' expected after '\"'\n"
          ],
          "name": "stderr"
        },
        {
          "output_type": "stream",
          "text": [
            "/content/drive/MyDrive/bbc/tech/124.txt\n",
            "/content/drive/MyDrive/bbc/tech/122.txt\n",
            "/content/drive/MyDrive/bbc/tech/096.txt\n",
            "/content/drive/MyDrive/bbc/tech/137.txt\n"
          ],
          "name": "stdout"
        },
        {
          "output_type": "stream",
          "text": [
            "Skipping line 9: '\t' expected after '\"'\n"
          ],
          "name": "stderr"
        },
        {
          "output_type": "stream",
          "text": [
            "/content/drive/MyDrive/bbc/tech/134.txt\n"
          ],
          "name": "stdout"
        },
        {
          "output_type": "stream",
          "text": [
            "Skipping line 9: '\t' expected after '\"'\n"
          ],
          "name": "stderr"
        },
        {
          "output_type": "stream",
          "text": [
            "/content/drive/MyDrive/bbc/tech/109.txt\n",
            "/content/drive/MyDrive/bbc/tech/119.txt\n",
            "/content/drive/MyDrive/bbc/tech/112.txt\n",
            "/content/drive/MyDrive/bbc/tech/099.txt\n",
            "/content/drive/MyDrive/bbc/tech/097.txt\n",
            "/content/drive/MyDrive/bbc/tech/106.txt\n",
            "/content/drive/MyDrive/bbc/tech/121.txt\n"
          ],
          "name": "stdout"
        },
        {
          "output_type": "stream",
          "text": [
            "Skipping line 9: '\t' expected after '\"'\n",
            "Skipping line 7: '\t' expected after '\"'\n"
          ],
          "name": "stderr"
        },
        {
          "output_type": "stream",
          "text": [
            "/content/drive/MyDrive/bbc/tech/108.txt\n"
          ],
          "name": "stdout"
        },
        {
          "output_type": "stream",
          "text": [
            "Skipping line 9: '\t' expected after '\"'\n"
          ],
          "name": "stderr"
        },
        {
          "output_type": "stream",
          "text": [
            "/content/drive/MyDrive/bbc/tech/113.txt\n"
          ],
          "name": "stdout"
        },
        {
          "output_type": "stream",
          "text": [
            "Skipping line 13: '\t' expected after '\"'\n"
          ],
          "name": "stderr"
        },
        {
          "output_type": "stream",
          "text": [
            "/content/drive/MyDrive/bbc/tech/138.txt\n",
            "/content/drive/MyDrive/bbc/tech/102.txt\n"
          ],
          "name": "stdout"
        },
        {
          "output_type": "stream",
          "text": [
            "Skipping line 7: '\t' expected after '\"'\n",
            "Skipping line 11: '\t' expected after '\"'\n"
          ],
          "name": "stderr"
        },
        {
          "output_type": "stream",
          "text": [
            "/content/drive/MyDrive/bbc/tech/120.txt\n",
            "/content/drive/MyDrive/bbc/tech/114.txt\n",
            "/content/drive/MyDrive/bbc/tech/094.txt\n"
          ],
          "name": "stdout"
        },
        {
          "output_type": "stream",
          "text": [
            "Skipping line 7: '\t' expected after '\"'\n",
            "Skipping line 15: '\t' expected after '\"'\n"
          ],
          "name": "stderr"
        },
        {
          "output_type": "stream",
          "text": [
            "/content/drive/MyDrive/bbc/tech/103.txt\n",
            "/content/drive/MyDrive/bbc/tech/130.txt\n"
          ],
          "name": "stdout"
        },
        {
          "output_type": "stream",
          "text": [
            "Skipping line 7: '\t' expected after '\"'\n"
          ],
          "name": "stderr"
        },
        {
          "output_type": "stream",
          "text": [
            "/content/drive/MyDrive/bbc/tech/101.txt\n",
            "/content/drive/MyDrive/bbc/tech/135.txt\n",
            "/content/drive/MyDrive/bbc/tech/128.txt\n",
            "/content/drive/MyDrive/bbc/tech/095.txt\n",
            "/content/drive/MyDrive/bbc/tech/129.txt\n",
            "/content/drive/MyDrive/bbc/tech/127.txt\n",
            "/content/drive/MyDrive/bbc/tech/105.txt\n",
            "/content/drive/MyDrive/bbc/tech/104.txt\n"
          ],
          "name": "stdout"
        },
        {
          "output_type": "stream",
          "text": [
            "Skipping line 7: '\t' expected after '\"'\n",
            "Skipping line 9: '\t' expected after '\"'\n"
          ],
          "name": "stderr"
        },
        {
          "output_type": "stream",
          "text": [
            "/content/drive/MyDrive/bbc/tech/125.txt\n",
            "/content/drive/MyDrive/bbc/tech/115.txt\n"
          ],
          "name": "stdout"
        },
        {
          "output_type": "stream",
          "text": [
            "Skipping line 11: '\t' expected after '\"'\n",
            "Skipping line 13: '\t' expected after '\"'\n"
          ],
          "name": "stderr"
        },
        {
          "output_type": "stream",
          "text": [
            "/content/drive/MyDrive/bbc/tech/136.txt\n",
            "/content/drive/MyDrive/bbc/tech/123.txt\n",
            "/content/drive/MyDrive/bbc/tech/144.txt\n",
            "/content/drive/MyDrive/bbc/tech/160.txt\n",
            "/content/drive/MyDrive/bbc/tech/139.txt\n"
          ],
          "name": "stdout"
        },
        {
          "output_type": "stream",
          "text": [
            "Skipping line 11: '\t' expected after '\"'\n"
          ],
          "name": "stderr"
        },
        {
          "output_type": "stream",
          "text": [
            "/content/drive/MyDrive/bbc/tech/153.txt\n",
            "/content/drive/MyDrive/bbc/tech/152.txt\n",
            "/content/drive/MyDrive/bbc/tech/175.txt\n",
            "/content/drive/MyDrive/bbc/tech/172.txt\n",
            "/content/drive/MyDrive/bbc/tech/154.txt\n",
            "/content/drive/MyDrive/bbc/tech/141.txt\n",
            "/content/drive/MyDrive/bbc/tech/166.txt\n",
            "/content/drive/MyDrive/bbc/tech/176.txt\n",
            "/content/drive/MyDrive/bbc/tech/178.txt\n"
          ],
          "name": "stdout"
        },
        {
          "output_type": "stream",
          "text": [
            "Skipping line 7: '\t' expected after '\"'\n"
          ],
          "name": "stderr"
        },
        {
          "output_type": "stream",
          "text": [
            "/content/drive/MyDrive/bbc/tech/143.txt\n",
            "/content/drive/MyDrive/bbc/tech/163.txt\n",
            "/content/drive/MyDrive/bbc/tech/140.txt\n",
            "/content/drive/MyDrive/bbc/tech/168.txt\n"
          ],
          "name": "stdout"
        },
        {
          "output_type": "stream",
          "text": [
            "Skipping line 9: '\t' expected after '\"'\n",
            "Skipping line 13: '\t' expected after '\"'\n"
          ],
          "name": "stderr"
        },
        {
          "output_type": "stream",
          "text": [
            "/content/drive/MyDrive/bbc/tech/177.txt\n",
            "/content/drive/MyDrive/bbc/tech/167.txt\n",
            "/content/drive/MyDrive/bbc/tech/146.txt\n",
            "/content/drive/MyDrive/bbc/tech/170.txt\n",
            "/content/drive/MyDrive/bbc/tech/171.txt\n",
            "/content/drive/MyDrive/bbc/tech/147.txt\n",
            "/content/drive/MyDrive/bbc/tech/173.txt\n",
            "/content/drive/MyDrive/bbc/tech/161.txt\n"
          ],
          "name": "stdout"
        },
        {
          "output_type": "stream",
          "text": [
            "Skipping line 13: '\t' expected after '\"'\n"
          ],
          "name": "stderr"
        },
        {
          "output_type": "stream",
          "text": [
            "/content/drive/MyDrive/bbc/tech/157.txt\n"
          ],
          "name": "stdout"
        },
        {
          "output_type": "stream",
          "text": [
            "Skipping line 9: '\t' expected after '\"'\n",
            "Skipping line 13: '\t' expected after '\"'\n"
          ],
          "name": "stderr"
        },
        {
          "output_type": "stream",
          "text": [
            "/content/drive/MyDrive/bbc/tech/164.txt\n",
            "/content/drive/MyDrive/bbc/tech/148.txt\n"
          ],
          "name": "stdout"
        },
        {
          "output_type": "stream",
          "text": [
            "Skipping line 7: '\t' expected after '\"'\n"
          ],
          "name": "stderr"
        },
        {
          "output_type": "stream",
          "text": [
            "/content/drive/MyDrive/bbc/tech/151.txt\n",
            "/content/drive/MyDrive/bbc/tech/174.txt\n",
            "/content/drive/MyDrive/bbc/tech/158.txt\n",
            "/content/drive/MyDrive/bbc/tech/142.txt\n"
          ],
          "name": "stdout"
        },
        {
          "output_type": "stream",
          "text": [
            "Skipping line 9: '\t' expected after '\"'\n"
          ],
          "name": "stderr"
        },
        {
          "output_type": "stream",
          "text": [
            "/content/drive/MyDrive/bbc/tech/150.txt\n",
            "/content/drive/MyDrive/bbc/tech/149.txt\n",
            "/content/drive/MyDrive/bbc/tech/169.txt\n",
            "/content/drive/MyDrive/bbc/tech/159.txt\n",
            "/content/drive/MyDrive/bbc/tech/162.txt\n",
            "/content/drive/MyDrive/bbc/tech/155.txt\n",
            "/content/drive/MyDrive/bbc/tech/156.txt\n"
          ],
          "name": "stdout"
        },
        {
          "output_type": "stream",
          "text": [
            "Skipping line 7: '\t' expected after '\"'\n",
            "Skipping line 15: '\t' expected after '\"'\n"
          ],
          "name": "stderr"
        },
        {
          "output_type": "stream",
          "text": [
            "/content/drive/MyDrive/bbc/tech/165.txt\n",
            "/content/drive/MyDrive/bbc/tech/145.txt\n",
            "/content/drive/MyDrive/bbc/tech/216.txt\n",
            "/content/drive/MyDrive/bbc/tech/192.txt\n"
          ],
          "name": "stdout"
        },
        {
          "output_type": "stream",
          "text": [
            "Skipping line 11: '\t' expected after '\"'\n"
          ],
          "name": "stderr"
        },
        {
          "output_type": "stream",
          "text": [
            "/content/drive/MyDrive/bbc/tech/202.txt\n",
            "/content/drive/MyDrive/bbc/tech/179.txt\n",
            "/content/drive/MyDrive/bbc/tech/207.txt\n"
          ],
          "name": "stdout"
        },
        {
          "output_type": "stream",
          "text": [
            "Skipping line 9: '\t' expected after '\"'\n",
            "Skipping line 9: '\t' expected after '\"'\n"
          ],
          "name": "stderr"
        },
        {
          "output_type": "stream",
          "text": [
            "/content/drive/MyDrive/bbc/tech/206.txt\n",
            "/content/drive/MyDrive/bbc/tech/214.txt\n",
            "/content/drive/MyDrive/bbc/tech/199.txt\n",
            "/content/drive/MyDrive/bbc/tech/190.txt\n"
          ],
          "name": "stdout"
        },
        {
          "output_type": "stream",
          "text": [
            "Skipping line 15: '\t' expected after '\"'\n"
          ],
          "name": "stderr"
        },
        {
          "output_type": "stream",
          "text": [
            "/content/drive/MyDrive/bbc/tech/187.txt\n",
            "/content/drive/MyDrive/bbc/tech/218.txt\n",
            "/content/drive/MyDrive/bbc/tech/200.txt\n"
          ],
          "name": "stdout"
        },
        {
          "output_type": "stream",
          "text": [
            "Skipping line 11: '\t' expected after '\"'\n"
          ],
          "name": "stderr"
        },
        {
          "output_type": "stream",
          "text": [
            "/content/drive/MyDrive/bbc/tech/210.txt\n",
            "/content/drive/MyDrive/bbc/tech/182.txt\n"
          ],
          "name": "stdout"
        },
        {
          "output_type": "stream",
          "text": [
            "Skipping line 9: '\t' expected after '\"'\n"
          ],
          "name": "stderr"
        },
        {
          "output_type": "stream",
          "text": [
            "/content/drive/MyDrive/bbc/tech/197.txt\n",
            "/content/drive/MyDrive/bbc/tech/191.txt\n",
            "/content/drive/MyDrive/bbc/tech/213.txt\n",
            "/content/drive/MyDrive/bbc/tech/209.txt\n",
            "/content/drive/MyDrive/bbc/tech/198.txt\n",
            "/content/drive/MyDrive/bbc/tech/194.txt\n",
            "/content/drive/MyDrive/bbc/tech/211.txt\n",
            "/content/drive/MyDrive/bbc/tech/204.txt\n",
            "/content/drive/MyDrive/bbc/tech/208.txt\n",
            "/content/drive/MyDrive/bbc/tech/189.txt\n"
          ],
          "name": "stdout"
        },
        {
          "output_type": "stream",
          "text": [
            "Skipping line 7: '\t' expected after '\"'\n",
            "Skipping line 9: '\t' expected after '\"'\n"
          ],
          "name": "stderr"
        },
        {
          "output_type": "stream",
          "text": [
            "/content/drive/MyDrive/bbc/tech/180.txt\n",
            "/content/drive/MyDrive/bbc/tech/195.txt\n",
            "/content/drive/MyDrive/bbc/tech/217.txt\n",
            "/content/drive/MyDrive/bbc/tech/215.txt\n",
            "/content/drive/MyDrive/bbc/tech/183.txt\n"
          ],
          "name": "stdout"
        },
        {
          "output_type": "stream",
          "text": [
            "Skipping line 9: '\t' expected after '\"'\n"
          ],
          "name": "stderr"
        },
        {
          "output_type": "stream",
          "text": [
            "/content/drive/MyDrive/bbc/tech/181.txt\n",
            "/content/drive/MyDrive/bbc/tech/219.txt\n",
            "/content/drive/MyDrive/bbc/tech/201.txt\n"
          ],
          "name": "stdout"
        },
        {
          "output_type": "stream",
          "text": [
            "Skipping line 15: '\t' expected after '\"'\n"
          ],
          "name": "stderr"
        },
        {
          "output_type": "stream",
          "text": [
            "/content/drive/MyDrive/bbc/tech/188.txt\n",
            "/content/drive/MyDrive/bbc/tech/203.txt\n",
            "/content/drive/MyDrive/bbc/tech/184.txt\n",
            "/content/drive/MyDrive/bbc/tech/185.txt\n",
            "/content/drive/MyDrive/bbc/tech/186.txt\n"
          ],
          "name": "stdout"
        },
        {
          "output_type": "stream",
          "text": [
            "Skipping line 11: '\t' expected after '\"'\n"
          ],
          "name": "stderr"
        },
        {
          "output_type": "stream",
          "text": [
            "/content/drive/MyDrive/bbc/tech/212.txt\n",
            "/content/drive/MyDrive/bbc/tech/196.txt\n",
            "/content/drive/MyDrive/bbc/tech/193.txt\n",
            "/content/drive/MyDrive/bbc/tech/205.txt\n",
            "/content/drive/MyDrive/bbc/tech/220.txt\n"
          ],
          "name": "stdout"
        },
        {
          "output_type": "stream",
          "text": [
            "Skipping line 9: '\t' expected after '\"'\n",
            "Skipping line 13: '\t' expected after '\"'\n"
          ],
          "name": "stderr"
        },
        {
          "output_type": "stream",
          "text": [
            "/content/drive/MyDrive/bbc/tech/238.txt\n",
            "/content/drive/MyDrive/bbc/tech/266.txt\n",
            "/content/drive/MyDrive/bbc/tech/228.txt\n",
            "/content/drive/MyDrive/bbc/tech/246.txt\n",
            "/content/drive/MyDrive/bbc/tech/222.txt\n"
          ],
          "name": "stdout"
        },
        {
          "output_type": "stream",
          "text": [
            "Skipping line 13: '\t' expected after '\"'\n"
          ],
          "name": "stderr"
        },
        {
          "output_type": "stream",
          "text": [
            "/content/drive/MyDrive/bbc/tech/247.txt\n",
            "/content/drive/MyDrive/bbc/tech/235.txt\n",
            "/content/drive/MyDrive/bbc/tech/261.txt\n",
            "/content/drive/MyDrive/bbc/tech/224.txt\n",
            "/content/drive/MyDrive/bbc/tech/233.txt\n",
            "/content/drive/MyDrive/bbc/tech/254.txt\n",
            "/content/drive/MyDrive/bbc/tech/230.txt\n",
            "/content/drive/MyDrive/bbc/tech/256.txt\n"
          ],
          "name": "stdout"
        },
        {
          "output_type": "stream",
          "text": [
            "Skipping line 9: '\t' expected after '\"'\n"
          ],
          "name": "stderr"
        },
        {
          "output_type": "stream",
          "text": [
            "/content/drive/MyDrive/bbc/tech/253.txt\n"
          ],
          "name": "stdout"
        },
        {
          "output_type": "stream",
          "text": [
            "Skipping line 17: '\t' expected after '\"'\n"
          ],
          "name": "stderr"
        },
        {
          "output_type": "stream",
          "text": [
            "/content/drive/MyDrive/bbc/tech/263.txt\n"
          ],
          "name": "stdout"
        },
        {
          "output_type": "stream",
          "text": [
            "Skipping line 7: '\t' expected after '\"'\n"
          ],
          "name": "stderr"
        },
        {
          "output_type": "stream",
          "text": [
            "/content/drive/MyDrive/bbc/tech/249.txt\n"
          ],
          "name": "stdout"
        },
        {
          "output_type": "stream",
          "text": [
            "Skipping line 7: '\t' expected after '\"'\n"
          ],
          "name": "stderr"
        },
        {
          "output_type": "stream",
          "text": [
            "/content/drive/MyDrive/bbc/tech/226.txt\n",
            "/content/drive/MyDrive/bbc/tech/252.txt\n",
            "/content/drive/MyDrive/bbc/tech/260.txt\n"
          ],
          "name": "stdout"
        },
        {
          "output_type": "stream",
          "text": [
            "Skipping line 11: '\t' expected after '\"'\n"
          ],
          "name": "stderr"
        },
        {
          "output_type": "stream",
          "text": [
            "/content/drive/MyDrive/bbc/tech/257.txt\n",
            "/content/drive/MyDrive/bbc/tech/248.txt\n",
            "/content/drive/MyDrive/bbc/tech/259.txt\n",
            "/content/drive/MyDrive/bbc/tech/241.txt\n",
            "/content/drive/MyDrive/bbc/tech/229.txt\n"
          ],
          "name": "stdout"
        },
        {
          "output_type": "stream",
          "text": [
            "Skipping line 15: '\t' expected after '\"'\n"
          ],
          "name": "stderr"
        },
        {
          "output_type": "stream",
          "text": [
            "/content/drive/MyDrive/bbc/tech/237.txt\n"
          ],
          "name": "stdout"
        },
        {
          "output_type": "stream",
          "text": [
            "Skipping line 7: '\t' expected after '\"'\n",
            "Skipping line 7: '\t' expected after '\"'\n"
          ],
          "name": "stderr"
        },
        {
          "output_type": "stream",
          "text": [
            "/content/drive/MyDrive/bbc/tech/227.txt\n",
            "/content/drive/MyDrive/bbc/tech/242.txt\n",
            "/content/drive/MyDrive/bbc/tech/236.txt\n"
          ],
          "name": "stdout"
        },
        {
          "output_type": "stream",
          "text": [
            "Skipping line 7: '\t' expected after '\"'\n",
            "Skipping line 13: '\t' expected after '\"'\n"
          ],
          "name": "stderr"
        },
        {
          "output_type": "stream",
          "text": [
            "/content/drive/MyDrive/bbc/tech/240.txt\n",
            "/content/drive/MyDrive/bbc/tech/264.txt\n",
            "/content/drive/MyDrive/bbc/tech/221.txt\n",
            "/content/drive/MyDrive/bbc/tech/245.txt\n",
            "/content/drive/MyDrive/bbc/tech/258.txt\n",
            "/content/drive/MyDrive/bbc/tech/262.txt\n",
            "/content/drive/MyDrive/bbc/tech/243.txt\n",
            "/content/drive/MyDrive/bbc/tech/244.txt\n",
            "/content/drive/MyDrive/bbc/tech/265.txt\n",
            "/content/drive/MyDrive/bbc/tech/250.txt\n",
            "/content/drive/MyDrive/bbc/tech/231.txt\n",
            "/content/drive/MyDrive/bbc/tech/255.txt\n",
            "/content/drive/MyDrive/bbc/tech/232.txt\n",
            "/content/drive/MyDrive/bbc/tech/234.txt\n"
          ],
          "name": "stdout"
        },
        {
          "output_type": "stream",
          "text": [
            "Skipping line 7: '\t' expected after '\"'\n"
          ],
          "name": "stderr"
        },
        {
          "output_type": "stream",
          "text": [
            "/content/drive/MyDrive/bbc/tech/251.txt\n",
            "/content/drive/MyDrive/bbc/tech/223.txt\n",
            "/content/drive/MyDrive/bbc/tech/225.txt\n",
            "/content/drive/MyDrive/bbc/tech/239.txt\n",
            "/content/drive/MyDrive/bbc/tech/314.txt\n",
            "/content/drive/MyDrive/bbc/tech/276.txt\n"
          ],
          "name": "stdout"
        },
        {
          "output_type": "stream",
          "text": [
            "Skipping line 9: '\t' expected after '\"'\n",
            "Skipping line 11: '\t' expected after '\"'\n",
            "Skipping line 11: '\t' expected after '\"'\n"
          ],
          "name": "stderr"
        },
        {
          "output_type": "stream",
          "text": [
            "/content/drive/MyDrive/bbc/tech/297.txt\n",
            "/content/drive/MyDrive/bbc/tech/277.txt\n"
          ],
          "name": "stdout"
        },
        {
          "output_type": "stream",
          "text": [
            "Skipping line 11: '\t' expected after '\"'\n"
          ],
          "name": "stderr"
        },
        {
          "output_type": "stream",
          "text": [
            "/content/drive/MyDrive/bbc/tech/296.txt\n",
            "/content/drive/MyDrive/bbc/tech/306.txt\n",
            "/content/drive/MyDrive/bbc/tech/284.txt\n",
            "/content/drive/MyDrive/bbc/tech/273.txt\n",
            "/content/drive/MyDrive/bbc/tech/279.txt\n",
            "/content/drive/MyDrive/bbc/tech/267.txt\n",
            "/content/drive/MyDrive/bbc/tech/294.txt\n"
          ],
          "name": "stdout"
        },
        {
          "output_type": "stream",
          "text": [
            "Skipping line 7: '\t' expected after '\"'\n",
            "Skipping line 15: '\t' expected after '\"'\n"
          ],
          "name": "stderr"
        },
        {
          "output_type": "stream",
          "text": [
            "/content/drive/MyDrive/bbc/tech/280.txt\n"
          ],
          "name": "stdout"
        },
        {
          "output_type": "stream",
          "text": [
            "Skipping line 7: '\t' expected after '\"'\n",
            "Skipping line 11: '\t' expected after '\"'\n"
          ],
          "name": "stderr"
        },
        {
          "output_type": "stream",
          "text": [
            "/content/drive/MyDrive/bbc/tech/311.txt\n",
            "/content/drive/MyDrive/bbc/tech/291.txt\n",
            "/content/drive/MyDrive/bbc/tech/278.txt\n",
            "/content/drive/MyDrive/bbc/tech/283.txt\n",
            "/content/drive/MyDrive/bbc/tech/274.txt\n",
            "/content/drive/MyDrive/bbc/tech/287.txt\n",
            "/content/drive/MyDrive/bbc/tech/289.txt\n"
          ],
          "name": "stdout"
        },
        {
          "output_type": "stream",
          "text": [
            "Skipping line 9: '\t' expected after '\"'\n",
            "Skipping line 7: '\t' expected after '\"'\n"
          ],
          "name": "stderr"
        },
        {
          "output_type": "stream",
          "text": [
            "/content/drive/MyDrive/bbc/tech/312.txt\n",
            "/content/drive/MyDrive/bbc/tech/308.txt\n",
            "/content/drive/MyDrive/bbc/tech/275.txt\n",
            "/content/drive/MyDrive/bbc/tech/268.txt\n"
          ],
          "name": "stdout"
        },
        {
          "output_type": "stream",
          "text": [
            "Skipping line 9: '\t' expected after '\"'\n",
            "Skipping line 13: '\t' expected after '\"'\n"
          ],
          "name": "stderr"
        },
        {
          "output_type": "stream",
          "text": [
            "/content/drive/MyDrive/bbc/tech/304.txt\n",
            "/content/drive/MyDrive/bbc/tech/286.txt\n"
          ],
          "name": "stdout"
        },
        {
          "output_type": "stream",
          "text": [
            "Skipping line 15: '\t' expected after '\"'\n"
          ],
          "name": "stderr"
        },
        {
          "output_type": "stream",
          "text": [
            "/content/drive/MyDrive/bbc/tech/302.txt\n",
            "/content/drive/MyDrive/bbc/tech/295.txt\n",
            "/content/drive/MyDrive/bbc/tech/309.txt\n",
            "/content/drive/MyDrive/bbc/tech/282.txt\n"
          ],
          "name": "stdout"
        },
        {
          "output_type": "stream",
          "text": [
            "Skipping line 5: '\t' expected after '\"'\n",
            "Skipping line 15: '\t' expected after '\"'\n",
            "Skipping line 17: '\t' expected after '\"'\n"
          ],
          "name": "stderr"
        },
        {
          "output_type": "stream",
          "text": [
            "/content/drive/MyDrive/bbc/tech/272.txt\n",
            "/content/drive/MyDrive/bbc/tech/293.txt\n",
            "/content/drive/MyDrive/bbc/tech/301.txt\n"
          ],
          "name": "stdout"
        },
        {
          "output_type": "stream",
          "text": [
            "Skipping line 21: '\t' expected after '\"'\n",
            "Skipping line 37: '\t' expected after '\"'\n",
            "Skipping line 69: '\t' expected after '\"'\n"
          ],
          "name": "stderr"
        },
        {
          "output_type": "stream",
          "text": [
            "/content/drive/MyDrive/bbc/tech/285.txt\n",
            "/content/drive/MyDrive/bbc/tech/271.txt\n",
            "/content/drive/MyDrive/bbc/tech/298.txt\n",
            "/content/drive/MyDrive/bbc/tech/292.txt\n"
          ],
          "name": "stdout"
        },
        {
          "output_type": "stream",
          "text": [
            "Skipping line 7: '\t' expected after '\"'\n"
          ],
          "name": "stderr"
        },
        {
          "output_type": "stream",
          "text": [
            "/content/drive/MyDrive/bbc/tech/270.txt\n",
            "/content/drive/MyDrive/bbc/tech/300.txt\n"
          ],
          "name": "stdout"
        },
        {
          "output_type": "stream",
          "text": [
            "Skipping line 7: '\t' expected after '\"'\n",
            "Skipping line 11: '\t' expected after '\"'\n"
          ],
          "name": "stderr"
        },
        {
          "output_type": "stream",
          "text": [
            "/content/drive/MyDrive/bbc/tech/315.txt\n",
            "/content/drive/MyDrive/bbc/tech/290.txt\n",
            "/content/drive/MyDrive/bbc/tech/288.txt\n",
            "/content/drive/MyDrive/bbc/tech/281.txt\n",
            "/content/drive/MyDrive/bbc/tech/307.txt\n",
            "/content/drive/MyDrive/bbc/tech/269.txt\n",
            "/content/drive/MyDrive/bbc/tech/313.txt\n",
            "/content/drive/MyDrive/bbc/tech/305.txt\n"
          ],
          "name": "stdout"
        },
        {
          "output_type": "stream",
          "text": [
            "Skipping line 7: '\t' expected after '\"'\n",
            "Skipping line 15: '\t' expected after '\"'\n"
          ],
          "name": "stderr"
        },
        {
          "output_type": "stream",
          "text": [
            "/content/drive/MyDrive/bbc/tech/310.txt\n",
            "/content/drive/MyDrive/bbc/tech/299.txt\n",
            "/content/drive/MyDrive/bbc/tech/303.txt\n",
            "/content/drive/MyDrive/bbc/tech/341.txt\n"
          ],
          "name": "stdout"
        },
        {
          "output_type": "stream",
          "text": [
            "Skipping line 9: '\t' expected after '\"'\n"
          ],
          "name": "stderr"
        },
        {
          "output_type": "stream",
          "text": [
            "/content/drive/MyDrive/bbc/tech/339.txt\n",
            "/content/drive/MyDrive/bbc/tech/319.txt\n",
            "/content/drive/MyDrive/bbc/tech/337.txt\n"
          ],
          "name": "stdout"
        },
        {
          "output_type": "stream",
          "text": [
            "Skipping line 13: '\t' expected after '\"'\n",
            "Skipping line 9: '\t' expected after '\"'\n"
          ],
          "name": "stderr"
        },
        {
          "output_type": "stream",
          "text": [
            "/content/drive/MyDrive/bbc/tech/326.txt\n",
            "/content/drive/MyDrive/bbc/tech/360.txt\n"
          ],
          "name": "stdout"
        },
        {
          "output_type": "stream",
          "text": [
            "Skipping line 7: '\t' expected after '\"'\n"
          ],
          "name": "stderr"
        },
        {
          "output_type": "stream",
          "text": [
            "/content/drive/MyDrive/bbc/tech/355.txt\n",
            "/content/drive/MyDrive/bbc/tech/343.txt\n",
            "/content/drive/MyDrive/bbc/tech/340.txt\n"
          ],
          "name": "stdout"
        },
        {
          "output_type": "stream",
          "text": [
            "Skipping line 9: '\t' expected after '\"'\n"
          ],
          "name": "stderr"
        },
        {
          "output_type": "stream",
          "text": [
            "/content/drive/MyDrive/bbc/tech/320.txt\n",
            "/content/drive/MyDrive/bbc/tech/338.txt\n",
            "/content/drive/MyDrive/bbc/tech/335.txt\n"
          ],
          "name": "stdout"
        },
        {
          "output_type": "stream",
          "text": [
            "Skipping line 7: '\t' expected after '\"'\n",
            "Skipping line 13: '\t' expected after '\"'\n",
            "Skipping line 7: '\t' expected after '\"'\n",
            "Skipping line 9: '\t' expected after '\"'\n"
          ],
          "name": "stderr"
        },
        {
          "output_type": "stream",
          "text": [
            "/content/drive/MyDrive/bbc/tech/349.txt\n"
          ],
          "name": "stdout"
        },
        {
          "output_type": "stream",
          "text": [
            "Skipping line 7: '\t' expected after '\"'\n",
            "Skipping line 15: '\t' expected after '\"'\n"
          ],
          "name": "stderr"
        },
        {
          "output_type": "stream",
          "text": [
            "/content/drive/MyDrive/bbc/tech/351.txt\n",
            "/content/drive/MyDrive/bbc/tech/331.txt\n",
            "/content/drive/MyDrive/bbc/tech/354.txt\n"
          ],
          "name": "stdout"
        },
        {
          "output_type": "stream",
          "text": [
            "Skipping line 17: '\t' expected after '\"'\n"
          ],
          "name": "stderr"
        },
        {
          "output_type": "stream",
          "text": [
            "/content/drive/MyDrive/bbc/tech/353.txt\n"
          ],
          "name": "stdout"
        },
        {
          "output_type": "stream",
          "text": [
            "Skipping line 9: '\t' expected after '\"'\n"
          ],
          "name": "stderr"
        },
        {
          "output_type": "stream",
          "text": [
            "/content/drive/MyDrive/bbc/tech/322.txt\n",
            "/content/drive/MyDrive/bbc/tech/333.txt\n",
            "/content/drive/MyDrive/bbc/tech/356.txt\n",
            "/content/drive/MyDrive/bbc/tech/321.txt\n",
            "/content/drive/MyDrive/bbc/tech/347.txt\n",
            "/content/drive/MyDrive/bbc/tech/329.txt\n"
          ],
          "name": "stdout"
        },
        {
          "output_type": "stream",
          "text": [
            "Skipping line 11: '\t' expected after '\"'\n",
            "Skipping line 7: '\t' expected after '\"'\n"
          ],
          "name": "stderr"
        },
        {
          "output_type": "stream",
          "text": [
            "/content/drive/MyDrive/bbc/tech/352.txt\n"
          ],
          "name": "stdout"
        },
        {
          "output_type": "stream",
          "text": [
            "Skipping line 7: '\t' expected after '\"'\n"
          ],
          "name": "stderr"
        },
        {
          "output_type": "stream",
          "text": [
            "/content/drive/MyDrive/bbc/tech/359.txt\n",
            "/content/drive/MyDrive/bbc/tech/348.txt\n",
            "/content/drive/MyDrive/bbc/tech/357.txt\n",
            "/content/drive/MyDrive/bbc/tech/361.txt\n",
            "/content/drive/MyDrive/bbc/tech/332.txt\n",
            "/content/drive/MyDrive/bbc/tech/344.txt\n",
            "/content/drive/MyDrive/bbc/tech/342.txt\n",
            "/content/drive/MyDrive/bbc/tech/327.txt\n",
            "/content/drive/MyDrive/bbc/tech/328.txt\n",
            "/content/drive/MyDrive/bbc/tech/318.txt\n"
          ],
          "name": "stdout"
        },
        {
          "output_type": "stream",
          "text": [
            "Skipping line 9: '\t' expected after '\"'\n",
            "Skipping line 9: '\t' expected after '\"'\n"
          ],
          "name": "stderr"
        },
        {
          "output_type": "stream",
          "text": [
            "/content/drive/MyDrive/bbc/tech/316.txt\n",
            "/content/drive/MyDrive/bbc/tech/323.txt\n"
          ],
          "name": "stdout"
        },
        {
          "output_type": "stream",
          "text": [
            "Skipping line 7: '\t' expected after '\"'\n"
          ],
          "name": "stderr"
        },
        {
          "output_type": "stream",
          "text": [
            "/content/drive/MyDrive/bbc/tech/358.txt\n",
            "/content/drive/MyDrive/bbc/tech/325.txt\n"
          ],
          "name": "stdout"
        },
        {
          "output_type": "stream",
          "text": [
            "Skipping line 7: '\t' expected after '\"'\n",
            "Skipping line 11: '\t' expected after '\"'\n"
          ],
          "name": "stderr"
        },
        {
          "output_type": "stream",
          "text": [
            "/content/drive/MyDrive/bbc/tech/350.txt\n"
          ],
          "name": "stdout"
        },
        {
          "output_type": "stream",
          "text": [
            "Skipping line 11: '\t' expected after '\"'\n"
          ],
          "name": "stderr"
        },
        {
          "output_type": "stream",
          "text": [
            "/content/drive/MyDrive/bbc/tech/317.txt\n",
            "/content/drive/MyDrive/bbc/tech/345.txt\n"
          ],
          "name": "stdout"
        },
        {
          "output_type": "stream",
          "text": [
            "Skipping line 9: '\t' expected after '\"'\n"
          ],
          "name": "stderr"
        },
        {
          "output_type": "stream",
          "text": [
            "/content/drive/MyDrive/bbc/tech/336.txt\n",
            "/content/drive/MyDrive/bbc/tech/334.txt\n",
            "/content/drive/MyDrive/bbc/tech/346.txt\n"
          ],
          "name": "stdout"
        },
        {
          "output_type": "stream",
          "text": [
            "Skipping line 7: '\t' expected after '\"'\n"
          ],
          "name": "stderr"
        },
        {
          "output_type": "stream",
          "text": [
            "/content/drive/MyDrive/bbc/tech/330.txt\n",
            "/content/drive/MyDrive/bbc/tech/324.txt\n",
            "/content/drive/MyDrive/bbc/tech/370.txt\n",
            "/content/drive/MyDrive/bbc/tech/377.txt\n",
            "/content/drive/MyDrive/bbc/tech/365.txt\n"
          ],
          "name": "stdout"
        },
        {
          "output_type": "stream",
          "text": [
            "Skipping line 7: '\t' expected after '\"'\n"
          ],
          "name": "stderr"
        },
        {
          "output_type": "stream",
          "text": [
            "/content/drive/MyDrive/bbc/tech/400.txt\n",
            "/content/drive/MyDrive/bbc/tech/394.txt\n",
            "/content/drive/MyDrive/bbc/tech/375.txt\n"
          ],
          "name": "stdout"
        },
        {
          "output_type": "stream",
          "text": [
            "Skipping line 15: '\t' expected after '\"'\n"
          ],
          "name": "stderr"
        },
        {
          "output_type": "stream",
          "text": [
            "/content/drive/MyDrive/bbc/tech/401.txt\n"
          ],
          "name": "stdout"
        },
        {
          "output_type": "stream",
          "text": [
            "Skipping line 21: '\t' expected after '\"'\n",
            "Skipping line 11: '\t' expected after '\"'\n"
          ],
          "name": "stderr"
        },
        {
          "output_type": "stream",
          "text": [
            "/content/drive/MyDrive/bbc/tech/376.txt\n",
            "/content/drive/MyDrive/bbc/tech/398.txt\n"
          ],
          "name": "stdout"
        },
        {
          "output_type": "stream",
          "text": [
            "Skipping line 7: '\t' expected after '\"'\n"
          ],
          "name": "stderr"
        },
        {
          "output_type": "stream",
          "text": [
            "/content/drive/MyDrive/bbc/tech/393.txt\n",
            "/content/drive/MyDrive/bbc/tech/383.txt\n"
          ],
          "name": "stdout"
        },
        {
          "output_type": "stream",
          "text": [
            "Skipping line 13: '\t' expected after '\"'\n",
            "Skipping line 19: '\t' expected after '\"'\n"
          ],
          "name": "stderr"
        },
        {
          "output_type": "stream",
          "text": [
            "/content/drive/MyDrive/bbc/tech/372.txt\n",
            "/content/drive/MyDrive/bbc/tech/363.txt\n"
          ],
          "name": "stdout"
        },
        {
          "output_type": "stream",
          "text": [
            "Skipping line 9: '\t' expected after '\"'\n"
          ],
          "name": "stderr"
        },
        {
          "output_type": "stream",
          "text": [
            "/content/drive/MyDrive/bbc/tech/367.txt\n"
          ],
          "name": "stdout"
        },
        {
          "output_type": "stream",
          "text": [
            "Skipping line 9: '\t' expected after '\"'\n"
          ],
          "name": "stderr"
        },
        {
          "output_type": "stream",
          "text": [
            "/content/drive/MyDrive/bbc/tech/387.txt\n",
            "/content/drive/MyDrive/bbc/tech/378.txt\n"
          ],
          "name": "stdout"
        },
        {
          "output_type": "stream",
          "text": [
            "Skipping line 9: '\t' expected after '\"'\n"
          ],
          "name": "stderr"
        },
        {
          "output_type": "stream",
          "text": [
            "/content/drive/MyDrive/bbc/tech/391.txt\n"
          ],
          "name": "stdout"
        },
        {
          "output_type": "stream",
          "text": [
            "Skipping line 15: '\t' expected after '\"'\n"
          ],
          "name": "stderr"
        },
        {
          "output_type": "stream",
          "text": [
            "/content/drive/MyDrive/bbc/tech/390.txt\n",
            "/content/drive/MyDrive/bbc/tech/389.txt\n"
          ],
          "name": "stdout"
        },
        {
          "output_type": "stream",
          "text": [
            "Skipping line 9: '\t' expected after '\"'\n"
          ],
          "name": "stderr"
        },
        {
          "output_type": "stream",
          "text": [
            "/content/drive/MyDrive/bbc/tech/380.txt\n",
            "/content/drive/MyDrive/bbc/tech/374.txt\n",
            "/content/drive/MyDrive/bbc/tech/395.txt\n"
          ],
          "name": "stdout"
        },
        {
          "output_type": "stream",
          "text": [
            "Skipping line 5: '\t' expected after '\"'\n",
            "Skipping line 15: '\t' expected after '\"'\n"
          ],
          "name": "stderr"
        },
        {
          "output_type": "stream",
          "text": [
            "/content/drive/MyDrive/bbc/tech/364.txt\n"
          ],
          "name": "stdout"
        },
        {
          "output_type": "stream",
          "text": [
            "Skipping line 11: '\t' expected after '\"'\n",
            "Skipping line 15: '\t' expected after '\"'\n"
          ],
          "name": "stderr"
        },
        {
          "output_type": "stream",
          "text": [
            "/content/drive/MyDrive/bbc/tech/379.txt\n"
          ],
          "name": "stdout"
        },
        {
          "output_type": "stream",
          "text": [
            "Skipping line 7: '\t' expected after '\"'\n",
            "Skipping line 9: '\t' expected after '\"'\n"
          ],
          "name": "stderr"
        },
        {
          "output_type": "stream",
          "text": [
            "/content/drive/MyDrive/bbc/tech/399.txt\n",
            "/content/drive/MyDrive/bbc/tech/371.txt\n"
          ],
          "name": "stdout"
        },
        {
          "output_type": "stream",
          "text": [
            "Skipping line 9: '\t' expected after '\"'\n"
          ],
          "name": "stderr"
        },
        {
          "output_type": "stream",
          "text": [
            "/content/drive/MyDrive/bbc/tech/386.txt\n"
          ],
          "name": "stdout"
        },
        {
          "output_type": "stream",
          "text": [
            "Skipping line 9: '\t' expected after '\"'\n"
          ],
          "name": "stderr"
        },
        {
          "output_type": "stream",
          "text": [
            "/content/drive/MyDrive/bbc/tech/392.txt\n",
            "/content/drive/MyDrive/bbc/tech/382.txt\n",
            "/content/drive/MyDrive/bbc/tech/381.txt\n"
          ],
          "name": "stdout"
        },
        {
          "output_type": "stream",
          "text": [
            "Skipping line 9: '\t' expected after '\"'\n",
            "Skipping line 13: '\t' expected after '\"'\n"
          ],
          "name": "stderr"
        },
        {
          "output_type": "stream",
          "text": [
            "/content/drive/MyDrive/bbc/tech/396.txt\n",
            "/content/drive/MyDrive/bbc/tech/373.txt\n",
            "/content/drive/MyDrive/bbc/tech/366.txt\n"
          ],
          "name": "stdout"
        },
        {
          "output_type": "stream",
          "text": [
            "Skipping line 5: '\t' expected after '\"'\n",
            "Skipping line 15: '\t' expected after '\"'\n"
          ],
          "name": "stderr"
        },
        {
          "output_type": "stream",
          "text": [
            "/content/drive/MyDrive/bbc/tech/384.txt\n",
            "/content/drive/MyDrive/bbc/tech/368.txt\n",
            "/content/drive/MyDrive/bbc/tech/397.txt\n",
            "/content/drive/MyDrive/bbc/tech/362.txt\n",
            "/content/drive/MyDrive/bbc/tech/369.txt\n"
          ],
          "name": "stdout"
        },
        {
          "output_type": "stream",
          "text": [
            "Skipping line 5: '\t' expected after '\"'\n",
            "Skipping line 9: '\t' expected after '\"'\n"
          ],
          "name": "stderr"
        },
        {
          "output_type": "stream",
          "text": [
            "/content/drive/MyDrive/bbc/tech/388.txt\n",
            "/content/drive/MyDrive/bbc/tech/385.txt\n"
          ],
          "name": "stdout"
        }
      ]
    },
    {
      "cell_type": "code",
      "metadata": {
        "colab": {
          "base_uri": "https://localhost:8080/",
          "height": 204
        },
        "id": "oYK5v0op_Spt",
        "outputId": "37e47183-4398-4b2b-a3b4-f08507379f07"
      },
      "source": [
        "df.head()"
      ],
      "execution_count": 110,
      "outputs": [
        {
          "output_type": "execute_result",
          "data": {
            "text/html": [
              "<div>\n",
              "<style scoped>\n",
              "    .dataframe tbody tr th:only-of-type {\n",
              "        vertical-align: middle;\n",
              "    }\n",
              "\n",
              "    .dataframe tbody tr th {\n",
              "        vertical-align: top;\n",
              "    }\n",
              "\n",
              "    .dataframe thead th {\n",
              "        text-align: right;\n",
              "    }\n",
              "</style>\n",
              "<table border=\"1\" class=\"dataframe\">\n",
              "  <thead>\n",
              "    <tr style=\"text-align: right;\">\n",
              "      <th></th>\n",
              "      <th>news</th>\n",
              "    </tr>\n",
              "  </thead>\n",
              "  <tbody>\n",
              "    <tr>\n",
              "      <th>0</th>\n",
              "      <td>Yukos unit buyer faces loan claim</td>\n",
              "    </tr>\n",
              "    <tr>\n",
              "      <th>1</th>\n",
              "      <td>The owners of embattled Russian oil giant Yuko...</td>\n",
              "    </tr>\n",
              "    <tr>\n",
              "      <th>2</th>\n",
              "      <td>State-owned Rosneft bought the Yugansk unit fo...</td>\n",
              "    </tr>\n",
              "    <tr>\n",
              "      <th>3</th>\n",
              "      <td>Rosneft officials were unavailable for comment...</td>\n",
              "    </tr>\n",
              "    <tr>\n",
              "      <th>0</th>\n",
              "      <td>Ad sales boost Time Warner profit</td>\n",
              "    </tr>\n",
              "  </tbody>\n",
              "</table>\n",
              "</div>"
            ],
            "text/plain": [
              "                                                news\n",
              "0                  Yukos unit buyer faces loan claim\n",
              "1  The owners of embattled Russian oil giant Yuko...\n",
              "2  State-owned Rosneft bought the Yugansk unit fo...\n",
              "3  Rosneft officials were unavailable for comment...\n",
              "0                  Ad sales boost Time Warner profit"
            ]
          },
          "metadata": {
            "tags": []
          },
          "execution_count": 110
        }
      ]
    },
    {
      "cell_type": "code",
      "metadata": {
        "colab": {
          "base_uri": "https://localhost:8080/"
        },
        "id": "ZLNY_205P-xL",
        "outputId": "ab547eb2-8de4-4096-dd1e-127143eeb47f"
      },
      "source": [
        "df.shape"
      ],
      "execution_count": 111,
      "outputs": [
        {
          "output_type": "execute_result",
          "data": {
            "text/plain": [
              "(55893, 1)"
            ]
          },
          "metadata": {
            "tags": []
          },
          "execution_count": 111
        }
      ]
    },
    {
      "cell_type": "code",
      "metadata": {
        "id": "dURVQcSyCVGN"
      },
      "source": [
        "df['length']=df.news.apply(len)"
      ],
      "execution_count": 112,
      "outputs": []
    },
    {
      "cell_type": "code",
      "metadata": {
        "colab": {
          "base_uri": "https://localhost:8080/",
          "height": 204
        },
        "id": "YeD-7JnyCVzm",
        "outputId": "9796cc17-90af-45c1-eae6-5153ad9c7384"
      },
      "source": [
        "df.head()\r\n"
      ],
      "execution_count": 113,
      "outputs": [
        {
          "output_type": "execute_result",
          "data": {
            "text/html": [
              "<div>\n",
              "<style scoped>\n",
              "    .dataframe tbody tr th:only-of-type {\n",
              "        vertical-align: middle;\n",
              "    }\n",
              "\n",
              "    .dataframe tbody tr th {\n",
              "        vertical-align: top;\n",
              "    }\n",
              "\n",
              "    .dataframe thead th {\n",
              "        text-align: right;\n",
              "    }\n",
              "</style>\n",
              "<table border=\"1\" class=\"dataframe\">\n",
              "  <thead>\n",
              "    <tr style=\"text-align: right;\">\n",
              "      <th></th>\n",
              "      <th>news</th>\n",
              "      <th>length</th>\n",
              "    </tr>\n",
              "  </thead>\n",
              "  <tbody>\n",
              "    <tr>\n",
              "      <th>0</th>\n",
              "      <td>Yukos unit buyer faces loan claim</td>\n",
              "      <td>33</td>\n",
              "    </tr>\n",
              "    <tr>\n",
              "      <th>1</th>\n",
              "      <td>The owners of embattled Russian oil giant Yuko...</td>\n",
              "      <td>132</td>\n",
              "    </tr>\n",
              "    <tr>\n",
              "      <th>2</th>\n",
              "      <td>State-owned Rosneft bought the Yugansk unit fo...</td>\n",
              "      <td>802</td>\n",
              "    </tr>\n",
              "    <tr>\n",
              "      <th>3</th>\n",
              "      <td>Rosneft officials were unavailable for comment...</td>\n",
              "      <td>577</td>\n",
              "    </tr>\n",
              "    <tr>\n",
              "      <th>0</th>\n",
              "      <td>Ad sales boost Time Warner profit</td>\n",
              "      <td>33</td>\n",
              "    </tr>\n",
              "  </tbody>\n",
              "</table>\n",
              "</div>"
            ],
            "text/plain": [
              "                                                news  length\n",
              "0                  Yukos unit buyer faces loan claim      33\n",
              "1  The owners of embattled Russian oil giant Yuko...     132\n",
              "2  State-owned Rosneft bought the Yugansk unit fo...     802\n",
              "3  Rosneft officials were unavailable for comment...     577\n",
              "0                  Ad sales boost Time Warner profit      33"
            ]
          },
          "metadata": {
            "tags": []
          },
          "execution_count": 113
        }
      ]
    },
    {
      "cell_type": "code",
      "metadata": {
        "colab": {
          "base_uri": "https://localhost:8080/"
        },
        "id": "ScwbomySYH7z",
        "outputId": "a46f817a-bfcf-4fcc-ee0e-f57fc2fd4de2"
      },
      "source": [
        "df.info()"
      ],
      "execution_count": 114,
      "outputs": [
        {
          "output_type": "stream",
          "text": [
            "<class 'pandas.core.frame.DataFrame'>\n",
            "Int64Index: 55893 entries, 0 to 3\n",
            "Data columns (total 2 columns):\n",
            " #   Column  Non-Null Count  Dtype \n",
            "---  ------  --------------  ----- \n",
            " 0   news    55893 non-null  object\n",
            " 1   length  55893 non-null  int64 \n",
            "dtypes: int64(1), object(1)\n",
            "memory usage: 1.3+ MB\n"
          ],
          "name": "stdout"
        }
      ]
    },
    {
      "cell_type": "code",
      "metadata": {
        "colab": {
          "base_uri": "https://localhost:8080/",
          "height": 390
        },
        "id": "4iqjHprlYLJC",
        "outputId": "7e4d40a6-0c2e-47eb-b180-4219829ed9a1"
      },
      "source": [
        "df.describe(include='all')"
      ],
      "execution_count": 115,
      "outputs": [
        {
          "output_type": "execute_result",
          "data": {
            "text/html": [
              "<div>\n",
              "<style scoped>\n",
              "    .dataframe tbody tr th:only-of-type {\n",
              "        vertical-align: middle;\n",
              "    }\n",
              "\n",
              "    .dataframe tbody tr th {\n",
              "        vertical-align: top;\n",
              "    }\n",
              "\n",
              "    .dataframe thead th {\n",
              "        text-align: right;\n",
              "    }\n",
              "</style>\n",
              "<table border=\"1\" class=\"dataframe\">\n",
              "  <thead>\n",
              "    <tr style=\"text-align: right;\">\n",
              "      <th></th>\n",
              "      <th>news</th>\n",
              "      <th>length</th>\n",
              "    </tr>\n",
              "  </thead>\n",
              "  <tbody>\n",
              "    <tr>\n",
              "      <th>count</th>\n",
              "      <td>55893</td>\n",
              "      <td>55893.000000</td>\n",
              "    </tr>\n",
              "    <tr>\n",
              "      <th>unique</th>\n",
              "      <td>12516</td>\n",
              "      <td>NaN</td>\n",
              "    </tr>\n",
              "    <tr>\n",
              "      <th>top</th>\n",
              "      <td>I would keep Gerrard. No amount of money could...</td>\n",
              "      <td>NaN</td>\n",
              "    </tr>\n",
              "    <tr>\n",
              "      <th>freq</th>\n",
              "      <td>18</td>\n",
              "      <td>NaN</td>\n",
              "    </tr>\n",
              "    <tr>\n",
              "      <th>mean</th>\n",
              "      <td>NaN</td>\n",
              "      <td>376.636234</td>\n",
              "    </tr>\n",
              "    <tr>\n",
              "      <th>std</th>\n",
              "      <td>NaN</td>\n",
              "      <td>336.691972</td>\n",
              "    </tr>\n",
              "    <tr>\n",
              "      <th>min</th>\n",
              "      <td>NaN</td>\n",
              "      <td>1.000000</td>\n",
              "    </tr>\n",
              "    <tr>\n",
              "      <th>25%</th>\n",
              "      <td>NaN</td>\n",
              "      <td>104.000000</td>\n",
              "    </tr>\n",
              "    <tr>\n",
              "      <th>50%</th>\n",
              "      <td>NaN</td>\n",
              "      <td>310.000000</td>\n",
              "    </tr>\n",
              "    <tr>\n",
              "      <th>75%</th>\n",
              "      <td>NaN</td>\n",
              "      <td>607.000000</td>\n",
              "    </tr>\n",
              "    <tr>\n",
              "      <th>max</th>\n",
              "      <td>NaN</td>\n",
              "      <td>2572.000000</td>\n",
              "    </tr>\n",
              "  </tbody>\n",
              "</table>\n",
              "</div>"
            ],
            "text/plain": [
              "                                                     news        length\n",
              "count                                               55893  55893.000000\n",
              "unique                                              12516           NaN\n",
              "top     I would keep Gerrard. No amount of money could...           NaN\n",
              "freq                                                   18           NaN\n",
              "mean                                                  NaN    376.636234\n",
              "std                                                   NaN    336.691972\n",
              "min                                                   NaN      1.000000\n",
              "25%                                                   NaN    104.000000\n",
              "50%                                                   NaN    310.000000\n",
              "75%                                                   NaN    607.000000\n",
              "max                                                   NaN   2572.000000"
            ]
          },
          "metadata": {
            "tags": []
          },
          "execution_count": 115
        }
      ]
    },
    {
      "cell_type": "code",
      "metadata": {
        "colab": {
          "base_uri": "https://localhost:8080/",
          "height": 628
        },
        "id": "VYwwZDObYoF_",
        "outputId": "f6d77c98-753a-4d75-f583-1c6ec337d0f8"
      },
      "source": [
        "plt.rcParams['figure.figsize']=(20,10)\r\n",
        "sns.histplot(df['length'],bins=50)"
      ],
      "execution_count": 125,
      "outputs": [
        {
          "output_type": "execute_result",
          "data": {
            "text/plain": [
              "<matplotlib.axes._subplots.AxesSubplot at 0x7f3b1362e470>"
            ]
          },
          "metadata": {
            "tags": []
          },
          "execution_count": 125
        },
        {
          "output_type": "display_data",
          "data": {
            "image/png": "[encoded data removed]",
            "text/plain": [
              "<Figure size 1440x720 with 1 Axes>"
            ]
          },
          "metadata": {
            "tags": []
          }
        }
      ]
    },
    {
      "cell_type": "code",
      "metadata": {
        "colab": {
          "base_uri": "https://localhost:8080/"
        },
        "id": "cYqraL_zYP36",
        "outputId": "0424699a-f55d-4637-dfe6-33689f975913"
      },
      "source": [
        "df[df['length']==2572]['news']"
      ],
      "execution_count": 118,
      "outputs": [
        {
          "output_type": "execute_result",
          "data": {
            "text/plain": [
              "5    These \"smart fabrics\" have come about through ...\n",
              "Name: news, dtype: object"
            ]
          },
          "metadata": {
            "tags": []
          },
          "execution_count": 118
        }
      ]
    },
    {
      "cell_type": "code",
      "metadata": {
        "id": "IJpm2zj5YaJe"
      },
      "source": [
        ""
      ],
      "execution_count": null,
      "outputs": []
    }
  ]
}